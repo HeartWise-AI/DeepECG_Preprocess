{
 "cells": [
  {
   "cell_type": "code",
   "execution_count": 2,
   "metadata": {},
   "outputs": [
    {
     "data": {
      "text/html": [
       "<style>.container { width:100% !important; }</style>"
      ],
      "text/plain": [
       "<IPython.core.display.HTML object>"
      ]
     },
     "metadata": {},
     "output_type": "display_data"
    }
   ],
   "source": [
    "import numpy as np\n",
    "import pandas as pd\n",
    "\n",
    "# pd.set_option('display.height', 1000)\n",
    "pd.set_option(\"display.max_rows\", 500)\n",
    "pd.set_option(\"display.max_columns\", 500)\n",
    "pd.set_option(\"display.width\", 1000)\n",
    "pd.set_option(\"max_colwidth\", 200)\n",
    "from IPython.core.display import HTML, display\n",
    "\n",
    "display(HTML(\"<style>.container { width:100% !important; }</style>\"))\n",
    "\n",
    "\n",
    "import os\n",
    "\n",
    "os.environ[\"R_HOME\"] = \"/root/miniconda3/envs/R/lib/R\"\n",
    "\n",
    "import rpy2.robjects as objects\n",
    "from rpy2.robjects.packages import importr\n",
    "\n",
    "base = importr(\"base\")\n",
    "r_pROC = importr(\"pROC\")\n",
    "base._libPaths()[0]\n",
    "\n",
    "\n",
    "def df_stats(df):\n",
    "    from tabulate import tabulate\n",
    "\n",
    "    print(\"\\n***** Shape: \", df.shape, \" *****\\n\")\n",
    "\n",
    "    columns_list = df.columns.values.tolist()\n",
    "    isnull_list = df.isnull().sum().values.tolist()\n",
    "    isunique_list = df.nunique().values.tolist()\n",
    "    dtypes_list = df.dtypes.tolist()\n",
    "\n",
    "    list_stat_val = list(zip(columns_list, isnull_list, isunique_list, dtypes_list))\n",
    "    df_stat_val = pd.DataFrame(\n",
    "        list_stat_val, columns=[\"Name\", \"Null\", \"Unique\", \"Dtypes\"]\n",
    "    )\n",
    "    print(tabulate(df_stat_val, headers=\"keys\", tablefmt=\"psql\"))\n",
    "    return df.head()"
   ]
  },
  {
   "cell_type": "code",
   "execution_count": 3,
   "metadata": {},
   "outputs": [],
   "source": [
    "# this is muse_xml_to_array.py\n",
    "# Input a directory of XML files, get a directory of np arrays where each .npy is a 12-lead ecg shape 2500,12,1. So this gives you JUST the waveforms\n",
    "# Some notes, the unique ECG ID index key used in MUSE backend does not exist in the XML at least for us, so instead we use MRN_AcquisitionDTTM_PharmaUniqueECGID\n",
    "\n",
    "# In terminal run python3 muse_xml_to_array.py <LOCATION_OF_XML_FILES>\n",
    "\n",
    "import argparse\n",
    "import base64\n",
    "import os\n",
    "import struct\n",
    "import sys\n",
    "\n",
    "import numpy as np\n",
    "import pandas as pd\n",
    "import xmltodict\n",
    "\n",
    "\n",
    "def file_path(path):\n",
    "    filepath = path\n",
    "    for dirName, subdirList, fileList in os.walk(filepath):\n",
    "        for filename in fileList:\n",
    "            if \".xml\" in filename.lower():\n",
    "                ekg_file_list.append(os.path.join(dirName, filename))\n",
    "\n",
    "\n",
    "# need to update this function to check the output directory for the output file and then only on newly added EKGs\n",
    "# add timestamp to start file string\n",
    "# this is annoying because the XML file name is a random timestamp and the output file is the UniqueECGID\n",
    "\n",
    "\n",
    "if not os.path.exists(os.getcwd() + \"/ekg_waveforms_output/\"):\n",
    "    os.mkdir(os.getcwd() + \"/ekg_waveforms_output/\")\n",
    "\n",
    "# parser = argparse.ArgumentParser(description='Input and outputs for XML EKG parsing')\n",
    "# parser.add_argument('input', type=str)\n",
    "# parser.set_defaults(output=os.getcwd() + '/ekg_waveforms_output/') #ensure this directory already exists\n",
    "\n",
    "# args = parser.parse_args()\n",
    "\n",
    "\n",
    "def decode_ekg_muse(raw_wave):\n",
    "    \"\"\"\n",
    "    Ingest the base64 encoded waveforms and transform to numeric\n",
    "    \"\"\"\n",
    "    # covert the waveform from base64 to byte array\n",
    "    arr = base64.b64decode(bytes(raw_wave, \"utf-8\"))\n",
    "\n",
    "    # unpack every 2 bytes, little endian (16 bit encoding)\n",
    "    unpack_symbols = \"\".join([char * (len(arr) // 2) for char in \"h\"])\n",
    "    byte_array = struct.unpack(unpack_symbols, arr)\n",
    "    return byte_array\n",
    "\n",
    "\n",
    "def decode_ekg_muse_to_array(raw_wave, downsample=1):\n",
    "    \"\"\"\n",
    "    Ingest the base64 encoded waveforms and transform to numeric\n",
    "\n",
    "    downsample: 0.5 takes every other value in the array. Muse samples at 500/s and the sample model requires 250/s. So take every other.\n",
    "    \"\"\"\n",
    "    try:\n",
    "        dwnsmpl = int(1 // downsample)\n",
    "    except ZeroDivisionError:\n",
    "        print(\"You must downsample by more than 0\")\n",
    "    # covert the waveform from base64 to byte array\n",
    "    arr = base64.b64decode(bytes(raw_wave, \"utf-8\"))\n",
    "\n",
    "    # unpack every 2 bytes, little endian (16 bit encoding)\n",
    "    unpack_symbols = \"\".join([char * int(len(arr) / 2) for char in \"h\"])\n",
    "    byte_array = struct.unpack(unpack_symbols, arr)\n",
    "    return np.array(byte_array)[::dwnsmpl]\n",
    "\n",
    "\n",
    "def xml_to_np_array_file(path_to_xml, path_to_output=os.getcwd()):\n",
    "\n",
    "    with open(path_to_xml, \"rb\") as fd:\n",
    "        dic = xmltodict.parse(fd.read().decode(\"utf8\"))\n",
    "\n",
    "    \"\"\"\n",
    "    \n",
    "    Upload the ECG as numpy array with shape=[2500,12,1] ([time, leads, 1]).\n",
    "\n",
    "    The voltage unit should be in 1 mv/unit and the sampling rate should be 250/second (total 10 second).\n",
    "\n",
    "    The leads should be ordered as follow I, II, III, aVR, aVL, aVF, V1, V2, V3, V4, V5, V6.\n",
    "\n",
    "    \"\"\"\n",
    "    # print(dic)\n",
    "    try:\n",
    "        pt_id = dic[\"RestingECG\"][\"PatientDemographics\"][\"PatientID\"]\n",
    "    except:\n",
    "        print(\"no PatientID\")\n",
    "        pt_id = \"none\"\n",
    "    try:\n",
    "        AcquisitionDateTime = (\n",
    "            dic[\"RestingECG\"][\"TestDemographics\"][\"AcquisitionDate\"]\n",
    "            + \"_\"\n",
    "            + dic[\"RestingECG\"][\"TestDemographics\"][\"AcquisitionTime\"].replace(\":\", \"-\")\n",
    "        )\n",
    "    except:\n",
    "        print(\"no AcquisitionDateTime\")\n",
    "        AcquisitionDateTime = \"none\"\n",
    "\n",
    "    # try:\n",
    "    #     requisition_number = dic['RestingECG']['Order']['RequisitionNumber']\n",
    "    # except:\n",
    "    #     print(\"no requisition_number\")\n",
    "    #     requisition_number = \"none\"\n",
    "\n",
    "    # need to instantiate leads in the proper order for the model\n",
    "    lead_order = [\n",
    "        \"I\",\n",
    "        \"II\",\n",
    "        \"III\",\n",
    "        \"aVR\",\n",
    "        \"aVL\",\n",
    "        \"aVF\",\n",
    "        \"V1\",\n",
    "        \"V2\",\n",
    "        \"V3\",\n",
    "        \"V4\",\n",
    "        \"V5\",\n",
    "        \"V6\",\n",
    "    ]\n",
    "\n",
    "    \"\"\"\n",
    "    Each EKG will have this data structure:\n",
    "    lead_data = {\n",
    "        'I': np.array\n",
    "    }\n",
    "    \"\"\"\n",
    "\n",
    "    lead_data = dict.fromkeys(lead_order)\n",
    "    # lead_data = {leadid: None for k in lead_order}\n",
    "\n",
    "    #     for all_lead_data in dic['RestingECG']['Waveform']:\n",
    "    #         for single_lead_data in lead['LeadData']:\n",
    "    #             leadname =  single_lead_data['LeadID']\n",
    "    #             if leadname in (lead_order):\n",
    "    try:\n",
    "        for lead in dic[\"RestingECG\"][\"Waveform\"]:\n",
    "            for leadid in range(len(lead[\"LeadData\"])):\n",
    "                sample_length = len(\n",
    "                    decode_ekg_muse_to_array(lead[\"LeadData\"][leadid][\"WaveFormData\"])\n",
    "                )\n",
    "                # sample_length is equivalent to dic['RestingECG']['Waveform']['LeadData']['LeadSampleCountTotal']\n",
    "                if sample_length == 5000:\n",
    "                    lead_data[\n",
    "                        lead[\"LeadData\"][leadid][\"LeadID\"]\n",
    "                    ] = decode_ekg_muse_to_array(\n",
    "                        lead[\"LeadData\"][leadid][\"WaveFormData\"], downsample=0.5\n",
    "                    )\n",
    "                elif sample_length == 2500:\n",
    "                    lead_data[\n",
    "                        lead[\"LeadData\"][leadid][\"LeadID\"]\n",
    "                    ] = decode_ekg_muse_to_array(\n",
    "                        lead[\"LeadData\"][leadid][\"WaveFormData\"], downsample=1\n",
    "                    )\n",
    "                else:\n",
    "                    continue\n",
    "            # ensures all leads have 2500 samples and also passes over the 3 second waveform\n",
    "\n",
    "        lead_data[\"III\"] = np.array(lead_data[\"II\"]) - np.array(lead_data[\"I\"])\n",
    "        lead_data[\"aVR\"] = -(np.array(lead_data[\"I\"]) + np.array(lead_data[\"II\"])) / 2\n",
    "        lead_data[\"aVF\"] = (np.array(lead_data[\"II\"]) + np.array(lead_data[\"III\"])) / 2\n",
    "        lead_data[\"aVL\"] = (np.array(lead_data[\"I\"]) - np.array(lead_data[\"III\"])) / 2\n",
    "\n",
    "        lead_data = {k: lead_data[k] for k in lead_order}\n",
    "        # drops V3R, V4R, and V7 if it was a 15-lead ECG\n",
    "\n",
    "        # now construct and reshape the array\n",
    "        # converting the dictionary to an np.array\n",
    "        temp = []\n",
    "        for key, value in lead_data.items():\n",
    "            temp.append(value)\n",
    "\n",
    "        # transpose to be [time, leads, ]\n",
    "        ekg_array = np.array(temp).T\n",
    "\n",
    "        # expand dims to [time, leads, 1]\n",
    "        ekg_array = np.expand_dims(ekg_array, axis=-1)\n",
    "\n",
    "        # Here is a check to make sure all the model inputs are the right shape\n",
    "        #     assert ekg_array.shape == (2500, 12, 1), \"ekg_array is shape {} not (2500, 12, 1)\".format(ekg_array.shape )\n",
    "\n",
    "        # filename = '/ekg_waveform_{}_{}.npy'.format(pt_id, requisition_number)\n",
    "        filename = f\"{pt_id}_{AcquisitionDateTime}.npy\"\n",
    "\n",
    "        path_to_output += filename\n",
    "        # print(path_to_output)\n",
    "        with open(path_to_output, \"wb\") as f:\n",
    "            np.save(f, ekg_array)\n",
    "        return path_to_output\n",
    "\n",
    "    except:\n",
    "        print(\"error\", dic)\n",
    "        return None\n",
    "\n",
    "\n",
    "def ekg_batch_run(ekg_list):\n",
    "    i = 0\n",
    "    x = 0\n",
    "    for file in ekg_list:\n",
    "        try:\n",
    "            xml_to_np_array_file(file, output_dir)\n",
    "            i += 1\n",
    "        except Exception as e:\n",
    "            # print(\"file failed: \", file)\n",
    "            print(file, e)\n",
    "            x += 1\n",
    "        if i % 10000 == 0:\n",
    "            print(f\"Succesfully converted {i} EKGs, failed converting {x} EKGs\")"
   ]
  },
  {
   "cell_type": "code",
   "execution_count": 13,
   "metadata": {},
   "outputs": [],
   "source": [
    "def generate_ecg_dataframe_and_npy(df, output_dir=\"/ekg_waveforms_output/\"):\n",
    "    output_dir = os.getcwd() + output_dir\n",
    "\n",
    "    from tqdm import tqdm\n",
    "\n",
    "    from ECGXMLReader import ECGXMLReader\n",
    "\n",
    "    patientid_list = []\n",
    "    patientage_list = []\n",
    "    patient_date_of_birth_list = []\n",
    "    patient_gender_list = []\n",
    "    patient_VentricularRate_list = []\n",
    "    patient_AtrialRate_list = []\n",
    "    patient_PRInterval_list = []\n",
    "    patient_QRSDuration_list = []\n",
    "    patient_QTInterval_list = []\n",
    "    patient_QTCorrected_list = []\n",
    "    patient_Paxis_list = []\n",
    "    patient_Raxis_list = []\n",
    "    patient_TAxis_list = []\n",
    "    patient_QRSCount_list = []\n",
    "    patient_QOnset_list = []\n",
    "    patient_QOffset_list = []\n",
    "    patient_POnset_list = []\n",
    "    patient_POffset_list = []\n",
    "    patient_TOffset_list = []\n",
    "    patient_ECGSampleBase_list = []\n",
    "    patient_ECGSampleExponent_list = []\n",
    "    patient_QTcFrederica_list = []\n",
    "    patient_Location_list = []\n",
    "    patient_LocatioName_list = []\n",
    "    patient_RoomID_list = []\n",
    "    patient_acquisitiondate_list = []\n",
    "    patient_acquisitiontime_list = []\n",
    "    patient_status_list = []\n",
    "    patient_acquisitiondevice_list = []\n",
    "    patient_referringMDLastName_list = []\n",
    "    patient_AnalysisSoftware_list = []\n",
    "    patient_acquisitionSoftwareVersion_list = []\n",
    "    diagnosis_list = []\n",
    "    original_diagnosis_list = []\n",
    "    ecg_output_path_list = []\n",
    "    xml_path_list = []\n",
    "\n",
    "    for index, row in tqdm(df.iterrows()):\n",
    "\n",
    "        ecg = ECGXMLReader(row[\"path\"], augmentLeads=True)\n",
    "        xml_path_list.append(row[\"path\"])\n",
    "        ### Concatenate dictionary keys self.ECG['RestingECG']['Diagnosis'] into a list\n",
    "        patientid_list.append(ecg.PatientDemographics[\"PatientID\"])\n",
    "\n",
    "        try:\n",
    "            patientage_list.append(ecg.PatientDemographics[\"PatientAge\"])\n",
    "        except:\n",
    "            patientage_list.append(np.nan)\n",
    "\n",
    "        try:\n",
    "            patient_date_of_birth_list.append(ecg.PatientDemographics[\"DateofBirth\"])\n",
    "        except:\n",
    "            patient_date_of_birth_list.append(np.nan)\n",
    "        try:\n",
    "            patient_gender_list.append(ecg.PatientDemographics[\"Gender\"])\n",
    "        except:\n",
    "            patient_gender_list.append(np.nan)\n",
    "\n",
    "        try:\n",
    "            patient_VentricularRate_list.append(\n",
    "                ecg.RestingECGMeasurements[\"VentricularRate\"]\n",
    "            )\n",
    "        except:\n",
    "            patient_VentricularRate_list.append(np.nan)\n",
    "\n",
    "        try:\n",
    "            patient_AtrialRate_list.append(ecg.RestingECGMeasurements[\"AtrialRate\"])\n",
    "        except:\n",
    "            patient_AtrialRate_list.append(np.nan)\n",
    "        try:\n",
    "            patient_PRInterval_list.append(ecg.RestingECGMeasurements[\"PRInterval\"])\n",
    "        except:\n",
    "            patient_PRInterval_list.append(np.nan)\n",
    "        try:\n",
    "            patient_QRSDuration_list.append(ecg.RestingECGMeasurements[\"QRSDuration\"])\n",
    "        except:\n",
    "            patient_QRSDuration_list.append(np.nan)\n",
    "        try:\n",
    "            patient_QTInterval_list.append(ecg.RestingECGMeasurements[\"QTInterval\"])\n",
    "        except:\n",
    "            patient_QTInterval_list.append(np.nan)\n",
    "\n",
    "        try:\n",
    "            patient_QTCorrected_list.append(ecg.RestingECGMeasurements[\"QTCorrected\"])\n",
    "        except:\n",
    "            patient_QTCorrected_list.append(np.nan)\n",
    "        try:\n",
    "            patient_Paxis_list.append(ecg.RestingECGMeasurements[\"PAxis\"])\n",
    "        except:\n",
    "            patient_Paxis_list.append(np.nan)\n",
    "\n",
    "        try:\n",
    "            patient_Raxis_list.append(ecg.RestingECGMeasurements[\"RAxis\"])\n",
    "        except:\n",
    "            patient_Raxis_list.append(np.nan)\n",
    "        try:\n",
    "            patient_TAxis_list.append(ecg.RestingECGMeasurements[\"TAxis\"])\n",
    "        except:\n",
    "            patient_TAxis_list.append(np.nan)\n",
    "\n",
    "        try:\n",
    "            patient_QRSCount_list.append(ecg.RestingECGMeasurements[\"QRSCount\"])\n",
    "        except:\n",
    "            patient_QRSCount_list.append(np.nan)\n",
    "        try:\n",
    "            patient_QOnset_list.append(ecg.RestingECGMeasurements[\"QOnset\"])\n",
    "        except:\n",
    "            patient_QOnset_list.append(np.nan)\n",
    "\n",
    "        try:\n",
    "            patient_QOffset_list.append(ecg.RestingECGMeasurements[\"QOffset\"])\n",
    "        except:\n",
    "            patient_QOffset_list.append(np.nan)\n",
    "        try:\n",
    "            patient_POnset_list.append(ecg.RestingECGMeasurements[\"POnset\"])\n",
    "        except:\n",
    "            patient_POnset_list.append(np.nan)\n",
    "        try:\n",
    "            patient_POffset_list.append(ecg.RestingECGMeasurements[\"POffset\"])\n",
    "        except:\n",
    "            patient_POffset_list.append(np.nan)\n",
    "        try:\n",
    "            patient_TOffset_list.append(ecg.RestingECGMeasurements[\"TOffset\"])\n",
    "        except:\n",
    "            patient_TOffset_list.append(np.nan)\n",
    "\n",
    "        patient_ECGSampleBase_list.append(ecg.RestingECGMeasurements[\"ECGSampleBase\"])\n",
    "        patient_ECGSampleExponent_list.append(\n",
    "            ecg.RestingECGMeasurements[\"ECGSampleExponent\"]\n",
    "        )\n",
    "        try:\n",
    "            patient_QTcFrederica_list.append(ecg.RestingECGMeasurements[\"QTcFrederica\"])\n",
    "        except:\n",
    "            patient_QTcFrederica_list.append(np.nan)\n",
    "\n",
    "        patient_Location_list.append(ecg.TestDemographics[\"Location\"])\n",
    "\n",
    "        try:\n",
    "            patient_LocatioName_list.append(ecg.TestDemographics[\"LocationName\"])\n",
    "        except:\n",
    "            patient_LocatioName_list.append(np.nan)\n",
    "\n",
    "        try:\n",
    "            patient_RoomID_list.append(ecg.TestDemographics[\"RoomID\"])\n",
    "        except:\n",
    "            patient_RoomID_list.append(\"None\")\n",
    "        try:\n",
    "            patient_acquisitiondate_list.append(ecg.TestDemographics[\"AcquisitionDate\"])\n",
    "        except:\n",
    "            patient_acquisitiondate_list.append(np.nan)\n",
    "\n",
    "        try:\n",
    "            patient_acquisitiontime_list.append(ecg.TestDemographics[\"AcquisitionTime\"])\n",
    "        except:\n",
    "            patient_acquisitiontime_list.append(np.nan)\n",
    "\n",
    "        patient_status_list.append(ecg.TestDemographics[\"Status\"])\n",
    "\n",
    "        try:\n",
    "            patient_acquisitiondevice_list.append(\n",
    "                ecg.TestDemographics[\"AcquisitionDevice\"]\n",
    "            )\n",
    "        except:\n",
    "            patient_acquisitiondevice_list.append(np.nan)\n",
    "\n",
    "        try:\n",
    "            patient_referringMDLastName_list.append(\n",
    "                ecg.TestDemographics[\"ReferringMDLastName\"]\n",
    "            )\n",
    "        except:\n",
    "            patient_referringMDLastName_list.append(\"None\")\n",
    "        try:\n",
    "            patient_AnalysisSoftware_list.append(\n",
    "                ecg.TestDemographics[\"AnalysisSoftwareVersion\"]\n",
    "            )\n",
    "        except:\n",
    "            patient_AnalysisSoftware_list.append(np.nan)\n",
    "        try:\n",
    "            patient_acquisitionSoftwareVersion_list.append(\n",
    "                ecg.TestDemographics[\"AcquisitionSoftwareVersion\"]\n",
    "            )\n",
    "        except:\n",
    "            patient_acquisitionSoftwareVersion_list.append(np.nan)\n",
    "\n",
    "        diagnosis = []\n",
    "        try:\n",
    "            for key in ecg.Diagnosis[\"DiagnosisStatement\"]:\n",
    "                # print(key['StmtText'])\n",
    "                try:\n",
    "                    diagnosis.append(key[\"StmtText\"])\n",
    "                except:\n",
    "                    diagnosis.append(key[\"ENDSLINE\"])\n",
    "\n",
    "            ##merge items in diagnosis list into a single string\n",
    "            diagnosis = \" \".join(diagnosis)\n",
    "\n",
    "            diagnosis_list.append(diagnosis)\n",
    "        except:\n",
    "            print(ecg.TestDemographics)\n",
    "            print(ecg.PatientDemographics)\n",
    "            print(ecg.RestingECGMeasurements)\n",
    "            print(ecg.PatientDemographics[\"PatientID\"])\n",
    "            diagnosis_list.append(-1)\n",
    "\n",
    "        diagnosis = []\n",
    "        try:\n",
    "            for key in ecg.OriginalDiagnosis[\"DiagnosisStatement\"]:\n",
    "                # print(key['StmtText'])\n",
    "                try:\n",
    "                    diagnosis.append(key[\"StmtText\"])\n",
    "                except:\n",
    "                    diagnosis.append(key[\"ENDSLINE\"])\n",
    "\n",
    "            ##merge items in diagnosis list into a single string\n",
    "            diagnosis = \" \".join(diagnosis)\n",
    "\n",
    "            original_diagnosis_list.append(diagnosis)\n",
    "        except:\n",
    "            print(ecg.TestDemographics)\n",
    "            print(ecg.PatientDemographics)\n",
    "            print(ecg.RestingECGMeasurements)\n",
    "            print(ecg.PatientDemographics[\"PatientID\"])\n",
    "            original_diagnosis_list.append(-1)\n",
    "\n",
    "            # display(ecg.Diagnosis['DiagnosisStatement'])\n",
    "            # break\n",
    "        # print(ecg.TestDemographics)\n",
    "        # print(ecg.PatientDemographics)\n",
    "        # print(ecg.RestingECGMeasurements)\n",
    "        # print(ecg.Diagnosis)\n",
    "        # print(ecg.OriginalDiagnosis)\n",
    "        ecg_output_path = xml_to_np_array_file(row[\"path\"], output_dir)\n",
    "        ecg_output_path_list.append(ecg_output_path)\n",
    "    ##Create dataaframe with the previous lists\n",
    "    df_output = pd.DataFrame(\n",
    "        {\n",
    "            \"patientid\": patientid_list,\n",
    "            \"age\": patientage_list,\n",
    "            \"dob\": patient_date_of_birth_list,\n",
    "            \"gender\": patient_gender_list,\n",
    "            \"VentricularRate\": patient_VentricularRate_list,\n",
    "            \"AtrialRate\": patient_AtrialRate_list,\n",
    "            \"PRInterval\": patient_PRInterval_list,\n",
    "            \"QRSDuration\": patient_QRSDuration_list,\n",
    "            \"QTInterval\": patient_QTInterval_list,\n",
    "            \"QTCorrected\": patient_QTCorrected_list,\n",
    "            \"PAxis\": patient_Paxis_list,\n",
    "            \"RAXis\": patient_Raxis_list,\n",
    "            \"TAxis\": patient_TAxis_list,\n",
    "            \"QRSCount\": patient_QRSCount_list,\n",
    "            \"QOnset\": patient_QOnset_list,\n",
    "            \"QOffset\": patient_QOffset_list,\n",
    "            \"POnset\": patient_POnset_list,\n",
    "            \"POffset\": patient_POffset_list,\n",
    "            \"TOffset\": patient_TOffset_list,\n",
    "            \"ECGSampleBase\": patient_ECGSampleBase_list,\n",
    "            \"ECGSampleExponent\": patient_ECGSampleExponent_list,\n",
    "            \"QTcFrederica\": patient_QTcFrederica_list,\n",
    "            \"Location\": patient_Location_list,\n",
    "            \"LocationName\": patient_LocatioName_list,\n",
    "            \"RoomID\": patient_RoomID_list,\n",
    "            \"AcquisitionDate\": patient_acquisitiondate_list,\n",
    "            \"AcquisitionTime\": patient_acquisitiontime_list,\n",
    "            \"Status\": patient_status_list,\n",
    "            \"AcquisitionDevice\": patient_acquisitiondevice_list,\n",
    "            \"ReferringMDLastName\": patient_referringMDLastName_list,\n",
    "            \"AnalysisSoftware\": patient_AnalysisSoftware_list,\n",
    "            \"AcquisitionSoftwareVersion\": patient_acquisitionSoftwareVersion_list,\n",
    "            \"Diagnosis\": diagnosis_list,\n",
    "            \"Original_Diagnosis\": original_diagnosis_list,\n",
    "            \"xml_path\": xml_path_list,\n",
    "            \"ecg_output_path\": ecg_output_path_list,\n",
    "        }\n",
    "    )\n",
    "    return df_output"
   ]
  },
  {
   "cell_type": "code",
   "execution_count": 14,
   "metadata": {},
   "outputs": [
    {
     "data": {
      "text/html": [
       "<div>\n",
       "<style scoped>\n",
       "    .dataframe tbody tr th:only-of-type {\n",
       "        vertical-align: middle;\n",
       "    }\n",
       "\n",
       "    .dataframe tbody tr th {\n",
       "        vertical-align: top;\n",
       "    }\n",
       "\n",
       "    .dataframe thead th {\n",
       "        text-align: right;\n",
       "    }\n",
       "</style>\n",
       "<table border=\"1\" class=\"dataframe\">\n",
       "  <thead>\n",
       "    <tr style=\"text-align: right;\">\n",
       "      <th></th>\n",
       "      <th>path</th>\n",
       "    </tr>\n",
       "  </thead>\n",
       "  <tbody>\n",
       "    <tr>\n",
       "      <th>0</th>\n",
       "      <td>/media/data1/muse_ge/ecg_retrospective/MUSE_20220712_143132_57000.xml</td>\n",
       "    </tr>\n",
       "    <tr>\n",
       "      <th>1</th>\n",
       "      <td>/media/data1/muse_ge/ecg_retrospective/MUSE_20220622_120344_07000.xml</td>\n",
       "    </tr>\n",
       "    <tr>\n",
       "      <th>2</th>\n",
       "      <td>/media/data1/muse_ge/ecg_retrospective/MUSE_20220712_143134_90000.xml</td>\n",
       "    </tr>\n",
       "    <tr>\n",
       "      <th>3</th>\n",
       "      <td>/media/data1/muse_ge/ecg_retrospective/MUSE_20220622_120345_21000.xml</td>\n",
       "    </tr>\n",
       "    <tr>\n",
       "      <th>4</th>\n",
       "      <td>/media/data1/muse_ge/ecg_retrospective/MUSE_20220712_143133_74000.xml</td>\n",
       "    </tr>\n",
       "    <tr>\n",
       "      <th>...</th>\n",
       "      <td>...</td>\n",
       "    </tr>\n",
       "    <tr>\n",
       "      <th>235528</th>\n",
       "      <td>/media/data1/muse_ge/ecg_retrospective/MUSE_20220930_140325_26000.xml</td>\n",
       "    </tr>\n",
       "    <tr>\n",
       "      <th>235529</th>\n",
       "      <td>/media/data1/muse_ge/ecg_retrospective/MUSE_20220930_140326_51000.xml</td>\n",
       "    </tr>\n",
       "    <tr>\n",
       "      <th>235530</th>\n",
       "      <td>/media/data1/muse_ge/ecg_retrospective/MUSE_20220930_150535_59000.xml</td>\n",
       "    </tr>\n",
       "    <tr>\n",
       "      <th>235531</th>\n",
       "      <td>/media/data1/muse_ge/ecg_retrospective/MUSE_20220930_150550_84000.xml</td>\n",
       "    </tr>\n",
       "    <tr>\n",
       "      <th>235532</th>\n",
       "      <td>/media/data1/muse_ge/ecg_retrospective/MUSE_20220930_150551_99000.xml</td>\n",
       "    </tr>\n",
       "  </tbody>\n",
       "</table>\n",
       "<p>235533 rows × 1 columns</p>\n",
       "</div>"
      ],
      "text/plain": [
       "                                                                         path\n",
       "0       /media/data1/muse_ge/ecg_retrospective/MUSE_20220712_143132_57000.xml\n",
       "1       /media/data1/muse_ge/ecg_retrospective/MUSE_20220622_120344_07000.xml\n",
       "2       /media/data1/muse_ge/ecg_retrospective/MUSE_20220712_143134_90000.xml\n",
       "3       /media/data1/muse_ge/ecg_retrospective/MUSE_20220622_120345_21000.xml\n",
       "4       /media/data1/muse_ge/ecg_retrospective/MUSE_20220712_143133_74000.xml\n",
       "...                                                                       ...\n",
       "235528  /media/data1/muse_ge/ecg_retrospective/MUSE_20220930_140325_26000.xml\n",
       "235529  /media/data1/muse_ge/ecg_retrospective/MUSE_20220930_140326_51000.xml\n",
       "235530  /media/data1/muse_ge/ecg_retrospective/MUSE_20220930_150535_59000.xml\n",
       "235531  /media/data1/muse_ge/ecg_retrospective/MUSE_20220930_150550_84000.xml\n",
       "235532  /media/data1/muse_ge/ecg_retrospective/MUSE_20220930_150551_99000.xml\n",
       "\n",
       "[235533 rows x 1 columns]"
      ]
     },
     "metadata": {},
     "output_type": "display_data"
    }
   ],
   "source": [
    "### List all files in '/media/data1/muse_ge/ecg_retrospective' ending in XML and add them to list\n",
    "import glob\n",
    "import os\n",
    "\n",
    "## Get all fins in directory 'media/data1/muse_ge/ecg_retrospective' ending in .XML\n",
    "path = \"/media/data1/muse_ge/ecg_retrospective\"\n",
    "all_files = glob.glob(os.path.join(path, \"*.xml\"))\n",
    "### Create dataframe with all ECG files\n",
    "df = pd.DataFrame(all_files, columns=[\"path\"])\n",
    "display(df)"
   ]
  },
  {
   "cell_type": "code",
   "execution_count": 16,
   "metadata": {},
   "outputs": [
    {
     "name": "stdout",
     "output_type": "stream",
     "text": [
      "list indices must be integers or slices, not str\n",
      "list indices must be integers or slices, not str\n",
      "list indices must be integers or slices, not str\n",
      "list indices must be integers or slices, not str\n",
      "list indices must be integers or slices, not str\n",
      "list indices must be integers or slices, not str\n",
      "list indices must be integers or slices, not str\n",
      "list indices must be integers or slices, not str\n",
      "list indices must be integers or slices, not str\n",
      "list indices must be integers or slices, not str\n",
      "list indices must be integers or slices, not str\n",
      "list indices must be integers or slices, not str\n",
      "list indices must be integers or slices, not str\n",
      "list indices must be integers or slices, not str\n"
     ]
    },
    {
     "name": "stderr",
     "output_type": "stream",
     "text": [
      "1026it [00:16, 65.10it/s]"
     ]
    },
    {
     "name": "stdout",
     "output_type": "stream",
     "text": [
      "list indices must be integers or slices, not str\n",
      "list indices must be integers or slices, not str\n",
      "list indices must be integers or slices, not str\n",
      "list indices must be integers or slices, not str\n",
      "list indices must be integers or slices, not str\n",
      "list indices must be integers or slices, not str\n",
      "list indices must be integers or slices, not str\n",
      "list indices must be integers or slices, not str\n",
      "list indices must be integers or slices, not str\n",
      "list indices must be integers or slices, not str\n",
      "list indices must be integers or slices, not str\n",
      "list indices must be integers or slices, not str\n",
      "list indices must be integers or slices, not str\n",
      "list indices must be integers or slices, not str\n"
     ]
    },
    {
     "name": "stderr",
     "output_type": "stream",
     "text": [
      "1040it [00:16, 65.60it/s]"
     ]
    },
    {
     "name": "stdout",
     "output_type": "stream",
     "text": [
      "list indices must be integers or slices, not str\n",
      "list indices must be integers or slices, not str\n",
      "list indices must be integers or slices, not str\n",
      "list indices must be integers or slices, not str\n",
      "list indices must be integers or slices, not str\n",
      "list indices must be integers or slices, not str\n",
      "list indices must be integers or slices, not str\n",
      "list indices must be integers or slices, not str\n",
      "list indices must be integers or slices, not str\n",
      "list indices must be integers or slices, not str\n",
      "list indices must be integers or slices, not str\n",
      "list indices must be integers or slices, not str\n",
      "list indices must be integers or slices, not str\n",
      "list indices must be integers or slices, not str\n"
     ]
    },
    {
     "name": "stderr",
     "output_type": "stream",
     "text": [
      "1054it [00:16, 65.82it/s]"
     ]
    },
    {
     "name": "stdout",
     "output_type": "stream",
     "text": [
      "list indices must be integers or slices, not str\n",
      "list indices must be integers or slices, not str\n",
      "list indices must be integers or slices, not str\n",
      "list indices must be integers or slices, not str\n",
      "list indices must be integers or slices, not str\n",
      "list indices must be integers or slices, not str\n",
      "list indices must be integers or slices, not str\n",
      "list indices must be integers or slices, not str\n",
      "list indices must be integers or slices, not str\n",
      "list indices must be integers or slices, not str\n",
      "list indices must be integers or slices, not str\n",
      "list indices must be integers or slices, not str\n",
      "list indices must be integers or slices, not str\n",
      "list indices must be integers or slices, not str\n"
     ]
    },
    {
     "name": "stderr",
     "output_type": "stream",
     "text": [
      "1068it [00:16, 65.70it/s]"
     ]
    },
    {
     "name": "stdout",
     "output_type": "stream",
     "text": [
      "list indices must be integers or slices, not str\n",
      "list indices must be integers or slices, not str\n",
      "list indices must be integers or slices, not str\n",
      "list indices must be integers or slices, not str\n",
      "list indices must be integers or slices, not str\n",
      "list indices must be integers or slices, not str\n",
      "list indices must be integers or slices, not str\n",
      "list indices must be integers or slices, not str\n",
      "list indices must be integers or slices, not str\n",
      "list indices must be integers or slices, not str\n",
      "list indices must be integers or slices, not str\n",
      "list indices must be integers or slices, not str\n",
      "list indices must be integers or slices, not str\n",
      "list indices must be integers or slices, not str\n"
     ]
    },
    {
     "name": "stderr",
     "output_type": "stream",
     "text": [
      "1082it [00:17, 64.64it/s]"
     ]
    },
    {
     "name": "stdout",
     "output_type": "stream",
     "text": [
      "list indices must be integers or slices, not str\n",
      "list indices must be integers or slices, not str\n",
      "list indices must be integers or slices, not str\n",
      "list indices must be integers or slices, not str\n",
      "list indices must be integers or slices, not str\n",
      "list indices must be integers or slices, not str\n",
      "list indices must be integers or slices, not str\n",
      "list indices must be integers or slices, not str\n",
      "list indices must be integers or slices, not str\n",
      "list indices must be integers or slices, not str\n",
      "list indices must be integers or slices, not str\n",
      "list indices must be integers or slices, not str\n",
      "list indices must be integers or slices, not str\n",
      "list indices must be integers or slices, not str\n"
     ]
    },
    {
     "name": "stderr",
     "output_type": "stream",
     "text": [
      "1089it [00:17, 64.75it/s]"
     ]
    },
    {
     "name": "stdout",
     "output_type": "stream",
     "text": [
      "list indices must be integers or slices, not str\n",
      "list indices must be integers or slices, not str\n",
      "list indices must be integers or slices, not str\n",
      "list indices must be integers or slices, not str\n",
      "list indices must be integers or slices, not str\n",
      "list indices must be integers or slices, not str\n",
      "list indices must be integers or slices, not str\n",
      "list indices must be integers or slices, not str\n",
      "list indices must be integers or slices, not str\n",
      "list indices must be integers or slices, not str\n",
      "list indices must be integers or slices, not str\n",
      "list indices must be integers or slices, not str\n",
      "list indices must be integers or slices, not str\n"
     ]
    },
    {
     "name": "stderr",
     "output_type": "stream",
     "text": [
      "1103it [00:17, 63.36it/s]"
     ]
    },
    {
     "name": "stdout",
     "output_type": "stream",
     "text": [
      "list indices must be integers or slices, not str\n",
      "list indices must be integers or slices, not str\n",
      "list indices must be integers or slices, not str\n",
      "list indices must be integers or slices, not str\n",
      "list indices must be integers or slices, not str\n",
      "list indices must be integers or slices, not str\n",
      "list indices must be integers or slices, not str\n",
      "list indices must be integers or slices, not str\n",
      "list indices must be integers or slices, not str\n",
      "list indices must be integers or slices, not str\n",
      "list indices must be integers or slices, not str\n",
      "list indices must be integers or slices, not str\n"
     ]
    },
    {
     "name": "stderr",
     "output_type": "stream",
     "text": [
      "1117it [00:17, 61.23it/s]"
     ]
    },
    {
     "name": "stdout",
     "output_type": "stream",
     "text": [
      "list indices must be integers or slices, not str\n",
      "list indices must be integers or slices, not str\n",
      "list indices must be integers or slices, not str\n",
      "list indices must be integers or slices, not str\n",
      "list indices must be integers or slices, not str\n",
      "list indices must be integers or slices, not str\n",
      "list indices must be integers or slices, not str\n",
      "list indices must be integers or slices, not str\n",
      "list indices must be integers or slices, not str\n",
      "list indices must be integers or slices, not str\n",
      "list indices must be integers or slices, not str\n",
      "list indices must be integers or slices, not str\n",
      "list indices must be integers or slices, not str\n"
     ]
    },
    {
     "name": "stderr",
     "output_type": "stream",
     "text": [
      "1131it [00:17, 61.96it/s]"
     ]
    },
    {
     "name": "stdout",
     "output_type": "stream",
     "text": [
      "list indices must be integers or slices, not str\n",
      "list indices must be integers or slices, not str\n",
      "list indices must be integers or slices, not str\n",
      "list indices must be integers or slices, not str\n",
      "list indices must be integers or slices, not str\n",
      "list indices must be integers or slices, not str\n",
      "list indices must be integers or slices, not str\n",
      "list indices must be integers or slices, not str\n",
      "list indices must be integers or slices, not str\n",
      "list indices must be integers or slices, not str\n",
      "list indices must be integers or slices, not str\n",
      "list indices must be integers or slices, not str\n",
      "list indices must be integers or slices, not str\n",
      "list indices must be integers or slices, not str\n"
     ]
    },
    {
     "name": "stderr",
     "output_type": "stream",
     "text": [
      "1145it [00:18, 61.75it/s]"
     ]
    },
    {
     "name": "stdout",
     "output_type": "stream",
     "text": [
      "list indices must be integers or slices, not str\n",
      "list indices must be integers or slices, not str\n",
      "list indices must be integers or slices, not str\n",
      "list indices must be integers or slices, not str\n",
      "list indices must be integers or slices, not str\n",
      "list indices must be integers or slices, not str\n",
      "list indices must be integers or slices, not str\n",
      "list indices must be integers or slices, not str\n",
      "list indices must be integers or slices, not str\n",
      "list indices must be integers or slices, not str\n",
      "list indices must be integers or slices, not str\n",
      "list indices must be integers or slices, not str\n",
      "list indices must be integers or slices, not str\n"
     ]
    },
    {
     "name": "stderr",
     "output_type": "stream",
     "text": [
      "1159it [00:18, 62.73it/s]"
     ]
    },
    {
     "name": "stdout",
     "output_type": "stream",
     "text": [
      "list indices must be integers or slices, not str\n",
      "list indices must be integers or slices, not str\n",
      "list indices must be integers or slices, not str\n",
      "list indices must be integers or slices, not str\n",
      "list indices must be integers or slices, not str\n",
      "list indices must be integers or slices, not str\n",
      "list indices must be integers or slices, not str\n",
      "list indices must be integers or slices, not str\n",
      "list indices must be integers or slices, not str\n",
      "list indices must be integers or slices, not str\n",
      "list indices must be integers or slices, not str\n",
      "list indices must be integers or slices, not str\n",
      "list indices must be integers or slices, not str\n"
     ]
    },
    {
     "name": "stderr",
     "output_type": "stream",
     "text": [
      "1173it [00:18, 63.24it/s]"
     ]
    },
    {
     "name": "stdout",
     "output_type": "stream",
     "text": [
      "list indices must be integers or slices, not str\n",
      "list indices must be integers or slices, not str\n",
      "list indices must be integers or slices, not str\n",
      "list indices must be integers or slices, not str\n",
      "list indices must be integers or slices, not str\n",
      "list indices must be integers or slices, not str\n",
      "list indices must be integers or slices, not str\n",
      "list indices must be integers or slices, not str\n",
      "list indices must be integers or slices, not str\n",
      "list indices must be integers or slices, not str\n",
      "list indices must be integers or slices, not str\n",
      "list indices must be integers or slices, not str\n",
      "list indices must be integers or slices, not str\n",
      "list indices must be integers or slices, not str\n"
     ]
    },
    {
     "name": "stderr",
     "output_type": "stream",
     "text": [
      "1187it [00:18, 63.19it/s]"
     ]
    },
    {
     "name": "stdout",
     "output_type": "stream",
     "text": [
      "list indices must be integers or slices, not str\n",
      "list indices must be integers or slices, not str\n",
      "list indices must be integers or slices, not str\n",
      "list indices must be integers or slices, not str\n",
      "list indices must be integers or slices, not str\n",
      "list indices must be integers or slices, not str\n",
      "list indices must be integers or slices, not str\n",
      "list indices must be integers or slices, not str\n",
      "list indices must be integers or slices, not str\n",
      "list indices must be integers or slices, not str\n",
      "list indices must be integers or slices, not str\n",
      "list indices must be integers or slices, not str\n",
      "list indices must be integers or slices, not str\n"
     ]
    },
    {
     "name": "stderr",
     "output_type": "stream",
     "text": [
      "1194it [00:18, 62.92it/s]"
     ]
    },
    {
     "name": "stdout",
     "output_type": "stream",
     "text": [
      "list indices must be integers or slices, not str\n",
      "list indices must be integers or slices, not str\n",
      "list indices must be integers or slices, not str\n",
      "list indices must be integers or slices, not str\n",
      "list indices must be integers or slices, not str\n",
      "list indices must be integers or slices, not str\n",
      "list indices must be integers or slices, not str\n",
      "list indices must be integers or slices, not str\n",
      "list indices must be integers or slices, not str\n",
      "list indices must be integers or slices, not str\n",
      "list indices must be integers or slices, not str\n",
      "list indices must be integers or slices, not str\n"
     ]
    },
    {
     "name": "stderr",
     "output_type": "stream",
     "text": [
      "1208it [00:19, 60.01it/s]"
     ]
    },
    {
     "name": "stdout",
     "output_type": "stream",
     "text": [
      "list indices must be integers or slices, not str\n",
      "list indices must be integers or slices, not str\n",
      "list indices must be integers or slices, not str\n",
      "list indices must be integers or slices, not str\n",
      "list indices must be integers or slices, not str\n",
      "list indices must be integers or slices, not str\n",
      "list indices must be integers or slices, not str\n",
      "list indices must be integers or slices, not str\n",
      "list indices must be integers or slices, not str\n",
      "list indices must be integers or slices, not str\n",
      "list indices must be integers or slices, not str\n",
      "list indices must be integers or slices, not str\n",
      "list indices must be integers or slices, not str\n"
     ]
    },
    {
     "name": "stderr",
     "output_type": "stream",
     "text": [
      "1222it [00:19, 61.95it/s]"
     ]
    },
    {
     "name": "stdout",
     "output_type": "stream",
     "text": [
      "list indices must be integers or slices, not str\n",
      "list indices must be integers or slices, not str\n",
      "list indices must be integers or slices, not str\n",
      "list indices must be integers or slices, not str\n",
      "list indices must be integers or slices, not str\n",
      "list indices must be integers or slices, not str\n",
      "list indices must be integers or slices, not str\n",
      "list indices must be integers or slices, not str\n",
      "list indices must be integers or slices, not str\n",
      "list indices must be integers or slices, not str\n",
      "list indices must be integers or slices, not str\n",
      "list indices must be integers or slices, not str\n",
      "list indices must be integers or slices, not str\n",
      "list indices must be integers or slices, not str\n",
      "list indices must be integers or slices, not str\n"
     ]
    },
    {
     "name": "stderr",
     "output_type": "stream",
     "text": [
      "1236it [00:19, 63.58it/s]"
     ]
    },
    {
     "name": "stdout",
     "output_type": "stream",
     "text": [
      "list indices must be integers or slices, not str\n",
      "list indices must be integers or slices, not str\n",
      "list indices must be integers or slices, not str\n",
      "list indices must be integers or slices, not str\n",
      "list indices must be integers or slices, not str\n",
      "list indices must be integers or slices, not str\n",
      "list indices must be integers or slices, not str\n",
      "list indices must be integers or slices, not str\n",
      "list indices must be integers or slices, not str\n",
      "list indices must be integers or slices, not str\n",
      "list indices must be integers or slices, not str\n",
      "list indices must be integers or slices, not str\n"
     ]
    },
    {
     "name": "stderr",
     "output_type": "stream",
     "text": [
      "1250it [00:19, 60.19it/s]"
     ]
    },
    {
     "name": "stdout",
     "output_type": "stream",
     "text": [
      "list indices must be integers or slices, not str\n",
      "list indices must be integers or slices, not str\n",
      "list indices must be integers or slices, not str\n",
      "list indices must be integers or slices, not str\n",
      "list indices must be integers or slices, not str\n",
      "list indices must be integers or slices, not str\n",
      "list indices must be integers or slices, not str\n",
      "list indices must be integers or slices, not str\n",
      "list indices must be integers or slices, not str\n",
      "list indices must be integers or slices, not str\n",
      "list indices must be integers or slices, not str\n",
      "list indices must be integers or slices, not str\n",
      "list indices must be integers or slices, not str\n"
     ]
    },
    {
     "name": "stderr",
     "output_type": "stream",
     "text": [
      "1264it [00:19, 63.16it/s]"
     ]
    },
    {
     "name": "stdout",
     "output_type": "stream",
     "text": [
      "list indices must be integers or slices, not str\n",
      "list indices must be integers or slices, not str\n",
      "list indices must be integers or slices, not str\n",
      "list indices must be integers or slices, not str\n",
      "list indices must be integers or slices, not str\n",
      "list indices must be integers or slices, not str\n",
      "list indices must be integers or slices, not str\n",
      "list indices must be integers or slices, not str\n",
      "list indices must be integers or slices, not str\n",
      "list indices must be integers or slices, not str\n",
      "list indices must be integers or slices, not str\n",
      "list indices must be integers or slices, not str\n",
      "list indices must be integers or slices, not str\n",
      "list indices must be integers or slices, not str\n"
     ]
    },
    {
     "name": "stderr",
     "output_type": "stream",
     "text": [
      "1278it [00:20, 62.64it/s]"
     ]
    },
    {
     "name": "stdout",
     "output_type": "stream",
     "text": [
      "list indices must be integers or slices, not str\n",
      "list indices must be integers or slices, not str\n",
      "list indices must be integers or slices, not str\n",
      "list indices must be integers or slices, not str\n",
      "list indices must be integers or slices, not str\n",
      "list indices must be integers or slices, not str\n",
      "list indices must be integers or slices, not str\n",
      "list indices must be integers or slices, not str\n",
      "list indices must be integers or slices, not str\n",
      "list indices must be integers or slices, not str\n",
      "list indices must be integers or slices, not str\n",
      "list indices must be integers or slices, not str\n",
      "list indices must be integers or slices, not str\n"
     ]
    },
    {
     "name": "stderr",
     "output_type": "stream",
     "text": [
      "1292it [00:20, 62.81it/s]"
     ]
    },
    {
     "name": "stdout",
     "output_type": "stream",
     "text": [
      "list indices must be integers or slices, not str\n",
      "list indices must be integers or slices, not str\n",
      "list indices must be integers or slices, not str\n",
      "list indices must be integers or slices, not str\n",
      "list indices must be integers or slices, not str\n",
      "list indices must be integers or slices, not str\n",
      "list indices must be integers or slices, not str\n",
      "list indices must be integers or slices, not str\n",
      "list indices must be integers or slices, not str\n",
      "list indices must be integers or slices, not str\n",
      "list indices must be integers or slices, not str\n",
      "list indices must be integers or slices, not str\n",
      "list indices must be integers or slices, not str\n"
     ]
    },
    {
     "name": "stderr",
     "output_type": "stream",
     "text": [
      "1306it [00:20, 63.46it/s]"
     ]
    },
    {
     "name": "stdout",
     "output_type": "stream",
     "text": [
      "list indices must be integers or slices, not str\n",
      "list indices must be integers or slices, not str\n",
      "list indices must be integers or slices, not str\n",
      "list indices must be integers or slices, not str\n",
      "list indices must be integers or slices, not str\n",
      "list indices must be integers or slices, not str\n",
      "list indices must be integers or slices, not str\n",
      "list indices must be integers or slices, not str\n",
      "list indices must be integers or slices, not str\n",
      "list indices must be integers or slices, not str\n",
      "list indices must be integers or slices, not str\n",
      "list indices must be integers or slices, not str\n",
      "list indices must be integers or slices, not str\n",
      "list indices must be integers or slices, not str\n"
     ]
    },
    {
     "name": "stderr",
     "output_type": "stream",
     "text": [
      "1320it [00:20, 62.29it/s]"
     ]
    },
    {
     "name": "stdout",
     "output_type": "stream",
     "text": [
      "list indices must be integers or slices, not str\n",
      "list indices must be integers or slices, not str\n",
      "list indices must be integers or slices, not str\n",
      "list indices must be integers or slices, not str\n",
      "list indices must be integers or slices, not str\n",
      "list indices must be integers or slices, not str\n",
      "list indices must be integers or slices, not str\n",
      "list indices must be integers or slices, not str\n",
      "list indices must be integers or slices, not str\n",
      "list indices must be integers or slices, not str\n",
      "list indices must be integers or slices, not str\n",
      "list indices must be integers or slices, not str\n",
      "list indices must be integers or slices, not str\n",
      "list indices must be integers or slices, not str\n"
     ]
    },
    {
     "name": "stderr",
     "output_type": "stream",
     "text": [
      "1334it [00:21, 63.64it/s]"
     ]
    },
    {
     "name": "stdout",
     "output_type": "stream",
     "text": [
      "list indices must be integers or slices, not str\n",
      "list indices must be integers or slices, not str\n",
      "list indices must be integers or slices, not str\n",
      "list indices must be integers or slices, not str\n",
      "list indices must be integers or slices, not str\n",
      "list indices must be integers or slices, not str\n",
      "list indices must be integers or slices, not str\n",
      "list indices must be integers or slices, not str\n",
      "list indices must be integers or slices, not str\n",
      "list indices must be integers or slices, not str\n",
      "list indices must be integers or slices, not str\n",
      "list indices must be integers or slices, not str\n",
      "list indices must be integers or slices, not str\n",
      "list indices must be integers or slices, not str\n"
     ]
    },
    {
     "name": "stderr",
     "output_type": "stream",
     "text": [
      "1341it [00:21, 62.16it/s]"
     ]
    },
    {
     "name": "stdout",
     "output_type": "stream",
     "text": [
      "list indices must be integers or slices, not str\n",
      "list indices must be integers or slices, not str\n",
      "list indices must be integers or slices, not str\n",
      "list indices must be integers or slices, not str\n",
      "list indices must be integers or slices, not str\n",
      "list indices must be integers or slices, not str\n",
      "list indices must be integers or slices, not str\n",
      "list indices must be integers or slices, not str\n",
      "list indices must be integers or slices, not str\n",
      "list indices must be integers or slices, not str\n",
      "list indices must be integers or slices, not str\n",
      "list indices must be integers or slices, not str\n"
     ]
    },
    {
     "name": "stderr",
     "output_type": "stream",
     "text": [
      "1355it [00:21, 61.38it/s]"
     ]
    },
    {
     "name": "stdout",
     "output_type": "stream",
     "text": [
      "list indices must be integers or slices, not str\n",
      "list indices must be integers or slices, not str\n",
      "list indices must be integers or slices, not str\n",
      "list indices must be integers or slices, not str\n",
      "list indices must be integers or slices, not str\n",
      "list indices must be integers or slices, not str\n",
      "list indices must be integers or slices, not str\n",
      "list indices must be integers or slices, not str\n",
      "list indices must be integers or slices, not str\n",
      "list indices must be integers or slices, not str\n",
      "list indices must be integers or slices, not str\n",
      "list indices must be integers or slices, not str\n",
      "list indices must be integers or slices, not str\n"
     ]
    },
    {
     "name": "stderr",
     "output_type": "stream",
     "text": [
      "1369it [00:21, 61.87it/s]"
     ]
    },
    {
     "name": "stdout",
     "output_type": "stream",
     "text": [
      "list indices must be integers or slices, not str\n",
      "list indices must be integers or slices, not str\n",
      "list indices must be integers or slices, not str\n",
      "list indices must be integers or slices, not str\n",
      "list indices must be integers or slices, not str\n",
      "list indices must be integers or slices, not str\n",
      "list indices must be integers or slices, not str\n",
      "list indices must be integers or slices, not str\n",
      "list indices must be integers or slices, not str\n",
      "list indices must be integers or slices, not str\n",
      "list indices must be integers or slices, not str\n",
      "list indices must be integers or slices, not str\n",
      "list indices must be integers or slices, not str\n"
     ]
    },
    {
     "name": "stderr",
     "output_type": "stream",
     "text": [
      "1383it [00:21, 63.43it/s]"
     ]
    },
    {
     "name": "stdout",
     "output_type": "stream",
     "text": [
      "list indices must be integers or slices, not str\n",
      "list indices must be integers or slices, not str\n",
      "list indices must be integers or slices, not str\n",
      "list indices must be integers or slices, not str\n",
      "list indices must be integers or slices, not str\n",
      "list indices must be integers or slices, not str\n",
      "list indices must be integers or slices, not str\n",
      "list indices must be integers or slices, not str\n",
      "list indices must be integers or slices, not str\n",
      "list indices must be integers or slices, not str\n",
      "list indices must be integers or slices, not str\n",
      "list indices must be integers or slices, not str\n",
      "list indices must be integers or slices, not str\n"
     ]
    },
    {
     "name": "stderr",
     "output_type": "stream",
     "text": [
      "1397it [00:22, 61.87it/s]"
     ]
    },
    {
     "name": "stdout",
     "output_type": "stream",
     "text": [
      "list indices must be integers or slices, not str\n",
      "list indices must be integers or slices, not str\n",
      "list indices must be integers or slices, not str\n",
      "list indices must be integers or slices, not str\n",
      "list indices must be integers or slices, not str\n",
      "list indices must be integers or slices, not str\n",
      "list indices must be integers or slices, not str\n",
      "list indices must be integers or slices, not str\n",
      "list indices must be integers or slices, not str\n",
      "list indices must be integers or slices, not str\n",
      "list indices must be integers or slices, not str\n",
      "list indices must be integers or slices, not str\n",
      "list indices must be integers or slices, not str\n",
      "list indices must be integers or slices, not str\n"
     ]
    },
    {
     "name": "stderr",
     "output_type": "stream",
     "text": [
      "1411it [00:22, 62.45it/s]"
     ]
    },
    {
     "name": "stdout",
     "output_type": "stream",
     "text": [
      "list indices must be integers or slices, not str\n",
      "list indices must be integers or slices, not str\n",
      "list indices must be integers or slices, not str\n",
      "list indices must be integers or slices, not str\n",
      "list indices must be integers or slices, not str\n",
      "list indices must be integers or slices, not str\n",
      "list indices must be integers or slices, not str\n",
      "list indices must be integers or slices, not str\n",
      "list indices must be integers or slices, not str\n",
      "list indices must be integers or slices, not str\n",
      "list indices must be integers or slices, not str\n",
      "list indices must be integers or slices, not str\n",
      "list indices must be integers or slices, not str\n",
      "list indices must be integers or slices, not str\n"
     ]
    },
    {
     "name": "stderr",
     "output_type": "stream",
     "text": [
      "1425it [00:22, 63.46it/s]"
     ]
    },
    {
     "name": "stdout",
     "output_type": "stream",
     "text": [
      "list indices must be integers or slices, not str\n",
      "list indices must be integers or slices, not str\n",
      "list indices must be integers or slices, not str\n",
      "list indices must be integers or slices, not str\n",
      "list indices must be integers or slices, not str\n",
      "list indices must be integers or slices, not str\n",
      "list indices must be integers or slices, not str\n",
      "list indices must be integers or slices, not str\n",
      "list indices must be integers or slices, not str\n",
      "list indices must be integers or slices, not str\n",
      "list indices must be integers or slices, not str\n",
      "list indices must be integers or slices, not str\n",
      "list indices must be integers or slices, not str\n",
      "list indices must be integers or slices, not str\n"
     ]
    },
    {
     "name": "stderr",
     "output_type": "stream",
     "text": [
      "1439it [00:22, 63.60it/s]"
     ]
    },
    {
     "name": "stdout",
     "output_type": "stream",
     "text": [
      "list indices must be integers or slices, not str\n",
      "list indices must be integers or slices, not str\n",
      "list indices must be integers or slices, not str\n",
      "list indices must be integers or slices, not str\n",
      "list indices must be integers or slices, not str\n",
      "list indices must be integers or slices, not str\n",
      "list indices must be integers or slices, not str\n",
      "list indices must be integers or slices, not str\n",
      "list indices must be integers or slices, not str\n",
      "list indices must be integers or slices, not str\n",
      "list indices must be integers or slices, not str\n",
      "list indices must be integers or slices, not str\n",
      "list indices must be integers or slices, not str\n"
     ]
    },
    {
     "name": "stderr",
     "output_type": "stream",
     "text": [
      "1453it [00:22, 63.09it/s]"
     ]
    },
    {
     "name": "stdout",
     "output_type": "stream",
     "text": [
      "list indices must be integers or slices, not str\n",
      "list indices must be integers or slices, not str\n",
      "list indices must be integers or slices, not str\n",
      "list indices must be integers or slices, not str\n",
      "list indices must be integers or slices, not str\n",
      "list indices must be integers or slices, not str\n",
      "list indices must be integers or slices, not str\n",
      "list indices must be integers or slices, not str\n",
      "list indices must be integers or slices, not str\n",
      "list indices must be integers or slices, not str\n",
      "list indices must be integers or slices, not str\n",
      "list indices must be integers or slices, not str\n",
      "list indices must be integers or slices, not str\n",
      "list indices must be integers or slices, not str\n"
     ]
    },
    {
     "name": "stderr",
     "output_type": "stream",
     "text": [
      "1460it [00:23, 58.47it/s]"
     ]
    },
    {
     "name": "stdout",
     "output_type": "stream",
     "text": [
      "list indices must be integers or slices, not str\n",
      "list indices must be integers or slices, not str\n",
      "list indices must be integers or slices, not str\n",
      "list indices must be integers or slices, not str\n",
      "list indices must be integers or slices, not str\n",
      "list indices must be integers or slices, not str\n",
      "list indices must be integers or slices, not str\n",
      "list indices must be integers or slices, not str\n",
      "list indices must be integers or slices, not str\n",
      "list indices must be integers or slices, not str\n",
      "list indices must be integers or slices, not str\n"
     ]
    },
    {
     "name": "stderr",
     "output_type": "stream",
     "text": [
      "1473it [00:23, 59.05it/s]"
     ]
    },
    {
     "name": "stdout",
     "output_type": "stream",
     "text": [
      "list indices must be integers or slices, not str\n",
      "list indices must be integers or slices, not str\n",
      "list indices must be integers or slices, not str\n",
      "list indices must be integers or slices, not str\n",
      "list indices must be integers or slices, not str\n",
      "list indices must be integers or slices, not str\n",
      "list indices must be integers or slices, not str\n",
      "list indices must be integers or slices, not str\n",
      "list indices must be integers or slices, not str\n",
      "list indices must be integers or slices, not str\n",
      "list indices must be integers or slices, not str\n",
      "list indices must be integers or slices, not str\n",
      "list indices must be integers or slices, not str\n",
      "list indices must be integers or slices, not str\n"
     ]
    },
    {
     "name": "stderr",
     "output_type": "stream",
     "text": [
      "1487it [00:23, 62.01it/s]"
     ]
    },
    {
     "name": "stdout",
     "output_type": "stream",
     "text": [
      "list indices must be integers or slices, not str\n",
      "list indices must be integers or slices, not str\n",
      "list indices must be integers or slices, not str\n",
      "list indices must be integers or slices, not str\n",
      "list indices must be integers or slices, not str\n",
      "list indices must be integers or slices, not str\n",
      "list indices must be integers or slices, not str\n",
      "list indices must be integers or slices, not str\n",
      "list indices must be integers or slices, not str\n",
      "list indices must be integers or slices, not str\n",
      "list indices must be integers or slices, not str\n",
      "list indices must be integers or slices, not str\n",
      "list indices must be integers or slices, not str\n",
      "list indices must be integers or slices, not str\n"
     ]
    },
    {
     "name": "stderr",
     "output_type": "stream",
     "text": [
      "1501it [00:23, 63.78it/s]"
     ]
    },
    {
     "name": "stdout",
     "output_type": "stream",
     "text": [
      "list indices must be integers or slices, not str\n",
      "list indices must be integers or slices, not str\n",
      "list indices must be integers or slices, not str\n",
      "list indices must be integers or slices, not str\n",
      "list indices must be integers or slices, not str\n",
      "list indices must be integers or slices, not str\n",
      "list indices must be integers or slices, not str\n",
      "list indices must be integers or slices, not str\n",
      "list indices must be integers or slices, not str\n",
      "list indices must be integers or slices, not str\n",
      "list indices must be integers or slices, not str\n",
      "list indices must be integers or slices, not str\n",
      "list indices must be integers or slices, not str\n",
      "list indices must be integers or slices, not str\n"
     ]
    },
    {
     "name": "stderr",
     "output_type": "stream",
     "text": [
      "1515it [00:24, 59.92it/s]"
     ]
    },
    {
     "name": "stdout",
     "output_type": "stream",
     "text": [
      "list indices must be integers or slices, not str\n",
      "list indices must be integers or slices, not str\n",
      "list indices must be integers or slices, not str\n",
      "list indices must be integers or slices, not str\n",
      "list indices must be integers or slices, not str\n",
      "list indices must be integers or slices, not str\n",
      "list indices must be integers or slices, not str\n",
      "list indices must be integers or slices, not str\n",
      "list indices must be integers or slices, not str\n",
      "list indices must be integers or slices, not str\n",
      "list indices must be integers or slices, not str\n",
      "list indices must be integers or slices, not str\n"
     ]
    },
    {
     "name": "stderr",
     "output_type": "stream",
     "text": [
      "1529it [00:24, 56.63it/s]"
     ]
    },
    {
     "name": "stdout",
     "output_type": "stream",
     "text": [
      "list indices must be integers or slices, not str\n",
      "list indices must be integers or slices, not str\n",
      "list indices must be integers or slices, not str\n",
      "list indices must be integers or slices, not str\n",
      "list indices must be integers or slices, not str\n",
      "list indices must be integers or slices, not str\n",
      "list indices must be integers or slices, not str\n",
      "list indices must be integers or slices, not str\n",
      "list indices must be integers or slices, not str\n",
      "list indices must be integers or slices, not str\n",
      "list indices must be integers or slices, not str\n"
     ]
    },
    {
     "name": "stderr",
     "output_type": "stream",
     "text": [
      "1541it [00:24, 54.40it/s]"
     ]
    },
    {
     "name": "stdout",
     "output_type": "stream",
     "text": [
      "list indices must be integers or slices, not str\n",
      "list indices must be integers or slices, not str\n",
      "list indices must be integers or slices, not str\n",
      "list indices must be integers or slices, not str\n",
      "list indices must be integers or slices, not str\n",
      "list indices must be integers or slices, not str\n",
      "list indices must be integers or slices, not str\n",
      "list indices must be integers or slices, not str\n",
      "list indices must be integers or slices, not str\n",
      "list indices must be integers or slices, not str\n",
      "list indices must be integers or slices, not str\n"
     ]
    },
    {
     "name": "stderr",
     "output_type": "stream",
     "text": [
      "1547it [00:24, 54.12it/s]"
     ]
    },
    {
     "name": "stdout",
     "output_type": "stream",
     "text": [
      "list indices must be integers or slices, not str\n",
      "list indices must be integers or slices, not str\n",
      "list indices must be integers or slices, not str\n",
      "list indices must be integers or slices, not str\n",
      "list indices must be integers or slices, not str\n",
      "list indices must be integers or slices, not str\n",
      "list indices must be integers or slices, not str\n",
      "list indices must be integers or slices, not str\n",
      "list indices must be integers or slices, not str\n",
      "list indices must be integers or slices, not str\n",
      "list indices must be integers or slices, not str\n",
      "list indices must be integers or slices, not str\n"
     ]
    },
    {
     "name": "stderr",
     "output_type": "stream",
     "text": [
      "1560it [00:24, 56.32it/s]"
     ]
    },
    {
     "name": "stdout",
     "output_type": "stream",
     "text": [
      "list indices must be integers or slices, not str\n",
      "list indices must be integers or slices, not str\n",
      "list indices must be integers or slices, not str\n",
      "list indices must be integers or slices, not str\n",
      "list indices must be integers or slices, not str\n",
      "list indices must be integers or slices, not str\n",
      "list indices must be integers or slices, not str\n",
      "list indices must be integers or slices, not str\n",
      "list indices must be integers or slices, not str\n",
      "list indices must be integers or slices, not str\n",
      "list indices must be integers or slices, not str\n",
      "list indices must be integers or slices, not str\n"
     ]
    },
    {
     "name": "stderr",
     "output_type": "stream",
     "text": [
      "1572it [00:25, 56.11it/s]"
     ]
    },
    {
     "name": "stdout",
     "output_type": "stream",
     "text": [
      "list indices must be integers or slices, not str\n",
      "list indices must be integers or slices, not str\n",
      "list indices must be integers or slices, not str\n",
      "list indices must be integers or slices, not str\n",
      "list indices must be integers or slices, not str\n",
      "list indices must be integers or slices, not str\n",
      "list indices must be integers or slices, not str\n",
      "list indices must be integers or slices, not str\n",
      "list indices must be integers or slices, not str\n",
      "list indices must be integers or slices, not str\n",
      "list indices must be integers or slices, not str\n",
      "list indices must be integers or slices, not str\n"
     ]
    },
    {
     "name": "stderr",
     "output_type": "stream",
     "text": [
      "1584it [00:25, 56.56it/s]"
     ]
    },
    {
     "name": "stdout",
     "output_type": "stream",
     "text": [
      "list indices must be integers or slices, not str\n",
      "list indices must be integers or slices, not str\n",
      "list indices must be integers or slices, not str\n",
      "list indices must be integers or slices, not str\n",
      "list indices must be integers or slices, not str\n",
      "list indices must be integers or slices, not str\n",
      "list indices must be integers or slices, not str\n",
      "list indices must be integers or slices, not str\n",
      "list indices must be integers or slices, not str\n",
      "list indices must be integers or slices, not str\n",
      "list indices must be integers or slices, not str\n"
     ]
    },
    {
     "name": "stderr",
     "output_type": "stream",
     "text": [
      "1597it [00:25, 55.27it/s]"
     ]
    },
    {
     "name": "stdout",
     "output_type": "stream",
     "text": [
      "list indices must be integers or slices, not str\n",
      "list indices must be integers or slices, not str\n",
      "list indices must be integers or slices, not str\n",
      "list indices must be integers or slices, not str\n",
      "list indices must be integers or slices, not str\n",
      "list indices must be integers or slices, not str\n",
      "list indices must be integers or slices, not str\n",
      "list indices must be integers or slices, not str\n",
      "list indices must be integers or slices, not str\n",
      "list indices must be integers or slices, not str\n",
      "list indices must be integers or slices, not str\n",
      "list indices must be integers or slices, not str\n",
      "list indices must be integers or slices, not str\n"
     ]
    },
    {
     "name": "stderr",
     "output_type": "stream",
     "text": [
      "1609it [00:25, 54.30it/s]"
     ]
    },
    {
     "name": "stdout",
     "output_type": "stream",
     "text": [
      "list indices must be integers or slices, not str\n",
      "list indices must be integers or slices, not str\n",
      "list indices must be integers or slices, not str\n",
      "list indices must be integers or slices, not str\n",
      "list indices must be integers or slices, not str\n",
      "error {'RestingECG': {'MuseInfo': {'MuseVersion': '9.0.10.18530'}, 'PatientDemographics': {'PatientID': '0608875', 'PatientAge': '57', 'AgeUnits': 'YEARS', 'DateofBirth': '03-15-1965', 'Gender': 'MALE', 'PatientLastName': 'LAPOINTE', 'PatientFirstName': 'MARIO'}, 'TestDemographics': {'DataType': 'RESTING', 'Site': '1', 'SiteName': 'INSTITUT DE CARDIOLOGIE DE MTL', 'AcquisitionDevice': 'MV360', 'Status': 'CONFIRMED', 'EditListStatus': 'Confirmed', 'Priority': 'NORMAL', 'Location': '22', 'LocationName': '22_URGENCE MAJEURE', 'RoomID': 'B-20', 'AcquisitionTime': '15:12:25', 'AcquisitionDate': '06-18-2022', 'CartNumber': '10', 'AcquisitionSoftwareVersion': '1.02 SP02', 'AnalysisSoftwareVersion': '243', 'EditTime': '10:27:45', 'EditDate': '06-20-2022', 'OverreaderID': '11073', 'AcquisitionTechID': '12237', 'EditorID': '11073', 'TestReason': 'ADM', 'OverreaderLastName': 'LISZKOWSKI, MD', 'OverreaderFirstName': 'MARK', 'AcquisitionTechLastName': 'DUBÉ', 'AcquisitionTechFirstName': 'MÉGANE', 'EditorLastName': 'LISZKOWSKI, MD', 'EditorFirstName': 'MARK', 'HISStatus': '2'}, 'Order': {'ExtraADTData1': '608875'}, 'RestingECGMeasurements': {'VentricularRate': '65', 'AtrialRate': '65', 'PRInterval': '166', 'QRSDuration': '88', 'QTInterval': '400', 'QTCorrected': '416', 'PAxis': '55', 'RAxis': '15', 'TAxis': '-20', 'QRSCount': '10', 'QOnset': '219', 'QOffset': '263', 'POnset': '136', 'POffset': '185', 'TOffset': '419', 'ECGSampleBase': '500', 'ECGSampleExponent': '0', 'QTcFrederica': '410'}, 'OriginalRestingECGMeasurements': {'VentricularRate': '65', 'AtrialRate': '65', 'PRInterval': '166', 'QRSDuration': '88', 'QTInterval': '400', 'QTCorrected': '416', 'PAxis': '55', 'RAxis': '15', 'TAxis': '-20', 'QRSCount': '10', 'QOnset': '219', 'QOffset': '263', 'POnset': '136', 'POffset': '185', 'TOffset': '419', 'ECGSampleBase': '500', 'ECGSampleExponent': '0', 'QTcFrederica': '410'}, 'Diagnosis': {'Modality': 'RESTING', 'DiagnosisStatement': [{'StmtFlag': 'ENDSLINE', 'StmtText': 'Rythme sinusal normal'}, {'StmtText': \"Criteres de voltage limites d'HVG ou variante de la normale\"}, {'StmtText': '('}, {'StmtText': 'Produit Cornell'}, {'StmtFlag': 'ENDSLINE', 'StmtText': ')'}, {'StmtText': 'anomalie du segment ST et'}, {'StmtFlag': 'ENDSLINE', 'StmtText': \"Anomalie de l'onde T; ischémie inférieure possible\"}, {'StmtFlag': 'ENDSLINE', 'StmtText': 'ECG anormal'}]}, 'OriginalDiagnosis': {'Modality': 'RESTING', 'DiagnosisStatement': [{'StmtFlag': 'ENDSLINE', 'StmtText': 'Rythme sinusal normal'}, {'StmtText': \"Criteres de voltage limites d'HVG ou variante de la normale\"}, {'StmtText': '('}, {'StmtText': 'Produit Cornell'}, {'StmtFlag': 'ENDSLINE', 'StmtText': ')'}, {'StmtText': 'anomalie du segment ST et'}, {'StmtFlag': 'ENDSLINE', 'StmtText': \"Anomalie de l'onde T; ischémie inférieure possible\"}, {'StmtFlag': 'ENDSLINE', 'StmtText': 'ECG anormal'}]}, 'ExtraQuestions': {'ExtraQuestion': [{'Question': 'Autre', 'Answer': None}, {'Question': 'Iso', 'Answer': None}]}, 'QRSTimesTypes': {'QRS': [{'Number': '1', 'Type': '0', 'Time': '730'}, {'Number': '2', 'Type': '0', 'Time': '1658'}, {'Number': '3', 'Type': '0', 'Time': '2582'}, {'Number': '4', 'Type': '0', 'Time': '3500'}, {'Number': '5', 'Type': '0', 'Time': '4420'}, {'Number': '6', 'Type': '0', 'Time': '5338'}, {'Number': '7', 'Type': '0', 'Time': '6256'}, {'Number': '8', 'Type': '0', 'Time': '7184'}, {'Number': '9', 'Type': '0', 'Time': '8116'}, {'Number': '10', 'Type': '0', 'Time': '9052'}], 'GlobalRR': '924', 'QTRGGR': '248'}, 'Waveform': [{'WaveformType': 'Median', 'WaveformStartTime': '0', 'NumberofLeads': '8', 'SampleType': 'CONTINUOUS_SAMPLES', 'SampleBase': '500', 'SampleExponent': '0', 'HighPassFilter': '56', 'LowPassFilter': '150', 'ACFilter': '60', 'LeadData': [{'LeadByteCountTotal': '1200', 'LeadTimeOffset': '0', 'LeadSampleCountTotal': '600', 'LeadAmplitudeUnitsPerBit': '4.88', 'LeadAmplitudeUnits': 'MICROVOLTS', 'LeadHighLimit': '32767', 'LeadLowLimit': '-32768', 'LeadID': 'I', 'LeadOffsetFirstSample': '0', 'FirstSampleBaseline': '0', 'LeadSampleSize': '2', 'LeadOff': 'FALSE', 'BaselineSway': 'FALSE', 'LeadDataCRC32': '2022585622', 'WaveFormData': 'CQAMABIADQAHAAUACAAPAA8ADgANAAoACAAMAAwADAALAAsACwALAAsACQAIAAgACAAJ\\nAAoACgAFAAUABgAGAAgADAAKAAkACQAJAAYAAgAFAAkACgAKAAgACAALAAkABwAGAAUA\\nBQAHAAcACQAHAAYABgAFAAMAAwAGAAYABgAFAAUABgAIAAQABAAGAAYABAAEAAoACAAH\\nAAcACQALAAkABwAHAAcABwAFAAUACAAIAAYAAgAAAAUACAAFAAMAAwAEAAcABwAGAAMA\\nAwAGAAYAAAD/////AwAEAAUABgAGAAQABAAEAAUABwAIAAgABwAGAAMABQAFAAUABQAG\\nAAgACwALAAUAAgAAAAUACAAIAAsACwAJAAgABwAHAAcABgAGAAkACQAKAAwADgAQAA4A\\nDgAOAA8ADwARABUAFQAXABUAFQAWABgAGAAXABIAEgATABMAEwATABAAEAASABIADQAL\\nAAgABwAGAAYACgAKAAQAAgAAAAAAAgAIAAoABQABAAMABAAGAAcABwAFAAMA/////wMA\\nBQAFAAQAAgACAAQABAAEAAUABwAJAAkACAAHAAUAAAD7//f/7//k/9v/1P/a/+L/6P/z\\n/wkAKgBTAIMAtADbAPgAEgElASAB+wDNAJQAWQAqABUACgANAA4ADwAVABMACgABAP//\\n/P/8//z//P/6//z/AAAAAP7//v/9//3//f/8//j/+P/5//v///8AAAAA/////////f/8\\n//z//P/9////AQD///////////3/AQADAAEA/////wIAAgABAAEABAAEAAQAAwADAAIA\\nAAAAAAAAAAABAAUACAAGAAYABgAGAAUABAADAAMABQAIAAQABAAIAAgABwAGAAYACwAM\\nAAwACwALAAsADQAPABMAFgARABEAGQAZABgAFgAWABkAIAAiACIAHwAfACIAJAAkACQA\\nKQArACsAKwApACkALAAuACsALQAxADUAOwA7ADkANQAzADMANgA8AEAAPQA7ADoAOAA1\\nADcAOgA2ADMAMQAsACoAKgAoACYAJgAlACEAIQAgAB4AGwAaABYAFgAZABkAFAASABIA\\nFAAQAA8ADwAPAA4ADgANAA0ADQAPAA0ABwAHAAsADAAMAAwACQAJAAkACQAJAAkADQAO\\nAA4AEQAMAAgACAAKAAwADAAIAAgACAAIAAcABwAJAA0ADQALAAsACQAJAAoACgAJAAkA\\nCwANAAoACQAHAAoACwAMAAwACwALAAsACgAKAAwADQANAAwADAANAA0ACwAHAAcACgAK\\nAAgACAAHAAcACgAIAAcABgAGAAwADAALAAgACAAKAAgABgAIAAgACAAFAAQABAALAAsA\\nCwAGAAYACAALAAgABgAFAAUACAAIAAQAAgAIAAYABgAHAAcABwAHAAYABAAHAAkABgAF\\nAAIABQAOAA4ACwAJAAkABwAGAAYABwAHAAYABQAFAAcABwAFAAUABQAHAAcABQAFAAsA\\nCwAKAAcABQAFAAYACQAJAAYABQAEAAAAAAABAAIAAgADAAYABwAHAAQABgAGAAUABQAG\\nAAkABwAEAAMAAwACAAIABgAGAAcACQAIAAAA'}, {'LeadByteCountTotal': '1200', 'LeadTimeOffset': '0', 'LeadSampleCountTotal': '600', 'LeadAmplitudeUnitsPerBit': '4.88', 'LeadAmplitudeUnits': 'MICROVOLTS', 'LeadHighLimit': '32767', 'LeadLowLimit': '-32768', 'LeadID': 'II', 'LeadOffsetFirstSample': '0', 'FirstSampleBaseline': '0', 'LeadSampleSize': '2', 'LeadOff': 'FALSE', 'BaselineSway': 'FALSE', 'LeadDataCRC32': '4097323943', 'WaveFormData': 'AgACAAMAAwACAAIABQAFAAQABAAEAAMAAgACAAMAAwADAAQABAAEAAIAAQABAAIAAwAD\\nAAMAAwADAAMAAwADAAQABAAEAAQABAAEAAMAAwAFAAUABAAEAAUABQAFAAQABAAEAAIA\\nAgACAAIABQAFAAQABAAEAAEAAQACAAMAAwADAAQABAADAAMAAwAEAAQABAAFAAUABQAE\\nAAMAAwADAAMAAwAFAAUABQAEAAQABAAEAAMAAwAEAAUABQAEAAIAAgADAAQABAAEAAQA\\nBAAEAAMAAwADAAMAAwADAAQABQAFAAUABAAEAAQABQAFAAUABAADAAMABAAFAAUABQAD\\nAAMABgAEAAIAAgADAAUABgAIAAwADgAOAAwADAAQABEAEQAQABAAEQARABUAFQATABMA\\nFAAVABkAGwAdAB4AHgAbABoAGgAaABsAHAAcABwAHAAbABUAFQAVABIAEQAQAA8ADQAJ\\nAAYABQAFAAUABAADAAAA/////wAAAAAAAAAA/v/+/wAAAQABAP7//v/////////+//7/\\n/v/+///////+//7//v8AAAAAAAAAAAEAAQABAAAAAAD///3/+v/5//n/AAAQAB0AKwA4\\nAEUAVQBqAH0AlACvANQA7QDpAMQAjwBVAB4A9f/b/8n/vP+0/7L/uf/B/8v/1P/c/+P/\\n6P/u//P/8//z//T/9v/2//P/8//1//b/9v/2//T/8v/y//T/9f/5//f/9v/1//X/9v/2\\n//f/9//6//r/9//0//b/9v/2//f/+v/6//f/9v/2//b/+P/5//v/+f/5//j/+P/4//j/\\n+P/4//j/+P/4//j/+f/5//n/+//8//z/+v/5//n/+v/7//v//v/+//z/+//6//r/+//8\\n//7///////7//v/+////AQABAAEAAQABAAEAAQABAAQABwAHAAcABAADAAMABAAEAAUA\\nBgAGAAYABwAHAAcACAAIAAgACQAJAAkACQAJAAoACgAKAAoACgAKAAoACQAJAAoACgAK\\nAA0ADgAOAAwACwAKAAoACwALAAsACgAKAAsACwALAAsACgAJAAkADAAMAAsACgAKAAkA\\nCQAJAAcABgAGAAkACQAHAAcABwAHAAcABgAEAAMAAwADAAUAAwABAAEAAQADAAQABAAE\\nAAQAAwAAAP7/AAADAAMAAwADAAMAAwABAAEAAgADAAMAAwACAAEAAQABAAIAAgACAAIA\\nAgACAAIAAAAAAAIAAwADAAMAAwADAAMAAwAEAAQABAAEAAQABAAEAAQAAwADAAMABAAE\\nAAIAAgADAAMAAgACAAQABAAEAAQABAAEAAUABQAFAAQABAAEAAUABQAFAAUABAAEAAMA\\nAgACAAMABAAFAAUABAAEAAQABAAEAAQAAgACAAMAAwADAAIAAgADAAMABAAEAAQAAwAD\\nAAMAAwAEAAQABAAEAAQAAwADAAMABAAFAAYABgAFAAUABAADAAMAAgACAAMAAwADAAMA\\nBAAEAAMAAwADAAQABAAEAAQABAAEAAQAAwADAAQABAAEAAQABAAGAAYABgAFAAQABAAF\\nAAYABgADAAMAAwADAAQABgAGAAcACAAIAAAA'}, {'LeadByteCountTotal': '1200', 'LeadTimeOffset': '0', 'LeadSampleCountTotal': '600', 'LeadAmplitudeUnitsPerBit': '4.88', 'LeadAmplitudeUnits': 'MICROVOLTS', 'LeadHighLimit': '32767', 'LeadLowLimit': '-32768', 'LeadID': 'V1', 'LeadOffsetFirstSample': '0', 'FirstSampleBaseline': '0', 'LeadSampleSize': '2', 'LeadOff': 'FALSE', 'BaselineSway': 'FALSE', 'LeadDataCRC32': '2576691737', 'WaveFormData': '///////////////////+//3//f///////v/9//z//P/8//3//v/+//3//P/8//z//f/9\\n//z//P/9//7//v/9//3//v/+//7//v/+//7//v/+//3//f/9//3//f/9//3//f/9//3/\\n/f/8//z//f/9//3//P/8//z//P/9//3//f/9//3//f/9//3//f/9//3//f/9//z//P/8\\n//z/+//7//v/+//8//7//v/+//3//f/8//z//f/+//7//f/9//z/+v/6//v/+//7//z/\\n/P/8//z//f/9//3//P/8//z//P/8//z//P/8//z//P/8//z/+//7//v/+//8//z//P/8\\n//z//P/8//z//P/8//z//P/8//3//v/+//3//f///wEAAQD+//3//f/+//7//v/+//7/\\n/v/+//7//v/7//b/8v/s/+z/7P/s/+z/6//q/+r/6v/r/+z/7v/y//L/8v/z//b/+P/4\\n//n/+v/7//v/+//8//3//f/9//3//f/7//v/+//8//3////9//z//P/9//3//f/9//3/\\n/f/9//3//f/9//3//f/9//3//f/9//3//v/+//7/AAAFAAwAGwAqADcAPgBBAEgASgBI\\nADsAJwAOAO7/x/+e/3P/S/8l/wz/Dv8Z/y3/Rv9Y/2X/cP+A/4//of+y/7//y//Y/+L/\\n6f/v//P/9f/4//v/AAAFAAUABQAFAAYABgAJAAsACwALAAsACAAIAAkACgAMAA4ADgAO\\nAAwACwALAAwADQANAA8ADwAMAAwADQANAA4ADgAPAA8ADQAMAAsACwAMAA0ADgAPAA8A\\nDgANAA0ADgAQABAAEAAQABAAEAARABEAEQARABMAEwASABIAEgATABQAFQAVABUAFAAU\\nABQAFAAUABcAGAAYABYAFgAVABUAFQAVABUAFwAXABcAFQAVABUAFgAWABYAFQAUABMA\\nEAAPAA8AEAASABIADwANAAwADAAMAAsACQAJAAkACQAIAAYABQADAAEAAQABAAAA////\\n/////v/9//3//f/9//v/+v/6//r/+P/6//r/+f/5//j/+P/4//j/+v/6//r/+v/6//n/\\n+f/7//z//P/8//3//f/7//v/+//8//3//f/9//3//f/8//z//f/9//3//v/+//7//f/9\\n//3//f/9//3//f/+///////////////////////+//7//v////////////////////7/\\n/v/+//7//v/+//7//f/9//3//v///wAAAAD///7//v/8//7//v/+//3//P/8//z//f/9\\n//3//f/9//3/+//6//r//f/9//3//f/9//3//f/8//z//P/9//7//v/+//7//P/8//z/\\n/P/9//3//P/8//z//P/8//3//v/+//7//P/6//z//P/8//z//P/8//z//P/8//z//P/9\\n//3//P/6//r/+v/7//v/+//7//v/+//8//z//P/8//z//P/7//v/+//6//r/+//8//z/\\n/P/8//z/+//7//3/+//7//z//P/8//z//P/7//v//P/8//z//P/8//z/+//7//v/+//7\\n//v/+//7//z//P/8//z//P/8//z//P/8/wAA'}, {'LeadByteCountTotal': '1200', 'LeadTimeOffset': '0', 'LeadSampleCountTotal': '600', 'LeadAmplitudeUnitsPerBit': '4.88', 'LeadAmplitudeUnits': 'MICROVOLTS', 'LeadHighLimit': '32767', 'LeadLowLimit': '-32768', 'LeadID': 'V2', 'LeadOffsetFirstSample': '0', 'FirstSampleBaseline': '0', 'LeadSampleSize': '2', 'LeadOff': 'FALSE', 'BaselineSway': 'FALSE', 'LeadDataCRC32': '1492457435', 'WaveFormData': 'BwAHAAgACAAIAAgABwAGAAYABgAHAAcABgAFAAUABAAEAAQABQAFAAMAAgACAAIAAgAC\\nAAEAAQACAAIAAgACAAEAAQABAAEAAQABAAEAAQABAAAAAAABAAIAAgABAP/////+//7/\\n///////////////////+//7////////////+//7//v/+/////////////v/9//3//f/9\\n//3//f/9//3//v///wAAAAD////////+//7//v///wAAAAD+//7//v/+//7//v/+//7/\\n/v/8//z//v/+//7//f/9//7//v/+//7//f/8//z//f/9//z//P/8//z//P/8//z//P/8\\n//z//P/8//z//P/8//z//f/9//7///8AAAAAAAABAAMAAwACAAIAAgACAAIAAQABAAIA\\nBAAEAAUABwAHAAUAAwD+//v/+f/3//b/9f/y//H/8f/x//P/9v/3//f/9v/2//j/+f/5\\n//n/+f/6//r/+f/5//n/+f/5//n/+f/4//j/+P/5//r/+//7//r/+v/6//r/+//7//v/\\n+v/6//v/+//6//r/+v/8//z//P/8//z//v/+//7/AAAGAA4AHgAzAEMAUABdAHIAhgCS\\nAI4AhgB3AF0AKgDm/6T/cv9F/xf/7P68/pL+ef5z/oH+qv7e/hL/Pf9j/4L/nv+1/8f/\\n0//d/+b/7f/0//z/BgAPAA8ADgAOAA8AEwAYABsAGwAYABYAFAAUABcAGQAcAB4AHgAe\\nABwAHAAcACAAIgAjACQAJAAhACEAIgAjACUAKAAoACgAJwAmACYAJgApACwALgAuAC4A\\nLQAtAC0AMAAzADUANgA2ADMAMwA2ADkAOwA9AD4APwBAAEAAQQBDAEUASQBKAEoASgBL\\nAEwATwBRAFUAWQBZAFkAWQBcAF0AXgBgAGQAZgBnAGcAZgBmAGgAagBrAG0AbQBtAGwA\\nawBrAG0AcABxAHEAcABuAG4AbgBtAG0AbABsAGwAagBnAGMAYQBfAFwAWgBYAFUATwBL\\nAEkARQBDAEAAOwA4ADQALQAqACcAJAAiACAAHQAaABYAEwAQABAAEAAPAAwACwAKAAcA\\nBgAGAAYABQAFAAUABAACAAIAAgADAAQABAAEAAMAAgABAAEAAgADAAMABAAEAAQAAwAD\\nAAMAAwADAAMAAwADAAMAAwADAAQABgAGAAYABgAGAAQABAAFAAYABgAGAAYABgAFAAUA\\nBQAFAAYABgAFAAUABAADAAMABQAFAAcABwAGAAQABAADAAMABAAEAAQAAgABAAEAAgAC\\nAAIABAAEAAQAAgD/////AAACAAIAAgACAAIAAQABAAEAAQACAAMABAAEAAMA/v/+//3/\\n/f/+//////////7//v/+//7//////////f/8//z//P/8//3//f/+//7//f/9//3//f//\\n/////f/8//z//f/9//v/+//7//v//P/8//z//P/8//z//P/8//z//P/6//r/+v/7//v/\\n/P/8//z//P/8//z/+//7//3//v/+//3//P/7//v//f/9//3//f/9//z//P/7//v//P/8\\n//z//P/8//z//P/8//z//P/9//3//f/9/wAA'}, {'LeadByteCountTotal': '1200', 'LeadTimeOffset': '0', 'LeadSampleCountTotal': '600', 'LeadAmplitudeUnitsPerBit': '4.88', 'LeadAmplitudeUnits': 'MICROVOLTS', 'LeadHighLimit': '32767', 'LeadLowLimit': '-32768', 'LeadID': 'V3', 'LeadOffsetFirstSample': '0', 'FirstSampleBaseline': '0', 'LeadSampleSize': '2', 'LeadOff': 'FALSE', 'BaselineSway': 'FALSE', 'LeadDataCRC32': '2377799182', 'WaveFormData': 'BQAFAAUABQAGAAYABgAGAAUABQAGAAYABQAFAAUABAADAAMABAAEAAMAAQABAAIAAgAB\\nAAAAAAAAAAEAAQABAAAA//////////8AAAAAAAAAAP///////wAAAAAAAP//////////\\n///9//3//////////v/+//3//f/9//7///////////////////////7//v/+//7//f/9\\n//3//P/7//v//P/+///////+//7//v/9//3//f///////v/+//7//f/9//3//v/+//7/\\n/v/7//v//v/+//3//f/9//3//f/9//7//v/9//3//f/9//3//f/9//3//f/9//3//f/9\\n//3//f/9//3//f/9//z//P/9////AQABAAEAAQACAAUABQAFAAUABQAEAAQAAwADAAQA\\nBQAGAAkADAAMAAoACAAFAAMAAQD///7//P/6//r/+f/5//n//P/9//3/+//7//v//f/9\\n//z//P/8//z/+v/6//r/+v/6//r/+v/6//n/+f/6//v//P/8//r/+v/6//r/+v/7//v/\\n+v/6//v/+//7//v/+//8//z//P/8//7//v/+//7/AAAEAAcADwAaACAAKgA3AEsAYgB1\\nAIMAjgCbAKEAlQB6AGEAWQBJACQA4f99/wz/rv57/nv+of7W/gf/L/9W/3T/kP+p/7z/\\nyv/W/9//5f/q//D/+v8FAAcABwAIAAkACgANAA8ADwAPAA4ADQANAA8AEQARABQAFQAV\\nABUAFQAVABYAFgAWABkAGQAZABkAGgAaABoAGwAcAB4AHgAeAB0AHQAdAB4AIQAjACQA\\nJAAkACUAJQAmACYAJwApACkAKQAqAC0ALQAtADAAMQAzADQANQA1ADUANwA6ADsAOwA9\\nAD4APwBAAEMARgBHAEgASgBNAE4ATgBOAFEAVQBYAFoAWgBaAFsAXABeAGAAYABkAGQA\\nZABlAGYAaABqAGwAbABtAG0AbgBuAGwAbABtAG8AbwBuAGwAawBoAGUAYwBiAGEAXQBX\\nAFQAUABMAEgARQBBAD4AOgA3ADMALQApACcAJAAhAB0AGQAWABQAFAASAA8ADwAOAAoA\\nCQAJAAcABgAGAAYABgADAAIAAQABAAIAAgACAAEAAAAAAAAAAAD/////AAABAAEAAAAA\\nAAAA/v/+//7///8BAAEAAAAAAAAAAQABAAEAAQABAAEAAQABAAEAAQABAAIAAwADAAIA\\nAQABAAIAAwADAAMAAwADAAIAAgACAAQABAAEAAIAAgACAAEAAQABAAEAAQABAAEAAQAA\\nAAAAAQACAAIAAgAAAAAAAAAAAAAAAAAAAAEAAQAAAP///////wAAAQACAAIA/v/+//3/\\n/f/9//3//v/+//7//v/9//3//v/+//7//v/9//3//f/8//z//f/9//7//v/+//7//v/+\\n//7//P/8//z//P/8//z//P/8//z//P/9//7//v/9//z//P/8//z//P/8//z//P/8//z/\\n/P/8//z//P/8//z/+//7//z//f/9//3//P/8//z//P/8//z//P/9//3//f/8//v/+//7\\n//z//P/8//z//P/8//z//P/9//3//v/+/wAA'}, {'LeadByteCountTotal': '1200', 'LeadTimeOffset': '0', 'LeadSampleCountTotal': '600', 'LeadAmplitudeUnitsPerBit': '4.88', 'LeadAmplitudeUnits': 'MICROVOLTS', 'LeadHighLimit': '32767', 'LeadLowLimit': '-32768', 'LeadID': 'V4', 'LeadOffsetFirstSample': '0', 'FirstSampleBaseline': '0', 'LeadSampleSize': '2', 'LeadOff': 'FALSE', 'BaselineSway': 'FALSE', 'LeadDataCRC32': '1818684469', 'WaveFormData': '/v/+//7//v8AAAAAAAD//////////wAAAAD/////////////AAAAAAAA////////////\\n//////8AAAAAAAAAAAAAAAD/////////////AAAAAAAAAAABAAEAAQAAAAAAAAAAAAAA\\nAAD///////8AAAAA///+//7//v/+//////8AAAAA///////////+//7/AAAAAAAAAAD/\\n//7//f/9//3//v///wAAAAD////////+//7///8AAAAAAAD///////////////8AAAAA\\nAAD+//7/AAAAAP///////////////wAAAAAAAAAAAAD//////////////////wAAAAD/\\n////////////AAAAAAAAAAABAAIABAAEAAMAAwAGAAgACgAIAAgACAAHAAcABgAGAAcA\\nCAAKAA0ADwARAA8ADwAMAAoACAAFAAUABQADAAIAAgACAAIAAwAEAAQAAQABAAEAAgAC\\nAAAAAAD//////f/9//3//P/8//z//P/7//v/+//8//z//f/9//z/+//7//z//P/8//z/\\n/P/8//3//f/9//3//f/+//7//v/+////AAAAAAAAAAAAAP7//P/6//j//v8KABkALABE\\nAFwAewClAM8A8gAQASwBSQFGAQ4BqAAiAJD/Fv/M/sT+3P79/iH/P/9d/3f/j/+l/7X/\\nw//P/9f/2//g/+X/7v/2//j/+P/7//v/+//8//3//f/9//7//v//////AAAAAAEAAwAD\\nAAMAAwADAAMAAgACAAMABAAEAAYABgAGAAUABQAGAAcABwAIAAgABgAFAAUABgAIAAoA\\nCwALAAsACwALAAoACgAMAAwADQAPAA8ADgAOAA8AEgATABMAFAAUABQAFQAWABcAGAAZ\\nABoAGgAbABwAHQAeACAAIQAiACIAIgAjACMAJgApACoAKwAsAC0ALwAvADAAMQAyADQA\\nNQA2ADgAOQA5ADwAPQA+AEAAQgBCAEAAQABBAEQARQBGAEYARQBDAEAAQABAAEAAPgA8\\nADkANwA1ADEALwAvAC0AKwApACYAIgAfAB4AGwAZABgAFgATABIAEgAQAA0ADQANAAsA\\nCAAHAAcABAAEAAQABAACAAEAAAAAAAAAAAAAAP7//v/9//3//f/8//z//P/8//z//P/9\\n//3/+//5//v//P/9//3//P/8//v/+//7//z//P/8//z//f/9//z//P/8//3//f/9//3/\\n/f/8//z//f/9//3//v/+//7//////wAAAAD/////////////////////////////////\\n//////8AAAAAAAD/////AAAAAP////8AAAAAAgAAAAAA////////AQABAAAA//////7/\\n/v/+////AAAAAAAAAAD//////////wAAAAAAAAAAAAAAAP////8AAAAAAAAAAAAAAAAA\\nAAAA/v/9//3//v/+//7//v/+//7///8AAAAAAAAAAP////////7//v///wAAAAD///7/\\n/v/+//7//v8AAAAA////////AAAAAAAAAAD////////////////////////+//7//v/+\\n//7//v/+//7//v/+//7//v//////AAAAAAAA'}, {'LeadByteCountTotal': '1200', 'LeadTimeOffset': '0', 'LeadSampleCountTotal': '600', 'LeadAmplitudeUnitsPerBit': '4.88', 'LeadAmplitudeUnits': 'MICROVOLTS', 'LeadHighLimit': '32767', 'LeadLowLimit': '-32768', 'LeadID': 'V5', 'LeadOffsetFirstSample': '0', 'FirstSampleBaseline': '0', 'LeadSampleSize': '2', 'LeadOff': 'FALSE', 'BaselineSway': 'FALSE', 'LeadDataCRC32': '1467808179', 'WaveFormData': '/f/9//3//f/+///////+//7//v/+//7//v/+//7//v/+//7//v/+//7//v/+/wAAAAAA\\nAP7//v/+////AAAAAAAAAAD/////////////AQADAAAAAAAAAAAAAAAAAAAAAAD/////\\n////////AAAAAAAAAAAAAP//////////AAAAAAAAAAAAAAEAAQABAAEAAQACAAIAAAAA\\nAP///v/+//7///8AAAEAAQABAAEAAAAAAAAAAQABAAEAAQABAAAAAAAAAAEAAQABAAEA\\nAQD+//7/AQADAAEAAQABAAEAAQABAAEAAQABAAEAAQABAAAAAAAAAAAAAAABAAEAAQAA\\nAAAAAAAAAAEAAQABAAEAAQACAAMABAAEAAQABAAGAAoACgAIAAgACAAIAAgABwAHAAgA\\nCQAKAA0AEAAQABAADwAOAAwACwAJAAkACQAJAAgABwAHAAcACAALAAgABgAFAAUABQAF\\nAAQAAwACAAEA//////7//v/+//7//v/9//3//f/9//7/AAD+//3//f/+//7///////7/\\n/v/+//7//v/+//7//v/+/////////wAAAQABAAEAAAD+//f/7P/h/9n/2f/h/+n/+f8O\\nACoAVgCVANgAGgFZAZMBvQHFAZIBLgGpACEArP9f/0X/Sf9Z/2z/fv+T/6P/sP++/8n/\\n0v/Z/9//4f/j/+X/7P/y//P/8//2//b/9v/2//f/9//4//j/+P/5//n/+f/4//j/+v/6\\n//v//P/9//3/+v/6//r/+//7//z//P/8//r/+v/6//r//P/8//7//P/6//r/+v/8//z/\\n/P/9//7//v/9//v/+//8//z//f/+//7//f/9//3//v///wAAAAAAAAAA//////7//v//\\n/wEAAwADAAMAAwADAAQABQAHAAcABgAGAAYACQALAA0ADQAOAA8ADwAPAA8AEgATABUA\\nFgAXABgAGAAZABsAHAAdACAAIQAjACEAIAAgACMAJQAlACYAJgAkACIAIgAiACQAIgAi\\nACIAIAAgAB4AHQAdAB0AHAAcABoAGAAXABUAFAATABEAEQAPAA8ADwAMAAoACgAKAAcA\\nBwAHAAUAAgACAAIAAgABAP////////7//f/9//z//P/8//v/+//7//r/+v/7//v/+//7\\n//v/+f/3//f/+P/6//r/+v/6//r/+f/5//r/+v/5//n/+//7//r/+f/5//v/+//7//v/\\n+//7//r/+v/6//v//f/9//7//v/+/wAAAAD//////v/+//7//v/+//3//f/+///////+\\n//7//////////v/+//7/AAAAAP7//v///wAAAAD///7//v/+////AAAAAAAAAAAAAAAA\\nAAAAAAAAAAAAAAAAAAAAAAAAAAAAAAEAAQABAAEAAQABAAAAAAAAAAAAAQABAAEAAQAB\\nAAEA/v/+////AAAAAAAA///+//7//v/+////AAAAAAAA/////////////wAAAQABAAAA\\nAAAAAAAAAAAAAAAAAAAAAAAAAQABAAEAAAAAAAAAAAAAAAAAAAAAAAEAAQABAAAAAAAA\\nAAAAAQABAAEAAQABAAEAAQABAAEAAgABAAAA'}, {'LeadByteCountTotal': '1200', 'LeadTimeOffset': '0', 'LeadSampleCountTotal': '600', 'LeadAmplitudeUnitsPerBit': '4.88', 'LeadAmplitudeUnits': 'MICROVOLTS', 'LeadHighLimit': '32767', 'LeadLowLimit': '-32768', 'LeadID': 'V6', 'LeadOffsetFirstSample': '0', 'FirstSampleBaseline': '0', 'LeadSampleSize': '2', 'LeadOff': 'FALSE', 'BaselineSway': 'FALSE', 'LeadDataCRC32': '1390930972', 'WaveFormData': '/f/9//3//f/+///////9//3//f/+//7//v/+//7//v/+//////////////8AAAAAAAAA\\nAAAA/////wAAAAABAAEAAAAAAAAAAAAAAAAAAQAEAAEAAQABAAEAAQAAAAAAAAAAAAAA\\nAAAAAAAAAAAAAAAAAAABAAEAAQABAAEAAQABAAEAAgACAAMAAwACAAIAAwADAAMAAwAC\\nAAEAAQAAAAAAAAACAAMAAwACAAIAAgABAAEAAQACAAQABAACAAIAAQABAAMAAwADAAMA\\nAwABAAEABAAEAAMAAwADAAIAAgACAAMAAwADAAMAAwADAAIAAgACAAIAAgACAAMAAwAD\\nAAMAAwADAAMAAwADAAMAAwADAAUABQAFAAUABQAIAAoACgAJAAkACQAJAAgACAAIAAkA\\nCQAKAAwADwAQABAAEQARABEADwANAA0ADgAOAA4ADQANAA4ADgAOAA0ACwAKAAoACgAI\\nAAYABgAFAAMAAQABAAAAAAAAAAEAAQAAAP///////wAAAgAAAP////8AAAAAAAAAAAAA\\nAAAAAAAAAAAAAAAAAAAAAAAAAAAAAAEAAQABAAEAAAD+//f/7P/h/9r/2v/f/+T/7P/7\\n/xEAMABgAJYAzAAEATgBXwFuAVYBHgHXAIgAPQAJAO//4v/b/9j/2//f/+T/6v/r/+v/\\n7P/v//L/8v/y//P/9f/3//f/9f/3//j/+f/5//j/9v/2//b/9v/3//j/+P/2//b/9//3\\n//f/+P/5//n/9v/1//X/9v/2//f/+f/5//f/9//3//f/9//3//f/9//2//b/9v/3//f/\\n9//4//j/+P/4//b/9f/1//X/9v/3//f/9//2//b/9v/2//f/+f/5//j/+P/3//X/9f/2\\n//f/+P/4//j/+P/2//b/9//6//r/+P/4//j/+f/7//v//P/8//3//f/9//3//f/+////\\nAAABAAMABAAEAAQABQAFAAcACAAIAAYABgAGAAcACQAKAAsACwAKAAkACQAJAAwADAAM\\nAAwADAAMAAsACgAKAAwADAANAA0ACwALAAoACQAJAAoACgAIAAgACAAHAAYABgAGAAUA\\nBQAFAAMAAQABAAMAAwAAAAAAAAAAAAAA//////7//v/9//3//f/9//3//f/9//3//f/+\\n//7//P/7//r/+v/8//z//P/8//z//P/8//z//P/7//v//P/8//z/+//7//z//f/9//3/\\n/P/8//z/+//7//z//f/9//3//f/9///////+//7//v/9//3//v/+//3//f/9////AAAA\\nAAAAAAAAAAAA////////AQABAAAAAAABAAIAAgABAAEAAAAAAAEAAgACAAIAAQABAAEA\\nAQABAAEAAQABAAEAAQABAAEAAQACAAIAAAAAAAIAAgACAAEAAQABAAEAAgADAAMAAwAD\\nAAMAAAD/////AAABAAEAAQABAAAAAAACAAIAAwADAAIAAQABAAEAAQABAAEAAgACAAIA\\nAgACAAIAAgADAAMAAgABAAEAAgACAAMAAwADAAMAAwADAAEAAQADAAMAAgACAAIAAgAC\\nAAIAAgACAAMAAwADAAMAAwADAAMAAwAEAAAA'}]}, {'WaveformType': 'Rhythm', 'WaveformStartTime': '0', 'NumberofLeads': '8', 'SampleType': 'CONTINUOUS_SAMPLES', 'SampleBase': '500', 'SampleExponent': '0', 'HighPassFilter': '56', 'LowPassFilter': '150', 'ACFilter': '60', 'LeadData': [{'LeadByteCountTotal': '10000', 'LeadTimeOffset': '0', 'LeadSampleCountTotal': '5000', 'LeadAmplitudeUnitsPerBit': '4.88', 'LeadAmplitudeUnits': 'MICROVOLTS', 'LeadHighLimit': '32767', 'LeadLowLimit': '-32768', 'LeadID': 'I', 'LeadOffsetFirstSample': '0', 'FirstSampleBaseline': '0', 'LeadSampleSize': '2', 'LeadOff': 'FALSE', 'BaselineSway': 'FALSE', 'LeadDataCRC32': '1716115156', 'WaveFormData': 'GQAYABQAHwAnACcAKgArACoAKgAvAC8AKgAvADgAMQAnAC0AMgAtACwALQAtACoAMQA4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\\nFwASAA=='}, {'LeadByteCountTotal': '10000', 'LeadTimeOffset': '0', 'LeadSampleCountTotal': '5000', 'LeadAmplitudeUnitsPerBit': '4.88', 'LeadAmplitudeUnits': 'MICROVOLTS', 'LeadHighLimit': '32767', 'LeadLowLimit': '-32768', 'LeadID': 'II', 'LeadOffsetFirstSample': '0', 'FirstSampleBaseline': '0', 'LeadSampleSize': '2', 'LeadOff': 'FALSE', 'BaselineSway': 'FALSE', 'LeadDataCRC32': '4277519196', 'WaveFormData': 'AAACAP///v8AAAIABQAHAAQAAAABAAUAAQD//wIAAwABAAMAAwAAAAEABAAEAAIABAAD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\\ntf/A/w=='}, {'LeadByteCountTotal': '10000', 'LeadTimeOffset': '0', 'LeadSampleCountTotal': '5000', 'LeadAmplitudeUnitsPerBit': '4.88', 'LeadAmplitudeUnits': 'MICROVOLTS', 'LeadHighLimit': '32767', 'LeadLowLimit': '-32768', 'LeadID': 'V1', 'LeadOffsetFirstSample': '0', 'FirstSampleBaseline': '0', 'LeadSampleSize': '2', 'LeadOff': 'FALSE', 'BaselineSway': 'FALSE', 'LeadDataCRC32': '3657229435', 'WaveFormData': 'FQAXABYAEwATABUAFgAVABEADwAPABEADgAKAAsADgAOAA0ACQAJAAsADQANAAsACQAH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\\nkv+r/w=='}, {'LeadByteCountTotal': '10000', 'LeadTimeOffset': '0', 'LeadSampleCountTotal': '5000', 'LeadAmplitudeUnitsPerBit': '4.88', 'LeadAmplitudeUnits': 'MICROVOLTS', 'LeadHighLimit': '32767', 'LeadLowLimit': '-32768', 'LeadID': 'V2', 'LeadOffsetFirstSample': '0', 'FirstSampleBaseline': '0', 'LeadSampleSize': '2', 'LeadOff': 'FALSE', 'BaselineSway': 'FALSE', 'LeadDataCRC32': '1164778533', 'WaveFormData': 'VgBaAFsAWQBaAF0AXwBfAFwAWQBaAF0AXgBcAFwAXwBfAF0AWwBaAF4AYQBfAF4AWwBW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\\nCf87/w=='}, {'LeadByteCountTotal': '10000', 'LeadTimeOffset': '0', 'LeadSampleCountTotal': '5000', 'LeadAmplitudeUnitsPerBit': '4.88', 'LeadAmplitudeUnits': 'MICROVOLTS', 'LeadHighLimit': '32767', 'LeadLowLimit': '-32768', 'LeadID': 'V3', 'LeadOffsetFirstSample': '0', 'FirstSampleBaseline': '0', 'LeadSampleSize': '2', 'LeadOff': 'FALSE', 'BaselineSway': 'FALSE', 'LeadDataCRC32': '2671627499', 'WaveFormData': 'RgBKAEoASABJAEwAUABSAFAATQBOAFIAUQBSAFMAVwBaAFgAVgBWAFkAXABeAF4AXQBZ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\\n/f4t/w=='}, {'LeadByteCountTotal': '10000', 'LeadTimeOffset': '0', 'LeadSampleCountTotal': '5000', 'LeadAmplitudeUnitsPerBit': '4.88', 'LeadAmplitudeUnits': 'MICROVOLTS', 'LeadHighLimit': '32767', 'LeadLowLimit': '-32768', 'LeadID': 'V4', 'LeadOffsetFirstSample': '0', 'FirstSampleBaseline': '0', 'LeadSampleSize': '2', 'LeadOff': 'FALSE', 'BaselineSway': 'FALSE', 'LeadDataCRC32': '2218701139', 'WaveFormData': 'GwAeAB8AHQAbAB8AIgAkACMAIAAhACQAJAAkACUAKgAtACwALAAsAC8AMgA0ADUANAAz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\\nGf8+/w=='}, {'LeadByteCountTotal': '10000', 'LeadTimeOffset': '0', 'LeadSampleCountTotal': '5000', 'LeadAmplitudeUnitsPerBit': '4.88', 'LeadAmplitudeUnits': 'MICROVOLTS', 'LeadHighLimit': '32767', 'LeadLowLimit': '-32768', 'LeadID': 'V5', 'LeadOffsetFirstSample': '0', 'FirstSampleBaseline': '0', 'LeadSampleSize': '2', 'LeadOff': 'FALSE', 'BaselineSway': 'FALSE', 'LeadDataCRC32': '27449038', 'WaveFormData': 'AQAEAAQAAQAAAAEABQAIAAcABAAFAAgACAAGAAgADQAPABAADwAPABIAFgAXABgAFwAW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\\nZ/9//w=='}, {'LeadByteCountTotal': '10000', 'LeadTimeOffset': '0', 'LeadSampleCountTotal': '5000', 'LeadAmplitudeUnitsPerBit': '4.88', 'LeadAmplitudeUnits': 'MICROVOLTS', 'LeadHighLimit': '32767', 'LeadLowLimit': '-32768', 'LeadID': 'V6', 'LeadOffsetFirstSample': '0', 'FirstSampleBaseline': '0', 'LeadSampleSize': '2', 'LeadOff': 'FALSE', 'BaselineSway': 'FALSE', 'LeadDataCRC32': '3640394446', 'WaveFormData': '8//2//X/8f/w//L/9P/2//X/8v/z//X/9f/z//P/9//6//v/+v/6//z////////////8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\\n1P/b/w=='}]}], 'PharmaData': {'PharmaCartID': 'VU222030138SA'}}}\n",
      "list indices must be integers or slices, not str\n",
      "list indices must be integers or slices, not str\n",
      "list indices must be integers or slices, not str\n",
      "list indices must be integers or slices, not str\n",
      "list indices must be integers or slices, not str\n",
      "list indices must be integers or slices, not str\n"
     ]
    },
    {
     "name": "stderr",
     "output_type": "stream",
     "text": [
      "1622it [00:25, 56.73it/s]"
     ]
    },
    {
     "name": "stdout",
     "output_type": "stream",
     "text": [
      "list indices must be integers or slices, not str\n",
      "list indices must be integers or slices, not str\n",
      "list indices must be integers or slices, not str\n",
      "list indices must be integers or slices, not str\n",
      "list indices must be integers or slices, not str\n",
      "list indices must be integers or slices, not str\n",
      "list indices must be integers or slices, not str\n",
      "list indices must be integers or slices, not str\n",
      "list indices must be integers or slices, not str\n",
      "list indices must be integers or slices, not str\n",
      "list indices must be integers or slices, not str\n",
      "list indices must be integers or slices, not str\n",
      "list indices must be integers or slices, not str\n"
     ]
    },
    {
     "name": "stderr",
     "output_type": "stream",
     "text": [
      "1635it [00:26, 55.73it/s]"
     ]
    },
    {
     "name": "stdout",
     "output_type": "stream",
     "text": [
      "list indices must be integers or slices, not str\n",
      "list indices must be integers or slices, not str\n",
      "list indices must be integers or slices, not str\n",
      "list indices must be integers or slices, not str\n",
      "list indices must be integers or slices, not str\n",
      "list indices must be integers or slices, not str\n",
      "list indices must be integers or slices, not str\n",
      "list indices must be integers or slices, not str\n",
      "list indices must be integers or slices, not str\n",
      "list indices must be integers or slices, not str\n",
      "list indices must be integers or slices, not str\n",
      "list indices must be integers or slices, not str\n"
     ]
    },
    {
     "name": "stderr",
     "output_type": "stream",
     "text": [
      "1648it [00:26, 57.69it/s]"
     ]
    },
    {
     "name": "stdout",
     "output_type": "stream",
     "text": [
      "list indices must be integers or slices, not str\n",
      "list indices must be integers or slices, not str\n",
      "list indices must be integers or slices, not str\n",
      "list indices must be integers or slices, not str\n",
      "list indices must be integers or slices, not str\n",
      "list indices must be integers or slices, not str\n",
      "list indices must be integers or slices, not str\n",
      "list indices must be integers or slices, not str\n",
      "list indices must be integers or slices, not str\n",
      "list indices must be integers or slices, not str\n",
      "list indices must be integers or slices, not str\n",
      "list indices must be integers or slices, not str\n"
     ]
    },
    {
     "name": "stderr",
     "output_type": "stream",
     "text": [
      "1660it [00:26, 55.30it/s]"
     ]
    },
    {
     "name": "stdout",
     "output_type": "stream",
     "text": [
      "list indices must be integers or slices, not str\n",
      "list indices must be integers or slices, not str\n",
      "list indices must be integers or slices, not str\n",
      "list indices must be integers or slices, not str\n",
      "list indices must be integers or slices, not str\n",
      "list indices must be integers or slices, not str\n",
      "list indices must be integers or slices, not str\n",
      "list indices must be integers or slices, not str\n",
      "list indices must be integers or slices, not str\n",
      "list indices must be integers or slices, not str\n",
      "list indices must be integers or slices, not str\n",
      "list indices must be integers or slices, not str\n"
     ]
    },
    {
     "name": "stderr",
     "output_type": "stream",
     "text": [
      "1672it [00:26, 54.12it/s]"
     ]
    },
    {
     "name": "stdout",
     "output_type": "stream",
     "text": [
      "list indices must be integers or slices, not str\n",
      "list indices must be integers or slices, not str\n",
      "list indices must be integers or slices, not str\n",
      "list indices must be integers or slices, not str\n",
      "list indices must be integers or slices, not str\n",
      "list indices must be integers or slices, not str\n",
      "list indices must be integers or slices, not str\n",
      "list indices must be integers or slices, not str\n",
      "list indices must be integers or slices, not str\n",
      "list indices must be integers or slices, not str\n",
      "list indices must be integers or slices, not str\n",
      "list indices must be integers or slices, not str\n"
     ]
    },
    {
     "name": "stderr",
     "output_type": "stream",
     "text": [
      "1684it [00:27, 54.26it/s]"
     ]
    },
    {
     "name": "stdout",
     "output_type": "stream",
     "text": [
      "list indices must be integers or slices, not str\n",
      "list indices must be integers or slices, not str\n",
      "list indices must be integers or slices, not str\n",
      "list indices must be integers or slices, not str\n",
      "list indices must be integers or slices, not str\n",
      "list indices must be integers or slices, not str\n",
      "list indices must be integers or slices, not str\n",
      "list indices must be integers or slices, not str\n",
      "list indices must be integers or slices, not str\n",
      "list indices must be integers or slices, not str\n",
      "list indices must be integers or slices, not str\n",
      "list indices must be integers or slices, not str\n"
     ]
    },
    {
     "name": "stderr",
     "output_type": "stream",
     "text": [
      "1697it [00:27, 57.14it/s]"
     ]
    },
    {
     "name": "stdout",
     "output_type": "stream",
     "text": [
      "list indices must be integers or slices, not str\n",
      "list indices must be integers or slices, not str\n",
      "list indices must be integers or slices, not str\n",
      "list indices must be integers or slices, not str\n",
      "list indices must be integers or slices, not str\n",
      "list indices must be integers or slices, not str\n",
      "list indices must be integers or slices, not str\n",
      "list indices must be integers or slices, not str\n",
      "list indices must be integers or slices, not str\n",
      "list indices must be integers or slices, not str\n",
      "list indices must be integers or slices, not str\n",
      "list indices must be integers or slices, not str\n",
      "list indices must be integers or slices, not str\n"
     ]
    },
    {
     "name": "stderr",
     "output_type": "stream",
     "text": [
      "1710it [00:27, 58.27it/s]"
     ]
    },
    {
     "name": "stdout",
     "output_type": "stream",
     "text": [
      "list indices must be integers or slices, not str\n",
      "list indices must be integers or slices, not str\n",
      "list indices must be integers or slices, not str\n",
      "list indices must be integers or slices, not str\n",
      "{'DataType': 'RESTING', 'Site': '1', 'SiteName': 'INSTITUT DE CARDIOLOGIE DE MTL', 'AcquisitionDevice': 'MV360', 'Status': 'CONFIRMED', 'EditListStatus': 'Confirmed', 'Priority': 'NORMAL', 'Location': '10', 'LocationName': '10_CLINIQUE DE CHIRURGIE', 'AcquisitionTime': '10:57:55', 'AcquisitionDate': '06-21-2022', 'CartNumber': '3', 'AcquisitionSoftwareVersion': '1.02 SP02', 'AnalysisSoftwareVersion': '243', 'EditTime': '11:03:52', 'EditDate': '06-21-2022', 'OverreaderID': '11073', 'AcquisitionTechID': '12237', 'EditorID': '11073', 'TestReason': 'CHIR', 'OrderingMDLastName': 'Md Référant M-V', 'OrderingMDFirstName': '.', 'ReferringMDLastName': 'Md Référant M-V', 'ReferringMDFirstName': '.', 'OverreaderLastName': 'LISZKOWSKI, MD', 'OverreaderFirstName': 'MARK', 'AcquisitionTechLastName': 'DUBÉ', 'AcquisitionTechFirstName': 'MÉGANE', 'EditorLastName': 'LISZKOWSKI, MD', 'EditorFirstName': 'MARK', 'SecondaryID': '9020199', 'HISStatus': '2'}\n",
      "{'PatientID': '0608931', 'PatientAge': '75', 'AgeUnits': 'YEARS', 'DateofBirth': '02-18-1947', 'Gender': 'FEMALE', 'PatientLastName': 'RALET', 'PatientFirstName': 'MICHELINE'}\n",
      "{'SystolicBP': '131', 'DiastolicBP': '86', 'VentricularRate': '80', 'AtrialRate': '80', 'PRInterval': '196', 'QRSDuration': '94', 'QTInterval': '404', 'QTCorrected': '465', 'PAxis': '75', 'RAxis': '65', 'TAxis': '75', 'QRSCount': '13', 'QOnset': '223', 'QOffset': '270', 'POnset': '125', 'POffset': '190', 'TOffset': '425', 'ECGSampleBase': '500', 'ECGSampleExponent': '0', 'QTcFrederica': '445'}\n",
      "0608931\n",
      "list indices must be integers or slices, not str\n",
      "list indices must be integers or slices, not str\n",
      "list indices must be integers or slices, not str\n",
      "list indices must be integers or slices, not str\n",
      "list indices must be integers or slices, not str\n",
      "list indices must be integers or slices, not str\n",
      "list indices must be integers or slices, not str\n",
      "list indices must be integers or slices, not str\n"
     ]
    },
    {
     "name": "stderr",
     "output_type": "stream",
     "text": [
      "1717it [00:27, 59.55it/s]"
     ]
    },
    {
     "name": "stdout",
     "output_type": "stream",
     "text": [
      "list indices must be integers or slices, not str\n",
      "list indices must be integers or slices, not str\n",
      "list indices must be integers or slices, not str\n",
      "list indices must be integers or slices, not str\n",
      "list indices must be integers or slices, not str\n",
      "list indices must be integers or slices, not str\n",
      "list indices must be integers or slices, not str\n",
      "list indices must be integers or slices, not str\n",
      "list indices must be integers or slices, not str\n",
      "list indices must be integers or slices, not str\n",
      "list indices must be integers or slices, not str\n",
      "list indices must be integers or slices, not str\n",
      "list indices must be integers or slices, not str\n"
     ]
    },
    {
     "name": "stderr",
     "output_type": "stream",
     "text": [
      "1731it [00:27, 59.37it/s]"
     ]
    },
    {
     "name": "stdout",
     "output_type": "stream",
     "text": [
      "list indices must be integers or slices, not str\n",
      "list indices must be integers or slices, not str\n",
      "list indices must be integers or slices, not str\n",
      "list indices must be integers or slices, not str\n",
      "list indices must be integers or slices, not str\n",
      "list indices must be integers or slices, not str\n",
      "list indices must be integers or slices, not str\n",
      "list indices must be integers or slices, not str\n",
      "list indices must be integers or slices, not str\n",
      "list indices must be integers or slices, not str\n",
      "list indices must be integers or slices, not str\n",
      "list indices must be integers or slices, not str\n",
      "{'DataType': 'RESTING', 'Site': '1', 'SiteName': 'INSTITUT DE CARDIOLOGIE DE MTL', 'AcquisitionDevice': 'MV360', 'Status': 'CONFIRMED', 'EditListStatus': 'Confirmed', 'Priority': 'NORMAL', 'Location': '22', 'LocationName': '22_URGENCE MAJEURE', 'AcquisitionTime': '22:26:09', 'AcquisitionDate': '06-20-2022', 'CartNumber': '10', 'AcquisitionSoftwareVersion': '1.02 SP02', 'AnalysisSoftwareVersion': '243', 'EditTime': '09:31:39', 'EditDate': '06-21-2022', 'OverreaderID': '11073', 'AcquisitionTechID': '12236', 'EditorID': '11073', 'TestReason': 'STAT REA', 'OverreaderLastName': 'LISZKOWSKI, MD', 'OverreaderFirstName': 'MARK', 'AcquisitionTechLastName': 'FARDAD', 'AcquisitionTechFirstName': 'NIKITA', 'EditorLastName': 'LISZKOWSKI, MD', 'EditorFirstName': 'MARK', 'HISStatus': '2'}\n",
      "{'PatientID': '0608990', 'PatientAge': '77', 'AgeUnits': 'YEARS', 'DateofBirth': '11-10-1944', 'Gender': 'FEMALE', 'PatientLastName': 'MASTROGIUSEPPE', 'PatientFirstName': 'ANNA'}\n",
      "{'VentricularRate': '75', 'AtrialRate': '75', 'PRInterval': '170', 'QRSDuration': '70', 'QTInterval': '382', 'QTCorrected': '426', 'PAxis': '66', 'RAxis': '-10', 'TAxis': '19', 'QRSCount': '13', 'QOnset': '224', 'QOffset': '259', 'POnset': '139', 'POffset': '170', 'TOffset': '415', 'ECGSampleBase': '500', 'ECGSampleExponent': '0', 'QTcFrederica': '411'}\n",
      "0608990\n"
     ]
    },
    {
     "name": "stderr",
     "output_type": "stream",
     "text": [
      "1743it [00:28, 57.63it/s]"
     ]
    },
    {
     "name": "stdout",
     "output_type": "stream",
     "text": [
      "list indices must be integers or slices, not str\n",
      "list indices must be integers or slices, not str\n",
      "list indices must be integers or slices, not str\n",
      "list indices must be integers or slices, not str\n",
      "list indices must be integers or slices, not str\n",
      "list indices must be integers or slices, not str\n",
      "list indices must be integers or slices, not str\n",
      "list indices must be integers or slices, not str\n",
      "list indices must be integers or slices, not str\n",
      "list indices must be integers or slices, not str\n",
      "list indices must be integers or slices, not str\n",
      "list indices must be integers or slices, not str\n"
     ]
    },
    {
     "name": "stderr",
     "output_type": "stream",
     "text": [
      "1756it [00:28, 59.15it/s]"
     ]
    },
    {
     "name": "stdout",
     "output_type": "stream",
     "text": [
      "list indices must be integers or slices, not str\n",
      "list indices must be integers or slices, not str\n",
      "list indices must be integers or slices, not str\n",
      "list indices must be integers or slices, not str\n",
      "list indices must be integers or slices, not str\n",
      "list indices must be integers or slices, not str\n",
      "list indices must be integers or slices, not str\n",
      "list indices must be integers or slices, not str\n",
      "list indices must be integers or slices, not str\n",
      "list indices must be integers or slices, not str\n",
      "list indices must be integers or slices, not str\n",
      "list indices must be integers or slices, not str\n"
     ]
    },
    {
     "name": "stderr",
     "output_type": "stream",
     "text": [
      "1769it [00:28, 58.00it/s]"
     ]
    },
    {
     "name": "stdout",
     "output_type": "stream",
     "text": [
      "list indices must be integers or slices, not str\n",
      "list indices must be integers or slices, not str\n",
      "list indices must be integers or slices, not str\n",
      "list indices must be integers or slices, not str\n",
      "list indices must be integers or slices, not str\n",
      "list indices must be integers or slices, not str\n",
      "list indices must be integers or slices, not str\n",
      "list indices must be integers or slices, not str\n",
      "list indices must be integers or slices, not str\n",
      "list indices must be integers or slices, not str\n",
      "list indices must be integers or slices, not str\n",
      "list indices must be integers or slices, not str\n",
      "list indices must be integers or slices, not str\n"
     ]
    },
    {
     "name": "stderr",
     "output_type": "stream",
     "text": [
      "1783it [00:28, 59.82it/s]"
     ]
    },
    {
     "name": "stdout",
     "output_type": "stream",
     "text": [
      "list indices must be integers or slices, not str\n",
      "list indices must be integers or slices, not str\n",
      "list indices must be integers or slices, not str\n",
      "list indices must be integers or slices, not str\n",
      "list indices must be integers or slices, not str\n",
      "list indices must be integers or slices, not str\n",
      "list indices must be integers or slices, not str\n",
      "list indices must be integers or slices, not str\n",
      "list indices must be integers or slices, not str\n",
      "list indices must be integers or slices, not str\n",
      "list indices must be integers or slices, not str\n",
      "list indices must be integers or slices, not str\n"
     ]
    },
    {
     "name": "stderr",
     "output_type": "stream",
     "text": [
      "1797it [00:28, 59.45it/s]"
     ]
    },
    {
     "name": "stdout",
     "output_type": "stream",
     "text": [
      "list indices must be integers or slices, not str\n",
      "list indices must be integers or slices, not str\n",
      "list indices must be integers or slices, not str\n",
      "list indices must be integers or slices, not str\n",
      "list indices must be integers or slices, not str\n",
      "list indices must be integers or slices, not str\n",
      "{'DataType': 'RESTING', 'Site': '1', 'SiteName': 'INSTITUT DE CARDIOLOGIE DE MTL', 'AcquisitionDevice': 'MV360', 'Status': 'CONFIRMED', 'EditListStatus': 'Confirmed', 'Priority': 'NORMAL', 'Location': '25', 'LocationName': '25_PRE-EFFORT', 'AcquisitionTime': '08:19:22', 'AcquisitionDate': '06-22-2022', 'CartNumber': '17', 'AcquisitionSoftwareVersion': '1.02 SP02', 'AnalysisSoftwareVersion': '243', 'EditTime': '10:37:21', 'EditDate': '06-22-2022', 'OverreaderID': '156', 'AcquisitionTechID': '10815', 'EditorID': '156', 'TestReason': 'PREF', 'OverreaderLastName': 'BASMADJIAN, MD', 'OverreaderFirstName': 'ARSENE-JOSEPH', 'AcquisitionTechLastName': 'ST-GERMAIN', 'AcquisitionTechFirstName': 'CAROLINE', 'EditorLastName': 'BASMADJIAN, MD', 'EditorFirstName': 'ARSENE-JOSEPH', 'SecondaryID': '9019688', 'HISStatus': '2'}\n",
      "{'PatientID': '0609100', 'PatientAge': '76', 'AgeUnits': 'YEARS', 'DateofBirth': '05-22-1946', 'Gender': 'FEMALE', 'PatientLastName': 'GASCON', 'PatientFirstName': 'HELENE'}\n",
      "{'VentricularRate': '78', 'AtrialRate': '78', 'PRInterval': '168', 'QRSDuration': '74', 'QTInterval': '362', 'QTCorrected': '412', 'PAxis': '20', 'RAxis': '18', 'TAxis': '47', 'QRSCount': '13', 'QOnset': '221', 'QOffset': '258', 'POnset': '137', 'POffset': '186', 'TOffset': '402', 'ECGSampleBase': '500', 'ECGSampleExponent': '0', 'QTcFrederica': '395'}\n",
      "0609100\n",
      "list indices must be integers or slices, not str\n",
      "list indices must be integers or slices, not str\n",
      "list indices must be integers or slices, not str\n",
      "list indices must be integers or slices, not str\n",
      "list indices must be integers or slices, not str\n",
      "list indices must be integers or slices, not str\n",
      "list indices must be integers or slices, not str\n"
     ]
    },
    {
     "name": "stderr",
     "output_type": "stream",
     "text": [
      "1810it [00:29, 59.27it/s]"
     ]
    },
    {
     "name": "stdout",
     "output_type": "stream",
     "text": [
      "list indices must be integers or slices, not str\n",
      "list indices must be integers or slices, not str\n",
      "list indices must be integers or slices, not str\n",
      "list indices must be integers or slices, not str\n",
      "list indices must be integers or slices, not str\n",
      "list indices must be integers or slices, not str\n",
      "list indices must be integers or slices, not str\n",
      "list indices must be integers or slices, not str\n",
      "list indices must be integers or slices, not str\n",
      "list indices must be integers or slices, not str\n",
      "list indices must be integers or slices, not str\n",
      "list indices must be integers or slices, not str\n"
     ]
    },
    {
     "name": "stderr",
     "output_type": "stream",
     "text": [
      "1817it [00:29, 59.69it/s]"
     ]
    },
    {
     "name": "stdout",
     "output_type": "stream",
     "text": [
      "list indices must be integers or slices, not str\n",
      "list indices must be integers or slices, not str\n",
      "list indices must be integers or slices, not str\n",
      "list indices must be integers or slices, not str\n",
      "list indices must be integers or slices, not str\n",
      "list indices must be integers or slices, not str\n",
      "list indices must be integers or slices, not str\n",
      "list indices must be integers or slices, not str\n",
      "list indices must be integers or slices, not str\n",
      "list indices must be integers or slices, not str\n",
      "list indices must be integers or slices, not str\n",
      "list indices must be integers or slices, not str\n"
     ]
    },
    {
     "name": "stderr",
     "output_type": "stream",
     "text": [
      "1829it [00:29, 56.97it/s]"
     ]
    },
    {
     "name": "stdout",
     "output_type": "stream",
     "text": [
      "list indices must be integers or slices, not str\n",
      "list indices must be integers or slices, not str\n",
      "list indices must be integers or slices, not str\n",
      "list indices must be integers or slices, not str\n",
      "list indices must be integers or slices, not str\n",
      "list indices must be integers or slices, not str\n",
      "list indices must be integers or slices, not str\n",
      "list indices must be integers or slices, not str\n",
      "list indices must be integers or slices, not str\n",
      "list indices must be integers or slices, not str\n",
      "list indices must be integers or slices, not str\n",
      "list indices must be integers or slices, not str\n"
     ]
    },
    {
     "name": "stderr",
     "output_type": "stream",
     "text": [
      "1842it [00:29, 58.49it/s]"
     ]
    },
    {
     "name": "stdout",
     "output_type": "stream",
     "text": [
      "list indices must be integers or slices, not str\n",
      "list indices must be integers or slices, not str\n",
      "list indices must be integers or slices, not str\n",
      "list indices must be integers or slices, not str\n",
      "list indices must be integers or slices, not str\n",
      "list indices must be integers or slices, not str\n",
      "list indices must be integers or slices, not str\n",
      "list indices must be integers or slices, not str\n",
      "list indices must be integers or slices, not str\n",
      "list indices must be integers or slices, not str\n",
      "list indices must be integers or slices, not str\n",
      "list indices must be integers or slices, not str\n",
      "list indices must be integers or slices, not str\n"
     ]
    },
    {
     "name": "stderr",
     "output_type": "stream",
     "text": [
      "1856it [00:29, 59.54it/s]"
     ]
    },
    {
     "name": "stdout",
     "output_type": "stream",
     "text": [
      "list indices must be integers or slices, not str\n",
      "list indices must be integers or slices, not str\n",
      "list indices must be integers or slices, not str\n",
      "list indices must be integers or slices, not str\n",
      "list indices must be integers or slices, not str\n",
      "list indices must be integers or slices, not str\n",
      "list indices must be integers or slices, not str\n",
      "list indices must be integers or slices, not str\n",
      "list indices must be integers or slices, not str\n",
      "list indices must be integers or slices, not str\n",
      "list indices must be integers or slices, not str\n",
      "list indices must be integers or slices, not str\n"
     ]
    },
    {
     "name": "stderr",
     "output_type": "stream",
     "text": [
      "1868it [00:30, 56.59it/s]"
     ]
    },
    {
     "name": "stdout",
     "output_type": "stream",
     "text": [
      "list indices must be integers or slices, not str\n",
      "list indices must be integers or slices, not str\n",
      "list indices must be integers or slices, not str\n",
      "list indices must be integers or slices, not str\n",
      "list indices must be integers or slices, not str\n",
      "list indices must be integers or slices, not str\n",
      "list indices must be integers or slices, not str\n",
      "list indices must be integers or slices, not str\n",
      "list indices must be integers or slices, not str\n",
      "list indices must be integers or slices, not str\n",
      "list indices must be integers or slices, not str\n"
     ]
    },
    {
     "name": "stderr",
     "output_type": "stream",
     "text": [
      "1881it [00:30, 57.31it/s]"
     ]
    },
    {
     "name": "stdout",
     "output_type": "stream",
     "text": [
      "list indices must be integers or slices, not str\n",
      "list indices must be integers or slices, not str\n",
      "list indices must be integers or slices, not str\n",
      "list indices must be integers or slices, not str\n",
      "list indices must be integers or slices, not str\n",
      "list indices must be integers or slices, not str\n",
      "list indices must be integers or slices, not str\n",
      "list indices must be integers or slices, not str\n",
      "list indices must be integers or slices, not str\n",
      "list indices must be integers or slices, not str\n",
      "list indices must be integers or slices, not str\n",
      "list indices must be integers or slices, not str\n",
      "list indices must be integers or slices, not str\n"
     ]
    },
    {
     "name": "stderr",
     "output_type": "stream",
     "text": [
      "1894it [00:30, 57.93it/s]"
     ]
    },
    {
     "name": "stdout",
     "output_type": "stream",
     "text": [
      "list indices must be integers or slices, not str\n",
      "list indices must be integers or slices, not str\n",
      "list indices must be integers or slices, not str\n",
      "list indices must be integers or slices, not str\n",
      "list indices must be integers or slices, not str\n",
      "list indices must be integers or slices, not str\n",
      "list indices must be integers or slices, not str\n",
      "list indices must be integers or slices, not str\n",
      "list indices must be integers or slices, not str\n",
      "list indices must be integers or slices, not str\n",
      "list indices must be integers or slices, not str\n",
      "list indices must be integers or slices, not str\n"
     ]
    },
    {
     "name": "stderr",
     "output_type": "stream",
     "text": [
      "1901it [00:30, 56.67it/s]"
     ]
    },
    {
     "name": "stdout",
     "output_type": "stream",
     "text": [
      "list indices must be integers or slices, not str\n",
      "list indices must be integers or slices, not str\n",
      "list indices must be integers or slices, not str\n",
      "list indices must be integers or slices, not str\n",
      "list indices must be integers or slices, not str\n",
      "list indices must be integers or slices, not str\n",
      "list indices must be integers or slices, not str\n",
      "list indices must be integers or slices, not str\n",
      "list indices must be integers or slices, not str\n",
      "list indices must be integers or slices, not str\n",
      "list indices must be integers or slices, not str\n",
      "list indices must be integers or slices, not str\n"
     ]
    },
    {
     "name": "stderr",
     "output_type": "stream",
     "text": [
      "1913it [00:30, 57.28it/s]"
     ]
    },
    {
     "name": "stdout",
     "output_type": "stream",
     "text": [
      "list indices must be integers or slices, not str\n",
      "list indices must be integers or slices, not str\n",
      "list indices must be integers or slices, not str\n",
      "list indices must be integers or slices, not str\n",
      "list indices must be integers or slices, not str\n",
      "list indices must be integers or slices, not str\n",
      "list indices must be integers or slices, not str\n",
      "list indices must be integers or slices, not str\n",
      "list indices must be integers or slices, not str\n",
      "list indices must be integers or slices, not str\n"
     ]
    },
    {
     "name": "stderr",
     "output_type": "stream",
     "text": [
      "1926it [00:31, 55.21it/s]"
     ]
    },
    {
     "name": "stdout",
     "output_type": "stream",
     "text": [
      "list indices must be integers or slices, not str\n",
      "list indices must be integers or slices, not str\n",
      "list indices must be integers or slices, not str\n",
      "list indices must be integers or slices, not str\n",
      "list indices must be integers or slices, not str\n",
      "list indices must be integers or slices, not str\n",
      "list indices must be integers or slices, not str\n",
      "list indices must be integers or slices, not str\n",
      "list indices must be integers or slices, not str\n",
      "list indices must be integers or slices, not str\n",
      "list indices must be integers or slices, not str\n",
      "list indices must be integers or slices, not str\n",
      "list indices must be integers or slices, not str\n"
     ]
    },
    {
     "name": "stderr",
     "output_type": "stream",
     "text": [
      "1939it [00:31, 57.56it/s]"
     ]
    },
    {
     "name": "stdout",
     "output_type": "stream",
     "text": [
      "list indices must be integers or slices, not str\n",
      "list indices must be integers or slices, not str\n",
      "list indices must be integers or slices, not str\n",
      "list indices must be integers or slices, not str\n",
      "list indices must be integers or slices, not str\n",
      "list indices must be integers or slices, not str\n",
      "list indices must be integers or slices, not str\n",
      "list indices must be integers or slices, not str\n",
      "list indices must be integers or slices, not str\n",
      "list indices must be integers or slices, not str\n",
      "list indices must be integers or slices, not str\n",
      "list indices must be integers or slices, not str\n"
     ]
    },
    {
     "name": "stderr",
     "output_type": "stream",
     "text": [
      "1951it [00:31, 56.74it/s]"
     ]
    },
    {
     "name": "stdout",
     "output_type": "stream",
     "text": [
      "list indices must be integers or slices, not str\n",
      "list indices must be integers or slices, not str\n",
      "list indices must be integers or slices, not str\n",
      "list indices must be integers or slices, not str\n",
      "list indices must be integers or slices, not str\n",
      "list indices must be integers or slices, not str\n",
      "list indices must be integers or slices, not str\n",
      "list indices must be integers or slices, not str\n",
      "list indices must be integers or slices, not str\n",
      "list indices must be integers or slices, not str\n",
      "list indices must be integers or slices, not str\n"
     ]
    },
    {
     "name": "stderr",
     "output_type": "stream",
     "text": [
      "1964it [00:31, 57.35it/s]"
     ]
    },
    {
     "name": "stdout",
     "output_type": "stream",
     "text": [
      "list indices must be integers or slices, not str\n",
      "list indices must be integers or slices, not str\n",
      "list indices must be integers or slices, not str\n",
      "list indices must be integers or slices, not str\n",
      "list indices must be integers or slices, not str\n",
      "list indices must be integers or slices, not str\n",
      "list indices must be integers or slices, not str\n",
      "{'DataType': 'RESTING', 'Site': '1', 'SiteName': 'INSTITUT DE CARDIOLOGIE DE MTL', 'AcquisitionDevice': 'MAC55', 'Status': 'CONFIRMED', 'EditListStatus': 'Confirmed', 'Priority': 'NORMAL', 'Location': '2', 'LocationName': '2_CLINIQUE DES CONGENITAUX', 'AcquisitionTime': '09:32:08', 'AcquisitionDate': '01-26-2022', 'CartNumber': '60', 'AcquisitionSoftwareVersion': '009C', 'AnalysisSoftwareVersion': '239', 'EditTime': '11:26:16', 'EditDate': '01-26-2022', 'OverreaderID': '127', 'AcquisitionTechID': '8575', 'EditorID': '127', 'TestReason': 'CONG', 'OrderingMDLastName': 'Md Référant M-V', 'OrderingMDFirstName': '.', 'ReferringMDLastName': 'Md Référant M-V', 'ReferringMDFirstName': '.', 'OverreaderLastName': 'DORE, MD', 'OverreaderFirstName': 'ANNIE', 'AcquisitionTechLastName': 'OVERCHUK', 'AcquisitionTechFirstName': 'NATALIYA', 'EditorLastName': 'DORE, MD', 'EditorFirstName': 'ANNIE', 'HISStatus': '2'}\n",
      "{'PatientID': '0012061', 'PatientAge': '62', 'AgeUnits': 'YEARS', 'DateofBirth': '05-07-1959', 'Gender': 'MALE', 'PatientLastName': 'FLAMEZ', 'PatientFirstName': 'JEAN LOUIS'}\n",
      "{'SystolicBP': '107', 'DiastolicBP': '64', 'VentricularRate': '75', 'AtrialRate': '73', 'QRSDuration': '208', 'QTInterval': '526', 'QTCorrected': '587', 'RAxis': '180', 'TAxis': '7', 'QRSCount': '12', 'QOnset': '176', 'QOffset': '280', 'TOffset': '439', 'ECGSampleBase': '500', 'ECGSampleExponent': '0', 'QTcFrederica': '566'}\n",
      "0012061\n",
      "{'DataType': 'RESTING', 'Site': '1', 'SiteName': 'INSTITUT DE CARDIOLOGIE DE MTL', 'AcquisitionDevice': 'MAC55', 'Status': 'CONFIRMED', 'EditListStatus': 'Confirmed', 'Priority': 'NORMAL', 'Location': '2', 'LocationName': '2_CLINIQUE DES CONGENITAUX', 'AcquisitionTime': '09:32:08', 'AcquisitionDate': '01-26-2022', 'CartNumber': '60', 'AcquisitionSoftwareVersion': '009C', 'AnalysisSoftwareVersion': '239', 'EditTime': '11:26:16', 'EditDate': '01-26-2022', 'OverreaderID': '127', 'AcquisitionTechID': '8575', 'EditorID': '127', 'TestReason': 'CONG', 'OrderingMDLastName': 'Md Référant M-V', 'OrderingMDFirstName': '.', 'ReferringMDLastName': 'Md Référant M-V', 'ReferringMDFirstName': '.', 'OverreaderLastName': 'DORE, MD', 'OverreaderFirstName': 'ANNIE', 'AcquisitionTechLastName': 'OVERCHUK', 'AcquisitionTechFirstName': 'NATALIYA', 'EditorLastName': 'DORE, MD', 'EditorFirstName': 'ANNIE', 'HISStatus': '2'}\n",
      "{'PatientID': '0012061', 'PatientAge': '62', 'AgeUnits': 'YEARS', 'DateofBirth': '05-07-1959', 'Gender': 'MALE', 'PatientLastName': 'FLAMEZ', 'PatientFirstName': 'JEAN LOUIS'}\n",
      "{'SystolicBP': '107', 'DiastolicBP': '64', 'VentricularRate': '75', 'AtrialRate': '73', 'QRSDuration': '208', 'QTInterval': '526', 'QTCorrected': '587', 'RAxis': '180', 'TAxis': '7', 'QRSCount': '12', 'QOnset': '176', 'QOffset': '280', 'TOffset': '439', 'ECGSampleBase': '500', 'ECGSampleExponent': '0', 'QTcFrederica': '566'}\n",
      "0012061\n",
      "list indices must be integers or slices, not str\n",
      "list indices must be integers or slices, not str\n",
      "list indices must be integers or slices, not str\n",
      "list indices must be integers or slices, not str\n",
      "list indices must be integers or slices, not str\n",
      "list indices must be integers or slices, not str\n"
     ]
    },
    {
     "name": "stderr",
     "output_type": "stream",
     "text": [
      "1976it [00:32, 57.61it/s]"
     ]
    },
    {
     "name": "stdout",
     "output_type": "stream",
     "text": [
      "list indices must be integers or slices, not str\n",
      "list indices must be integers or slices, not str\n",
      "list indices must be integers or slices, not str\n",
      "list indices must be integers or slices, not str\n",
      "list indices must be integers or slices, not str\n",
      "list indices must be integers or slices, not str\n",
      "list indices must be integers or slices, not str\n",
      "list indices must be integers or slices, not str\n",
      "list indices must be integers or slices, not str\n",
      "list indices must be integers or slices, not str\n",
      "list indices must be integers or slices, not str\n"
     ]
    },
    {
     "name": "stderr",
     "output_type": "stream",
     "text": [
      "1988it [00:32, 55.17it/s]"
     ]
    },
    {
     "name": "stdout",
     "output_type": "stream",
     "text": [
      "list indices must be integers or slices, not str\n",
      "list indices must be integers or slices, not str\n",
      "list indices must be integers or slices, not str\n",
      "list indices must be integers or slices, not str\n",
      "list indices must be integers or slices, not str\n",
      "list indices must be integers or slices, not str\n",
      "list indices must be integers or slices, not str\n",
      "list indices must be integers or slices, not str\n",
      "list indices must be integers or slices, not str\n",
      "list indices must be integers or slices, not str\n",
      "list indices must be integers or slices, not str\n",
      "list indices must be integers or slices, not str\n"
     ]
    },
    {
     "name": "stderr",
     "output_type": "stream",
     "text": [
      "2000it [00:32, 55.40it/s]"
     ]
    },
    {
     "name": "stdout",
     "output_type": "stream",
     "text": [
      "list indices must be integers or slices, not str\n",
      "list indices must be integers or slices, not str\n",
      "list indices must be integers or slices, not str\n",
      "list indices must be integers or slices, not str\n",
      "list indices must be integers or slices, not str\n",
      "list indices must be integers or slices, not str\n",
      "list indices must be integers or slices, not str\n",
      "list indices must be integers or slices, not str\n",
      "list indices must be integers or slices, not str\n",
      "list indices must be integers or slices, not str\n",
      "list indices must be integers or slices, not str\n",
      "list indices must be integers or slices, not str\n"
     ]
    },
    {
     "name": "stderr",
     "output_type": "stream",
     "text": [
      "2006it [00:32, 52.45it/s]"
     ]
    },
    {
     "name": "stdout",
     "output_type": "stream",
     "text": [
      "list indices must be integers or slices, not str\n",
      "list indices must be integers or slices, not str\n",
      "list indices must be integers or slices, not str\n",
      "list indices must be integers or slices, not str\n",
      "list indices must be integers or slices, not str\n",
      "list indices must be integers or slices, not str\n",
      "list indices must be integers or slices, not str\n",
      "list indices must be integers or slices, not str\n",
      "list indices must be integers or slices, not str\n",
      "list indices must be integers or slices, not str\n"
     ]
    },
    {
     "name": "stderr",
     "output_type": "stream",
     "text": [
      "2019it [00:32, 53.79it/s]"
     ]
    },
    {
     "name": "stdout",
     "output_type": "stream",
     "text": [
      "list indices must be integers or slices, not str\n",
      "list indices must be integers or slices, not str\n",
      "list indices must be integers or slices, not str\n",
      "list indices must be integers or slices, not str\n",
      "list indices must be integers or slices, not str\n",
      "list indices must be integers or slices, not str\n",
      "list indices must be integers or slices, not str\n",
      "list indices must be integers or slices, not str\n",
      "list indices must be integers or slices, not str\n",
      "list indices must be integers or slices, not str\n",
      "list indices must be integers or slices, not str\n",
      "list indices must be integers or slices, not str\n",
      "list indices must be integers or slices, not str\n"
     ]
    },
    {
     "name": "stderr",
     "output_type": "stream",
     "text": [
      "2032it [00:33, 58.01it/s]"
     ]
    },
    {
     "name": "stdout",
     "output_type": "stream",
     "text": [
      "list indices must be integers or slices, not str\n",
      "list indices must be integers or slices, not str\n",
      "list indices must be integers or slices, not str\n",
      "list indices must be integers or slices, not str\n",
      "list indices must be integers or slices, not str\n",
      "list indices must be integers or slices, not str\n",
      "list indices must be integers or slices, not str\n",
      "list indices must be integers or slices, not str\n",
      "list indices must be integers or slices, not str\n",
      "list indices must be integers or slices, not str\n",
      "list indices must be integers or slices, not str\n",
      "list indices must be integers or slices, not str\n",
      "list indices must be integers or slices, not str\n"
     ]
    },
    {
     "name": "stderr",
     "output_type": "stream",
     "text": [
      "2044it [00:33, 55.86it/s]"
     ]
    },
    {
     "name": "stdout",
     "output_type": "stream",
     "text": [
      "list indices must be integers or slices, not str\n",
      "list indices must be integers or slices, not str\n",
      "list indices must be integers or slices, not str\n",
      "list indices must be integers or slices, not str\n",
      "list indices must be integers or slices, not str\n",
      "list indices must be integers or slices, not str\n",
      "list indices must be integers or slices, not str\n",
      "list indices must be integers or slices, not str\n",
      "list indices must be integers or slices, not str\n",
      "list indices must be integers or slices, not str\n",
      "list indices must be integers or slices, not str\n",
      "list indices must be integers or slices, not str\n"
     ]
    },
    {
     "name": "stderr",
     "output_type": "stream",
     "text": [
      "2056it [00:33, 56.37it/s]"
     ]
    },
    {
     "name": "stdout",
     "output_type": "stream",
     "text": [
      "list indices must be integers or slices, not str\n",
      "list indices must be integers or slices, not str\n",
      "list indices must be integers or slices, not str\n",
      "list indices must be integers or slices, not str\n",
      "list indices must be integers or slices, not str\n",
      "list indices must be integers or slices, not str\n",
      "list indices must be integers or slices, not str\n",
      "list indices must be integers or slices, not str\n",
      "list indices must be integers or slices, not str\n",
      "list indices must be integers or slices, not str\n",
      "{'DataType': 'RESTING', 'Site': '1', 'SiteName': 'INSTITUT DE CARDIOLOGIE DE MTL', 'AcquisitionDevice': 'MAC55', 'Status': 'CONFIRMED', 'EditListStatus': 'Confirmed', 'Priority': 'NORMAL', 'Location': '22', 'LocationName': '22_URGENCE MAJEURE', 'RoomID': 'YHB3', 'AcquisitionTime': '12:27:59', 'AcquisitionDate': '01-27-2022', 'CartNumber': '84', 'AcquisitionSoftwareVersion': '009C', 'AnalysisSoftwareVersion': '239', 'EditTime': '14:41:36', 'EditDate': '01-27-2022', 'OverreaderID': '10', 'AcquisitionTechID': '3217', 'EditorID': '3217', 'TestReason': 'UM', 'OrderingMDLastName': 'Urgentologue', 'OrderingMDFirstName': 'ICM', 'ReferringMDLastName': 'Urgentologue', 'ReferringMDFirstName': 'ICM', 'OverreaderLastName': 'RACINE, MD', 'OverreaderFirstName': 'NORMAND', 'AcquisitionTechLastName': 'DESAUTELS', 'AcquisitionTechFirstName': 'VALÉRIE', 'EditorLastName': 'DESAUTELS', 'EditorFirstName': 'VALÉRIE', 'HISStatus': '2'}\n",
      "{'PatientID': '0021583', 'PatientAge': '65', 'AgeUnits': 'YEARS', 'DateofBirth': '07-01-1956', 'Gender': 'FEMALE', 'PatientLastName': 'TREMBLAY', 'PatientFirstName': 'LYNE'}\n",
      "{'VentricularRate': '62', 'AtrialRate': '62', 'PRInterval': '178', 'QRSDuration': '164', 'QTInterval': '492', 'QTCorrected': '499', 'PAxis': '58', 'RAxis': '146', 'TAxis': '93', 'QRSCount': '10', 'QOnset': '190', 'QOffset': '272', 'POnset': '101', 'POffset': '157', 'TOffset': '436', 'ECGSampleBase': '500', 'ECGSampleExponent': '0', 'QTcFrederica': '497'}\n",
      "0021583\n",
      "{'DataType': 'RESTING', 'Site': '1', 'SiteName': 'INSTITUT DE CARDIOLOGIE DE MTL', 'AcquisitionDevice': 'MAC55', 'Status': 'CONFIRMED', 'EditListStatus': 'Confirmed', 'Priority': 'NORMAL', 'Location': '22', 'LocationName': '22_URGENCE MAJEURE', 'RoomID': 'YHB3', 'AcquisitionTime': '12:27:59', 'AcquisitionDate': '01-27-2022', 'CartNumber': '84', 'AcquisitionSoftwareVersion': '009C', 'AnalysisSoftwareVersion': '239', 'EditTime': '14:41:36', 'EditDate': '01-27-2022', 'OverreaderID': '10', 'AcquisitionTechID': '3217', 'EditorID': '3217', 'TestReason': 'UM', 'OrderingMDLastName': 'Urgentologue', 'OrderingMDFirstName': 'ICM', 'ReferringMDLastName': 'Urgentologue', 'ReferringMDFirstName': 'ICM', 'OverreaderLastName': 'RACINE, MD', 'OverreaderFirstName': 'NORMAND', 'AcquisitionTechLastName': 'DESAUTELS', 'AcquisitionTechFirstName': 'VALÉRIE', 'EditorLastName': 'DESAUTELS', 'EditorFirstName': 'VALÉRIE', 'HISStatus': '2'}\n",
      "{'PatientID': '0021583', 'PatientAge': '65', 'AgeUnits': 'YEARS', 'DateofBirth': '07-01-1956', 'Gender': 'FEMALE', 'PatientLastName': 'TREMBLAY', 'PatientFirstName': 'LYNE'}\n",
      "{'VentricularRate': '62', 'AtrialRate': '62', 'PRInterval': '178', 'QRSDuration': '164', 'QTInterval': '492', 'QTCorrected': '499', 'PAxis': '58', 'RAxis': '146', 'TAxis': '93', 'QRSCount': '10', 'QOnset': '190', 'QOffset': '272', 'POnset': '101', 'POffset': '157', 'TOffset': '436', 'ECGSampleBase': '500', 'ECGSampleExponent': '0', 'QTcFrederica': '497'}\n",
      "0021583\n",
      "list indices must be integers or slices, not str\n",
      "list indices must be integers or slices, not str\n",
      "{'DataType': 'RESTING', 'Site': '1', 'SiteName': 'INSTITUT DE CARDIOLOGIE DE MTL', 'AcquisitionDevice': 'MAC55', 'Status': 'CONFIRMED', 'EditListStatus': 'Confirmed', 'Priority': 'NORMAL', 'Location': '41', 'LocationName': '4 CENTRE', 'RoomID': '414-2', 'AcquisitionTime': '22:28:33', 'AcquisitionDate': '01-27-2022', 'CartNumber': '63', 'AcquisitionSoftwareVersion': '009C', 'AnalysisSoftwareVersion': '239', 'EditTime': '07:22:19', 'EditDate': '01-28-2022', 'OverreaderID': '6666', 'AcquisitionTechID': '11147', 'EditorID': '3217', 'TestReason': 'PRE EPS', 'OverreaderLastName': 'NON VALIDÉ', 'OverreaderFirstName': 'PRELIMINAIRE', 'AcquisitionTechLastName': 'GASPARD', 'AcquisitionTechFirstName': 'REBECCA', 'EditorLastName': 'DESAUTELS', 'EditorFirstName': 'VALÉRIE', 'HISStatus': '0'}\n",
      "{'PatientID': '0021583', 'PatientAge': '65', 'AgeUnits': 'YEARS', 'DateofBirth': '07-01-1956', 'Gender': 'FEMALE', 'PatientLastName': 'TREMBLAY', 'PatientFirstName': 'LYNE'}\n",
      "{'VentricularRate': '63', 'AtrialRate': '63', 'PRInterval': '180', 'QRSDuration': '164', 'QTInterval': '474', 'QTCorrected': '485', 'RAxis': '159', 'TAxis': '94', 'QRSCount': '10', 'QOnset': '191', 'QOffset': '273', 'POnset': '101', 'POffset': '135', 'TOffset': '428', 'ECGSampleBase': '500', 'ECGSampleExponent': '0', 'QTcFrederica': '481'}\n",
      "0021583\n",
      "{'DataType': 'RESTING', 'Site': '1', 'SiteName': 'INSTITUT DE CARDIOLOGIE DE MTL', 'AcquisitionDevice': 'MAC55', 'Status': 'CONFIRMED', 'EditListStatus': 'Confirmed', 'Priority': 'NORMAL', 'Location': '41', 'LocationName': '4 CENTRE', 'RoomID': '414-2', 'AcquisitionTime': '22:28:33', 'AcquisitionDate': '01-27-2022', 'CartNumber': '63', 'AcquisitionSoftwareVersion': '009C', 'AnalysisSoftwareVersion': '239', 'EditTime': '07:22:19', 'EditDate': '01-28-2022', 'OverreaderID': '6666', 'AcquisitionTechID': '11147', 'EditorID': '3217', 'TestReason': 'PRE EPS', 'OverreaderLastName': 'NON VALIDÉ', 'OverreaderFirstName': 'PRELIMINAIRE', 'AcquisitionTechLastName': 'GASPARD', 'AcquisitionTechFirstName': 'REBECCA', 'EditorLastName': 'DESAUTELS', 'EditorFirstName': 'VALÉRIE', 'HISStatus': '0'}\n",
      "{'PatientID': '0021583', 'PatientAge': '65', 'AgeUnits': 'YEARS', 'DateofBirth': '07-01-1956', 'Gender': 'FEMALE', 'PatientLastName': 'TREMBLAY', 'PatientFirstName': 'LYNE'}\n",
      "{'VentricularRate': '63', 'AtrialRate': '63', 'PRInterval': '180', 'QRSDuration': '164', 'QTInterval': '474', 'QTCorrected': '485', 'RAxis': '159', 'TAxis': '94', 'QRSCount': '10', 'QOnset': '191', 'QOffset': '273', 'POnset': '101', 'POffset': '135', 'TOffset': '428', 'ECGSampleBase': '500', 'ECGSampleExponent': '0', 'QTcFrederica': '481'}\n",
      "0021583\n"
     ]
    },
    {
     "name": "stderr",
     "output_type": "stream",
     "text": [
      "2068it [00:33, 54.57it/s]"
     ]
    }
   ],
   "source": [
    "df_output = generate_ecg_dataframe_and_npy(df)\n",
    "df_output.to_csv(\"data/20221002_ECG.csv\")\n",
    "display(df_output)"
   ]
  },
  {
   "cell_type": "code",
   "execution_count": 9,
   "metadata": {},
   "outputs": [
    {
     "ename": "NameError",
     "evalue": "name 'df_output' is not defined",
     "output_type": "error",
     "traceback": [
      "\u001b[0;31m---------------------------------------------------------------------------\u001b[0m",
      "\u001b[0;31mNameError\u001b[0m                                 Traceback (most recent call last)",
      "\u001b[0;32m<ipython-input-9-c595d620eaba>\u001b[0m in \u001b[0;36m<module>\u001b[0;34m\u001b[0m\n\u001b[1;32m      1\u001b[0m df_m = (\n\u001b[0;32m----> 2\u001b[0;31m     \u001b[0mdf_output\u001b[0m\u001b[0;34m.\u001b[0m\u001b[0mgroupby\u001b[0m\u001b[0;34m(\u001b[0m\u001b[0;34m[\u001b[0m\u001b[0;34m\"patientid\"\u001b[0m\u001b[0;34m,\u001b[0m \u001b[0;34m\"AcquisitionDate\"\u001b[0m\u001b[0;34m,\u001b[0m \u001b[0;34m\"AcquisitionTime\"\u001b[0m\u001b[0;34m]\u001b[0m\u001b[0;34m)\u001b[0m\u001b[0;34m\u001b[0m\u001b[0;34m\u001b[0m\u001b[0m\n\u001b[0m\u001b[1;32m      3\u001b[0m     \u001b[0;34m.\u001b[0m\u001b[0mfirst\u001b[0m\u001b[0;34m(\u001b[0m\u001b[0;34m)\u001b[0m\u001b[0;34m\u001b[0m\u001b[0;34m\u001b[0m\u001b[0m\n\u001b[1;32m      4\u001b[0m     \u001b[0;34m.\u001b[0m\u001b[0mreset_index\u001b[0m\u001b[0;34m(\u001b[0m\u001b[0;34m)\u001b[0m\u001b[0;34m\u001b[0m\u001b[0;34m\u001b[0m\u001b[0m\n\u001b[1;32m      5\u001b[0m )\n",
      "\u001b[0;31mNameError\u001b[0m: name 'df_output' is not defined"
     ]
    }
   ],
   "source": [
    "df_m = (\n",
    "    df_output.groupby([\"patientid\", \"AcquisitionDate\", \"AcquisitionTime\"])\n",
    "    .first()\n",
    "    .reset_index()\n",
    ")\n",
    "display(df_stats(df_output))\n",
    "display(df_stats(df_m))\n",
    "## The ECGs can be grouped by patient id, date and time to have a 1 unique row per ECG - this means the filename to save the ECG also needs to have the date and time in it."
   ]
  },
  {
   "cell_type": "code",
   "execution_count": null,
   "metadata": {},
   "outputs": [],
   "source": [
    "# output_dir = os.getcwd() + '/ekg_waveforms_output/'\n",
    "# ekg_batch_run(df['path'][0:1])"
   ]
  },
  {
   "cell_type": "markdown",
   "metadata": {},
   "source": [
    "### Display ECG"
   ]
  },
  {
   "cell_type": "code",
   "execution_count": null,
   "metadata": {},
   "outputs": [],
   "source": [
    "npyfilespath = os.getcwd() + \"/ekg_waveforms_output/\"\n",
    "os.chdir(npyfilespath)\n",
    "npfiles = glob.glob(\"*.npy\")\n",
    "npfiles.sort()\n",
    "all_arrays_train = []\n",
    "# all_arrays_eval = []\n",
    "\n",
    "# If trying to test model quickly use smaller total dataset or change dataloader to load npy file batch by batch\n",
    "\n",
    "# Not rewriting stacked array so below is commented out\n",
    "\n",
    "for i, npfile in enumerate(npfiles):\n",
    "    x = 0\n",
    "    i = 0\n",
    "    try:\n",
    "        path = os.path.join(npyfilespath + npfile)\n",
    "        file = np.load(path)\n",
    "\n",
    "        file = np.reshape(file, (1, 2500, 12))\n",
    "        all_arrays_train.append(file)\n",
    "        x += 1\n",
    "        i += 1\n",
    "    except:\n",
    "        continue\n",
    "    if i % 1 == 100:\n",
    "        print(\"{i} EKGs have been written to array\")"
   ]
  },
  {
   "cell_type": "code",
   "execution_count": null,
   "metadata": {},
   "outputs": [],
   "source": [
    "display(all_arrays_train)"
   ]
  },
  {
   "cell_type": "code",
   "execution_count": null,
   "metadata": {},
   "outputs": [],
   "source": [
    "all_arrays_train = np.array(all_arrays_train)\n",
    "reshaped = np.reshape(all_arrays_train, (all_arrays_train.shape[0], 2500, 12))"
   ]
  },
  {
   "cell_type": "code",
   "execution_count": null,
   "metadata": {},
   "outputs": [],
   "source": [
    "path = os.path.join(npyfilespath + npfile)\n",
    "file = np.load(path)\n",
    "\n",
    "file = np.reshape(file, (1, 2500, 12))"
   ]
  },
  {
   "cell_type": "code",
   "execution_count": null,
   "metadata": {},
   "outputs": [],
   "source": [
    "# To reconstruct the 12 lead ecg from the array\n",
    "lead_order = [\"I\", \"II\", \"III\", \"aVR\", \"aVL\", \"aVF\", \"V1\", \"V2\", \"V3\", \"V4\", \"V5\", \"V6\"]\n",
    "plt.rcParams[\"figure.figsize\"] = [16, 9]\n",
    "fig, axs = plt.subplots(len(lead_order))\n",
    "for i in range(0, 12):\n",
    "    axs[i].plot(reshaped[0][:, i])\n",
    "    axs[i].set(ylabel=str(lead_order[i]))"
   ]
  },
  {
   "cell_type": "code",
   "execution_count": null,
   "metadata": {},
   "outputs": [],
   "source": [
    "import matplotlib.pyplot as plt\n",
    "\n",
    "# To reconstruct the 12 lead ecg from the array\n",
    "lead_order = [\"I\", \"II\", \"III\", \"aVR\", \"aVL\", \"aVF\", \"V1\", \"V2\", \"V3\", \"V4\", \"V5\", \"V6\"]\n",
    "plt.rcParams[\"figure.figsize\"] = [16, 9]\n",
    "fig, axs = plt.subplots(len(lead_order))\n",
    "for i in range(0, 12):\n",
    "    axs[i].plot(reshaped[2][:, i])\n",
    "    axs[i].set(ylabel=str(lead_order[i]))"
   ]
  }
 ],
 "metadata": {
  "kernelspec": {
   "display_name": "Python 3.8.5 ('base')",
   "language": "python",
   "name": "python3"
  },
  "language_info": {
   "codemirror_mode": {
    "name": "ipython",
    "version": 3
   },
   "file_extension": ".py",
   "mimetype": "text/x-python",
   "name": "python",
   "nbconvert_exporter": "python",
   "pygments_lexer": "ipython3",
   "version": "3.8.5"
  },
  "orig_nbformat": 4,
  "vscode": {
   "interpreter": {
    "hash": "2f394aca7ca06fed1e6064aef884364492d7cdda3614a461e02e6407fc40ba69"
   }
  }
 },
 "nbformat": 4,
 "nbformat_minor": 2
}
