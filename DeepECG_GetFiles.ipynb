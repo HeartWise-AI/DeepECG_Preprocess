{
 "cells": [
  {
   "cell_type": "code",
   "execution_count": 1,
   "metadata": {},
   "outputs": [
    {
     "name": "stderr",
     "output_type": "stream",
     "text": [
      "/tmp/ipykernel_186705/1622204394.py:9: DeprecationWarning: Importing display from IPython.core.display is deprecated since IPython 7.14, please import from IPython display\n",
      "  from IPython.core.display import HTML, display\n"
     ]
    },
    {
     "data": {
      "text/html": [
       "<style>.container { width:100% !important; }</style>"
      ],
      "text/plain": [
       "<IPython.core.display.HTML object>"
      ]
     },
     "metadata": {},
     "output_type": "display_data"
    }
   ],
   "source": [
    "import numpy as np\n",
    "import pandas as pd\n",
    "\n",
    "# pd.set_option('display.height', 1000)\n",
    "pd.set_option(\"display.max_rows\", 500)\n",
    "pd.set_option(\"display.max_columns\", 500)\n",
    "pd.set_option(\"display.width\", 1000)\n",
    "pd.set_option(\"max_colwidth\", 200)\n",
    "from IPython.core.display import HTML, display\n",
    "\n",
    "display(HTML(\"<style>.container { width:100% !important; }</style>\"))\n",
    "\n",
    "\n",
    "import os\n",
    "\n",
    "os.environ[\"R_HOME\"] = \"/root/miniconda3/envs/R/lib/R\"\n",
    "\n",
    "import rpy2.robjects as objects\n",
    "from rpy2.robjects.packages import importr\n",
    "\n",
    "base = importr(\"base\")\n",
    "r_pROC = importr(\"pROC\")\n",
    "base._libPaths()[0]\n",
    "\n",
    "\n",
    "def df_stats(df):\n",
    "    from tabulate import tabulate\n",
    "\n",
    "    print(\"\\n***** Shape: \", df.shape, \" *****\\n\")\n",
    "\n",
    "    columns_list = df.columns.values.tolist()\n",
    "    isnull_list = df.isnull().sum().values.tolist()\n",
    "    isunique_list = df.nunique().values.tolist()\n",
    "    dtypes_list = df.dtypes.tolist()\n",
    "\n",
    "    list_stat_val = list(zip(columns_list, isnull_list, isunique_list, dtypes_list))\n",
    "    df_stat_val = pd.DataFrame(\n",
    "        list_stat_val, columns=[\"Name\", \"Null\", \"Unique\", \"Dtypes\"]\n",
    "    )\n",
    "    print(tabulate(df_stat_val, headers=\"keys\", tablefmt=\"psql\"))\n",
    "    return df.head()"
   ]
  },
  {
   "cell_type": "code",
   "execution_count": 2,
   "metadata": {},
   "outputs": [],
   "source": [
    "# this is muse_xml_to_array.py\n",
    "# Input a directory of XML files, get a directory of np arrays where each .npy is a 12-lead ecg shape 2500,12,1. So this gives you JUST the waveforms\n",
    "# Some notes, the unique ECG ID index key used in MUSE backend does not exist in the XML at least for us, so instead we use MRN_AcquisitionDTTM_PharmaUniqueECGID\n",
    "\n",
    "# In terminal run python3 muse_xml_to_array.py <LOCATION_OF_XML_FILES>\n",
    "\n",
    "import argparse\n",
    "import base64\n",
    "import os\n",
    "import struct\n",
    "import sys\n",
    "\n",
    "import numpy as np\n",
    "import pandas as pd\n",
    "import xmltodict\n",
    "\n",
    "\n",
    "def file_path(path):\n",
    "    filepath = path\n",
    "    for dirName, subdirList, fileList in os.walk(filepath):\n",
    "        for filename in fileList:\n",
    "            if \".xml\" in filename.lower():\n",
    "                ekg_file_list.append(os.path.join(dirName, filename))\n",
    "\n",
    "\n",
    "# need to update this function to check the output directory for the output file and then only on newly added EKGs\n",
    "# add timestamp to start file string\n",
    "# this is annoying because the XML file name is a random timestamp and the output file is the UniqueECGID\n",
    "\n",
    "\n",
    "if not os.path.exists(os.getcwd() + \"/ekg_waveforms_output/\"):\n",
    "    os.mkdir(os.getcwd() + \"/ekg_waveforms_output/\")\n",
    "\n",
    "# parser = argparse.ArgumentParser(description='Input and outputs for XML EKG parsing')\n",
    "# parser.add_argument('input', type=str)\n",
    "# parser.set_defaults(output=os.getcwd() + '/ekg_waveforms_output/') #ensure this directory already exists\n",
    "\n",
    "# args = parser.parse_args()\n",
    "\n",
    "\n",
    "def decode_ekg_muse(raw_wave):\n",
    "    \"\"\"\n",
    "    Ingest the base64 encoded waveforms and transform to numeric\n",
    "    \"\"\"\n",
    "    # covert the waveform from base64 to byte array\n",
    "    arr = base64.b64decode(bytes(raw_wave, \"utf-8\"))\n",
    "\n",
    "    # unpack every 2 bytes, little endian (16 bit encoding)\n",
    "    unpack_symbols = \"\".join([char * (len(arr) // 2) for char in \"h\"])\n",
    "    byte_array = struct.unpack(unpack_symbols, arr)\n",
    "    return byte_array\n",
    "\n",
    "\n",
    "def decode_ekg_muse_to_array(raw_wave, downsample=1):\n",
    "    \"\"\"\n",
    "    Ingest the base64 encoded waveforms and transform to numeric\n",
    "\n",
    "    downsample: 0.5 takes every other value in the array. Muse samples at 500/s and the sample model requires 250/s. So take every other.\n",
    "    \"\"\"\n",
    "    try:\n",
    "        dwnsmpl = int(1 // downsample)\n",
    "    except ZeroDivisionError:\n",
    "        print(\"You must downsample by more than 0\")\n",
    "    # covert the waveform from base64 to byte array\n",
    "    arr = base64.b64decode(bytes(raw_wave, \"utf-8\"))\n",
    "\n",
    "    # unpack every 2 bytes, little endian (16 bit encoding)\n",
    "    unpack_symbols = \"\".join([char * int(len(arr) / 2) for char in \"h\"])\n",
    "    byte_array = struct.unpack(unpack_symbols, arr)\n",
    "    return np.array(byte_array)[::dwnsmpl]\n",
    "\n",
    "\n",
    "def xml_to_np_array_file(path_to_xml, path_to_output=os.getcwd()):\n",
    "\n",
    "    with open(path_to_xml, \"rb\") as fd:\n",
    "        dic = xmltodict.parse(fd.read().decode(\"utf8\"))\n",
    "\n",
    "    \"\"\"\n",
    "    \n",
    "    Upload the ECG as numpy array with shape=[2500,12,1] ([time, leads, 1]).\n",
    "\n",
    "    The voltage unit should be in 1 mv/unit and the sampling rate should be 250/second (total 10 second).\n",
    "\n",
    "    The leads should be ordered as follow I, II, III, aVR, aVL, aVF, V1, V2, V3, V4, V5, V6.\n",
    "\n",
    "    \"\"\"\n",
    "    # print(dic)\n",
    "    try:\n",
    "        pt_id = dic[\"RestingECG\"][\"PatientDemographics\"][\"PatientID\"]\n",
    "    except:\n",
    "        print(\"no PatientID\")\n",
    "        pt_id = \"none\"\n",
    "    try:\n",
    "        AcquisitionDateTime = (\n",
    "            dic[\"RestingECG\"][\"TestDemographics\"][\"AcquisitionDate\"]\n",
    "            + \"_\"\n",
    "            + dic[\"RestingECG\"][\"TestDemographics\"][\"AcquisitionTime\"].replace(\":\", \"-\")\n",
    "        )\n",
    "    except:\n",
    "        print(\"no AcquisitionDateTime\")\n",
    "        AcquisitionDateTime = \"none\"\n",
    "\n",
    "    # try:\n",
    "    #     requisition_number = dic['RestingECG']['Order']['RequisitionNumber']\n",
    "    # except:\n",
    "    #     print(\"no requisition_number\")\n",
    "    #     requisition_number = \"none\"\n",
    "\n",
    "    # need to instantiate leads in the proper order for the model\n",
    "    lead_order = [\n",
    "        \"I\",\n",
    "        \"II\",\n",
    "        \"III\",\n",
    "        \"aVR\",\n",
    "        \"aVL\",\n",
    "        \"aVF\",\n",
    "        \"V1\",\n",
    "        \"V2\",\n",
    "        \"V3\",\n",
    "        \"V4\",\n",
    "        \"V5\",\n",
    "        \"V6\",\n",
    "    ]\n",
    "\n",
    "    \"\"\"\n",
    "    Each EKG will have this data structure:\n",
    "    lead_data = {\n",
    "        'I': np.array\n",
    "    }\n",
    "    \"\"\"\n",
    "\n",
    "    lead_data = dict.fromkeys(lead_order)\n",
    "    # lead_data = {leadid: None for k in lead_order}\n",
    "\n",
    "    #     for all_lead_data in dic['RestingECG']['Waveform']:\n",
    "    #         for single_lead_data in lead['LeadData']:\n",
    "    #             leadname =  single_lead_data['LeadID']\n",
    "    #             if leadname in (lead_order):\n",
    "    #try:\n",
    "    for lead in dic[\"RestingECG\"][\"Waveform\"]:\n",
    "        for leadid in range(len(lead[\"LeadData\"])):\n",
    "            sample_length = len(\n",
    "                decode_ekg_muse_to_array(lead[\"LeadData\"][leadid][\"WaveFormData\"])\n",
    "            )\n",
    "            # sample_length is equivalent to dic['RestingECG']['Waveform']['LeadData']['LeadSampleCountTotal']\n",
    "            if sample_length == 5000:\n",
    "                lead_data[\n",
    "                    lead[\"LeadData\"][leadid][\"LeadID\"]\n",
    "                ] = decode_ekg_muse_to_array(\n",
    "                    lead[\"LeadData\"][leadid][\"WaveFormData\"], downsample=0.5\n",
    "                )\n",
    "            elif sample_length == 2500:\n",
    "                lead_data[\n",
    "                    lead[\"LeadData\"][leadid][\"LeadID\"]\n",
    "                ] = decode_ekg_muse_to_array(\n",
    "                    lead[\"LeadData\"][leadid][\"WaveFormData\"], downsample=1\n",
    "                )\n",
    "            else:\n",
    "                continue\n",
    "        # ensures all leads have 2500 samples and also passes over the 3 second waveform\n",
    "\n",
    "    lead_data[\"III\"] = np.array(lead_data[\"II\"]) - np.array(lead_data[\"I\"])\n",
    "    lead_data[\"aVR\"] = -(np.array(lead_data[\"I\"]) + np.array(lead_data[\"II\"])) / 2\n",
    "    lead_data[\"aVF\"] = (np.array(lead_data[\"II\"]) + np.array(lead_data[\"III\"])) / 2\n",
    "    lead_data[\"aVL\"] = (np.array(lead_data[\"I\"]) - np.array(lead_data[\"III\"])) / 2\n",
    "\n",
    "    lead_data = {k: lead_data[k] for k in lead_order}\n",
    "    # drops V3R, V4R, and V7 if it was a 15-lead ECG\n",
    "\n",
    "    # now construct and reshape the array\n",
    "    # converting the dictionary to an np.array\n",
    "    temp = []\n",
    "    for key, value in lead_data.items():\n",
    "        temp.append(value)\n",
    "\n",
    "    # transpose to be [time, leads, ]\n",
    "    ekg_array = np.array(temp).T\n",
    "\n",
    "    # expand dims to [time, leads, 1]\n",
    "    ekg_array = np.expand_dims(ekg_array, axis=-1)\n",
    "\n",
    "    # Here is a check to make sure all the model inputs are the right shape\n",
    "    #     assert ekg_array.shape == (2500, 12, 1), \"ekg_array is shape {} not (2500, 12, 1)\".format(ekg_array.shape )\n",
    "\n",
    "    # filename = '/ekg_waveform_{}_{}.npy'.format(pt_id, requisition_number)\n",
    "    filename = f\"{pt_id}_{AcquisitionDateTime}.npy\"\n",
    "\n",
    "    path_to_output += filename\n",
    "    # print(path_to_output)\n",
    "    with open(path_to_output, \"wb\") as f:\n",
    "        np.save(f, ekg_array)\n",
    "    return path_to_output\n",
    "\n",
    "    #except:\n",
    "    #    print(\"error\", dic)\n",
    "    #    return None\n",
    "\n",
    "\n",
    "def ekg_batch_run(ekg_list):\n",
    "    i = 0\n",
    "    x = 0\n",
    "    for file in ekg_list:\n",
    "        try:\n",
    "            xml_to_np_array_file(file, output_dir)\n",
    "            i += 1\n",
    "        except Exception as e:\n",
    "            # print(\"file failed: \", file)\n",
    "            print(file, e)\n",
    "            x += 1\n",
    "        if i % 10000 == 0:\n",
    "            print(f\"Succesfully converted {i} EKGs, failed converting {x} EKGs\")"
   ]
  },
  {
   "cell_type": "code",
   "execution_count": 3,
   "metadata": {},
   "outputs": [],
   "source": [
    "def generate_ecg_dataframe_and_npy(df, output_dir=\"/ekg_waveforms_output/\"):\n",
    "    output_dir = os.getcwd() + output_dir\n",
    "\n",
    "    from ECGXMLReader import ECGXMLReader\n",
    "    from tqdm import tqdm\n",
    "\n",
    "    patientid_list = []\n",
    "    patientage_list = []\n",
    "    patient_date_of_birth_list = []\n",
    "    patient_gender_list = []\n",
    "    patient_VentricularRate_list = []\n",
    "    patient_AtrialRate_list = []\n",
    "    patient_PRInterval_list = []\n",
    "    patient_QRSDuration_list = []\n",
    "    patient_QTInterval_list = []\n",
    "    patient_QTCorrected_list = []\n",
    "    patient_Paxis_list = []\n",
    "    patient_Raxis_list = []\n",
    "    patient_TAxis_list = []\n",
    "    patient_QRSCount_list = []\n",
    "    patient_QOnset_list = []\n",
    "    patient_QOffset_list = []\n",
    "    patient_POnset_list = []\n",
    "    patient_POffset_list = []\n",
    "    patient_TOffset_list = []\n",
    "    patient_ECGSampleBase_list = []\n",
    "    patient_ECGSampleExponent_list = []\n",
    "    patient_QTcFrederica_list = []\n",
    "    patient_Location_list = []\n",
    "    patient_LocatioName_list = []\n",
    "    patient_RoomID_list = []\n",
    "    patient_acquisitiondate_list = []\n",
    "    patient_acquisitiontime_list = []\n",
    "    patient_status_list = []\n",
    "    patient_acquisitiondevice_list = []\n",
    "    patient_referringMDLastName_list = []\n",
    "    patient_AnalysisSoftware_list = []\n",
    "    patient_acquisitionSoftwareVersion_list = []\n",
    "    diagnosis_list = []\n",
    "    original_diagnosis_list = []\n",
    "    ecg_output_path_list = []\n",
    "    xml_path_list = []\n",
    "\n",
    "    for index, row in tqdm(df.iterrows()):\n",
    "        ecg = ECGXMLReader(row[\"path\"], augmentLeads=True)\n",
    "        xml_path_list.append(row[\"path\"])\n",
    "        patientid_list.append(ecg.PatientDemographics[\"PatientID\"])\n",
    "\n",
    "        try:\n",
    "            patientage_list.append(ecg.PatientDemographics[\"PatientAge\"])\n",
    "        except:\n",
    "            patientage_list.append(np.nan)\n",
    "\n",
    "        try:\n",
    "            patient_date_of_birth_list.append(ecg.PatientDemographics[\"DateofBirth\"])\n",
    "        except:\n",
    "            patient_date_of_birth_list.append(np.nan)\n",
    "        try:\n",
    "            patient_gender_list.append(ecg.PatientDemographics[\"Gender\"])\n",
    "        except:\n",
    "            patient_gender_list.append(np.nan)\n",
    "\n",
    "        try:\n",
    "            patient_VentricularRate_list.append(\n",
    "                ecg.RestingECGMeasurements[\"VentricularRate\"]\n",
    "            )\n",
    "        except:\n",
    "            patient_VentricularRate_list.append(np.nan)\n",
    "\n",
    "        try:\n",
    "            patient_AtrialRate_list.append(ecg.RestingECGMeasurements[\"AtrialRate\"])\n",
    "        except:\n",
    "            patient_AtrialRate_list.append(np.nan)\n",
    "        try:\n",
    "            patient_PRInterval_list.append(ecg.RestingECGMeasurements[\"PRInterval\"])\n",
    "        except:\n",
    "            patient_PRInterval_list.append(np.nan)\n",
    "        try:\n",
    "            patient_QRSDuration_list.append(ecg.RestingECGMeasurements[\"QRSDuration\"])\n",
    "        except:\n",
    "            patient_QRSDuration_list.append(np.nan)\n",
    "        try:\n",
    "            patient_QTInterval_list.append(ecg.RestingECGMeasurements[\"QTInterval\"])\n",
    "        except:\n",
    "            patient_QTInterval_list.append(np.nan)\n",
    "\n",
    "        try:\n",
    "            patient_QTCorrected_list.append(ecg.RestingECGMeasurements[\"QTCorrected\"])\n",
    "        except:\n",
    "            patient_QTCorrected_list.append(np.nan)\n",
    "        try:\n",
    "            patient_Paxis_list.append(ecg.RestingECGMeasurements[\"PAxis\"])\n",
    "        except:\n",
    "            patient_Paxis_list.append(np.nan)\n",
    "\n",
    "        try:\n",
    "            patient_Raxis_list.append(ecg.RestingECGMeasurements[\"RAxis\"])\n",
    "        except:\n",
    "            patient_Raxis_list.append(np.nan)\n",
    "        try:\n",
    "            patient_TAxis_list.append(ecg.RestingECGMeasurements[\"TAxis\"])\n",
    "        except:\n",
    "            patient_TAxis_list.append(np.nan)\n",
    "\n",
    "        try:\n",
    "            patient_QRSCount_list.append(ecg.RestingECGMeasurements[\"QRSCount\"])\n",
    "        except:\n",
    "            patient_QRSCount_list.append(np.nan)\n",
    "        try:\n",
    "            patient_QOnset_list.append(ecg.RestingECGMeasurements[\"QOnset\"])\n",
    "        except:\n",
    "            patient_QOnset_list.append(np.nan)\n",
    "\n",
    "        try:\n",
    "            patient_QOffset_list.append(ecg.RestingECGMeasurements[\"QOffset\"])\n",
    "        except:\n",
    "            patient_QOffset_list.append(np.nan)\n",
    "        try:\n",
    "            patient_POnset_list.append(ecg.RestingECGMeasurements[\"POnset\"])\n",
    "        except:\n",
    "            patient_POnset_list.append(np.nan)\n",
    "        try:\n",
    "            patient_POffset_list.append(ecg.RestingECGMeasurements[\"POffset\"])\n",
    "        except:\n",
    "            patient_POffset_list.append(np.nan)\n",
    "        try:\n",
    "            patient_TOffset_list.append(ecg.RestingECGMeasurements[\"TOffset\"])\n",
    "        except:\n",
    "            patient_TOffset_list.append(np.nan)\n",
    "\n",
    "        patient_ECGSampleBase_list.append(ecg.RestingECGMeasurements[\"ECGSampleBase\"])\n",
    "        patient_ECGSampleExponent_list.append(\n",
    "            ecg.RestingECGMeasurements[\"ECGSampleExponent\"]\n",
    "        )\n",
    "        try:\n",
    "            patient_QTcFrederica_list.append(ecg.RestingECGMeasurements[\"QTcFrederica\"])\n",
    "        except:\n",
    "            patient_QTcFrederica_list.append(np.nan)\n",
    "\n",
    "        patient_Location_list.append(ecg.TestDemographics[\"Location\"])\n",
    "\n",
    "        try:\n",
    "            patient_LocatioName_list.append(ecg.TestDemographics[\"LocationName\"])\n",
    "        except:\n",
    "            patient_LocatioName_list.append(np.nan)\n",
    "\n",
    "        try:\n",
    "            patient_RoomID_list.append(ecg.TestDemographics[\"RoomID\"])\n",
    "        except:\n",
    "            patient_RoomID_list.append(\"None\")\n",
    "        try:\n",
    "            patient_acquisitiondate_list.append(ecg.TestDemographics[\"AcquisitionDate\"])\n",
    "        except:\n",
    "            patient_acquisitiondate_list.append(np.nan)\n",
    "\n",
    "        try:\n",
    "            patient_acquisitiontime_list.append(ecg.TestDemographics[\"AcquisitionTime\"])\n",
    "        except:\n",
    "            patient_acquisitiontime_list.append(np.nan)\n",
    "\n",
    "        patient_status_list.append(ecg.TestDemographics[\"Status\"])\n",
    "\n",
    "        try:\n",
    "            patient_acquisitiondevice_list.append(\n",
    "                ecg.TestDemographics[\"AcquisitionDevice\"]\n",
    "            )\n",
    "        except:\n",
    "            patient_acquisitiondevice_list.append(np.nan)\n",
    "\n",
    "        try:\n",
    "            patient_referringMDLastName_list.append(\n",
    "                ecg.TestDemographics[\"ReferringMDLastName\"]\n",
    "            )\n",
    "        except:\n",
    "            patient_referringMDLastName_list.append(\"None\")\n",
    "        try:\n",
    "            patient_AnalysisSoftware_list.append(\n",
    "                ecg.TestDemographics[\"AnalysisSoftwareVersion\"]\n",
    "            )\n",
    "        except:\n",
    "            patient_AnalysisSoftware_list.append(np.nan)\n",
    "        try:\n",
    "            patient_acquisitionSoftwareVersion_list.append(\n",
    "                ecg.TestDemographics[\"AcquisitionSoftwareVersion\"]\n",
    "            )\n",
    "        except:\n",
    "            patient_acquisitionSoftwareVersion_list.append(np.nan)\n",
    "\n",
    "        diagnosis = []\n",
    "        print(ecg)\n",
    "        try:\n",
    "            for key in ecg.Diagnosis[\"DiagnosisStatement\"]:\n",
    "                # print(key['StmtText'])\n",
    "                try:\n",
    "                    diagnosis.append(key[\"StmtText\"])\n",
    "                except:\n",
    "                    diagnosis.append(key[\"ENDSLINE\"])\n",
    "\n",
    "            ##merge items in diagnosis list into a single string\n",
    "            diagnosis = \" \".join(diagnosis)\n",
    "\n",
    "            diagnosis_list.append(diagnosis)\n",
    "        except:\n",
    "            print(ecg.TestDemographics)\n",
    "            print(ecg.PatientDemographics)\n",
    "            print(ecg.RestingECGMeasurements)\n",
    "            print(ecg.PatientDemographics[\"PatientID\"])\n",
    "            diagnosis_list.append(-1)\n",
    "\n",
    "        diagnosis = []\n",
    "        try:\n",
    "            for key in ecg.OriginalDiagnosis[\"DiagnosisStatement\"]:\n",
    "                # print(key['StmtText'])\n",
    "                try:\n",
    "                    diagnosis.append(key[\"StmtText\"])\n",
    "                except:\n",
    "                    diagnosis.append(key[\"ENDSLINE\"])\n",
    "\n",
    "            ##merge items in diagnosis list into a single string\n",
    "            diagnosis = \" \".join(diagnosis)\n",
    "\n",
    "            original_diagnosis_list.append(diagnosis)\n",
    "        except:\n",
    "            print(ecg.TestDemographics)\n",
    "            print(ecg.PatientDemographics)\n",
    "            print(ecg.RestingECGMeasurements)\n",
    "            print(ecg.PatientDemographics[\"PatientID\"])\n",
    "            original_diagnosis_list.append(-1)\n",
    "\n",
    "            # display(ecg.Diagnosis['DiagnosisStatement'])\n",
    "            # break\n",
    "        # print(ecg.TestDemographics)\n",
    "        # print(ecg.PatientDemographics)\n",
    "        # print(ecg.RestingECGMeasurements)\n",
    "        # print(ecg.Diagnosis)\n",
    "        # print(ecg.OriginalDiagnosis)\n",
    "        ecg_output_path = xml_to_np_array_file(row[\"path\"], output_dir)\n",
    "        ecg_output_path_list.append(ecg_output_path)\n",
    "    ##Create dataaframe with the previous lists\n",
    "    df_output = pd.DataFrame(\n",
    "        {\n",
    "            \"patientid\": patientid_list,\n",
    "            \"age\": patientage_list,\n",
    "            \"dob\": patient_date_of_birth_list,\n",
    "            \"gender\": patient_gender_list,\n",
    "            \"VentricularRate\": patient_VentricularRate_list,\n",
    "            \"AtrialRate\": patient_AtrialRate_list,\n",
    "            \"PRInterval\": patient_PRInterval_list,\n",
    "            \"QRSDuration\": patient_QRSDuration_list,\n",
    "            \"QTInterval\": patient_QTInterval_list,\n",
    "            \"QTCorrected\": patient_QTCorrected_list,\n",
    "            \"PAxis\": patient_Paxis_list,\n",
    "            \"RAXis\": patient_Raxis_list,\n",
    "            \"TAxis\": patient_TAxis_list,\n",
    "            \"QRSCount\": patient_QRSCount_list,\n",
    "            \"QOnset\": patient_QOnset_list,\n",
    "            \"QOffset\": patient_QOffset_list,\n",
    "            \"POnset\": patient_POnset_list,\n",
    "            \"POffset\": patient_POffset_list,\n",
    "            \"TOffset\": patient_TOffset_list,\n",
    "            \"ECGSampleBase\": patient_ECGSampleBase_list,\n",
    "            \"ECGSampleExponent\": patient_ECGSampleExponent_list,\n",
    "            \"QTcFrederica\": patient_QTcFrederica_list,\n",
    "            \"Location\": patient_Location_list,\n",
    "            \"LocationName\": patient_LocatioName_list,\n",
    "            \"RoomID\": patient_RoomID_list,\n",
    "            \"AcquisitionDate\": patient_acquisitiondate_list,\n",
    "            \"AcquisitionTime\": patient_acquisitiontime_list,\n",
    "            \"Status\": patient_status_list,\n",
    "            \"AcquisitionDevice\": patient_acquisitiondevice_list,\n",
    "            \"ReferringMDLastName\": patient_referringMDLastName_list,\n",
    "            \"AnalysisSoftware\": patient_AnalysisSoftware_list,\n",
    "            \"AcquisitionSoftwareVersion\": patient_acquisitionSoftwareVersion_list,\n",
    "            \"Diagnosis\": diagnosis_list,\n",
    "            \"Original_Diagnosis\": original_diagnosis_list,\n",
    "            \"xml_path\": xml_path_list,\n",
    "            \"ecg_output_path\": ecg_output_path_list,\n",
    "        }\n",
    "    )\n",
    "    return df_output"
   ]
  },
  {
   "attachments": {},
   "cell_type": "markdown",
   "metadata": {
    "heading_collapsed": true
   },
   "source": [
    "### List all XML Files in a folder"
   ]
  },
  {
   "cell_type": "code",
   "execution_count": 51,
   "metadata": {
    "hidden": true
   },
   "outputs": [
    {
     "name": "stderr",
     "output_type": "stream",
     "text": [
      "/tmp/ipykernel_95291/1622204394.py:9: DeprecationWarning: Importing display from IPython.core.display is deprecated since IPython 7.14, please import from IPython display\n",
      "  from IPython.core.display import HTML, display\n"
     ]
    },
    {
     "data": {
      "text/html": [
       "<style>.container { width:100% !important; }</style>"
      ],
      "text/plain": [
       "<IPython.core.display.HTML object>"
      ]
     },
     "metadata": {},
     "output_type": "display_data"
    }
   ],
   "source": [
    "import numpy as np\n",
    "import pandas as pd\n",
    "\n",
    "# pd.set_option('display.height', 1000)\n",
    "pd.set_option(\"display.max_rows\", 500)\n",
    "pd.set_option(\"display.max_columns\", 500)\n",
    "pd.set_option(\"display.width\", 1000)\n",
    "pd.set_option(\"max_colwidth\", 200)\n",
    "from IPython.core.display import HTML, display\n",
    "\n",
    "display(HTML(\"<style>.container { width:100% !important; }</style>\"))\n",
    "\n",
    "\n",
    "import os\n",
    "\n",
    "os.environ[\"R_HOME\"] = \"/root/miniconda3/envs/R/lib/R\"\n",
    "\n",
    "import rpy2.robjects as objects\n",
    "from rpy2.robjects.packages import importr\n",
    "\n",
    "base = importr(\"base\")\n",
    "r_pROC = importr(\"pROC\")\n",
    "base._libPaths()[0]\n",
    "\n",
    "\n",
    "def df_stats(df):\n",
    "    from tabulate import tabulate\n",
    "\n",
    "    print(\"\\n***** Shape: \", df.shape, \" *****\\n\")\n",
    "\n",
    "    columns_list = df.columns.values.tolist()\n",
    "    isnull_list = df.isnull().sum().values.tolist()\n",
    "    isunique_list = df.nunique().values.tolist()\n",
    "    dtypes_list = df.dtypes.tolist()\n",
    "\n",
    "    list_stat_val = list(zip(columns_list, isnull_list, isunique_list, dtypes_list))\n",
    "    df_stat_val = pd.DataFrame(\n",
    "        list_stat_val, columns=[\"Name\", \"Null\", \"Unique\", \"Dtypes\"]\n",
    "    )\n",
    "    print(tabulate(df_stat_val, headers=\"keys\", tablefmt=\"psql\"))\n",
    "    return df.head()"
   ]
  },
  {
   "cell_type": "code",
   "execution_count": 52,
   "metadata": {
    "hidden": true
   },
   "outputs": [
    {
     "name": "stderr",
     "output_type": "stream",
     "text": [
      "Creating DataFrame: 100%|██████████| 1637252/1637252 [00:00<00:00, 3861065.40it/s]\n"
     ]
    },
    {
     "data": {
      "text/html": [
       "<div>\n",
       "<style scoped>\n",
       "    .dataframe tbody tr th:only-of-type {\n",
       "        vertical-align: middle;\n",
       "    }\n",
       "\n",
       "    .dataframe tbody tr th {\n",
       "        vertical-align: top;\n",
       "    }\n",
       "\n",
       "    .dataframe thead th {\n",
       "        text-align: right;\n",
       "    }\n",
       "</style>\n",
       "<table border=\"1\" class=\"dataframe\">\n",
       "  <thead>\n",
       "    <tr style=\"text-align: right;\">\n",
       "      <th></th>\n",
       "      <th>path</th>\n",
       "    </tr>\n",
       "  </thead>\n",
       "  <tbody>\n",
       "    <tr>\n",
       "      <th>0</th>\n",
       "      <td>/media/data1/muse_ge/ecg_retrospective/MUSE_20230228_072022_57000.xml</td>\n",
       "    </tr>\n",
       "    <tr>\n",
       "      <th>1</th>\n",
       "      <td>/media/data1/muse_ge/ecg_retrospective/MUSE_20230228_071051_67000.xml</td>\n",
       "    </tr>\n",
       "    <tr>\n",
       "      <th>2</th>\n",
       "      <td>/media/data1/muse_ge/ecg_retrospective/MUSE_20230228_074332_83000.xml</td>\n",
       "    </tr>\n",
       "    <tr>\n",
       "      <th>3</th>\n",
       "      <td>/media/data1/muse_ge/ecg_retrospective/MUSE_20220622_120345_21000.xml</td>\n",
       "    </tr>\n",
       "    <tr>\n",
       "      <th>4</th>\n",
       "      <td>/media/data1/muse_ge/ecg_retrospective/MUSE_20220712_143133_74000.xml</td>\n",
       "    </tr>\n",
       "    <tr>\n",
       "      <th>...</th>\n",
       "      <td>...</td>\n",
       "    </tr>\n",
       "    <tr>\n",
       "      <th>1637247</th>\n",
       "      <td>/media/data1/muse_ge/ecg_retrospective/MUSE_20230224_121943_13000.xml</td>\n",
       "    </tr>\n",
       "    <tr>\n",
       "      <th>1637248</th>\n",
       "      <td>/media/data1/muse_ge/ecg_retrospective/MUSE_20230224_132348_92000.xml</td>\n",
       "    </tr>\n",
       "    <tr>\n",
       "      <th>1637249</th>\n",
       "      <td>/media/data1/muse_ge/ecg_retrospective/MUSE_20230227_120955_38000.xml</td>\n",
       "    </tr>\n",
       "    <tr>\n",
       "      <th>1637250</th>\n",
       "      <td>/media/data1/muse_ge/ecg_retrospective/MUSE_20230227_121045_77000.xml</td>\n",
       "    </tr>\n",
       "    <tr>\n",
       "      <th>1637251</th>\n",
       "      <td>/media/data1/muse_ge/ecg_retrospective/MUSE_20230227_121129_06000.xml</td>\n",
       "    </tr>\n",
       "  </tbody>\n",
       "</table>\n",
       "<p>1637252 rows × 1 columns</p>\n",
       "</div>"
      ],
      "text/plain": [
       "                                                                          path\n",
       "0        /media/data1/muse_ge/ecg_retrospective/MUSE_20230228_072022_57000.xml\n",
       "1        /media/data1/muse_ge/ecg_retrospective/MUSE_20230228_071051_67000.xml\n",
       "2        /media/data1/muse_ge/ecg_retrospective/MUSE_20230228_074332_83000.xml\n",
       "3        /media/data1/muse_ge/ecg_retrospective/MUSE_20220622_120345_21000.xml\n",
       "4        /media/data1/muse_ge/ecg_retrospective/MUSE_20220712_143133_74000.xml\n",
       "...                                                                        ...\n",
       "1637247  /media/data1/muse_ge/ecg_retrospective/MUSE_20230224_121943_13000.xml\n",
       "1637248  /media/data1/muse_ge/ecg_retrospective/MUSE_20230224_132348_92000.xml\n",
       "1637249  /media/data1/muse_ge/ecg_retrospective/MUSE_20230227_120955_38000.xml\n",
       "1637250  /media/data1/muse_ge/ecg_retrospective/MUSE_20230227_121045_77000.xml\n",
       "1637251  /media/data1/muse_ge/ecg_retrospective/MUSE_20230227_121129_06000.xml\n",
       "\n",
       "[1637252 rows x 1 columns]"
      ]
     },
     "metadata": {},
     "output_type": "display_data"
    }
   ],
   "source": [
    "import glob\n",
    "import os\n",
    "import pandas as pd\n",
    "from tqdm import tqdm\n",
    "\n",
    "path = \"/media/data1/muse_ge/ecg_retrospective\"\n",
    "all_files = glob.glob(os.path.join(path, \"*.xml\"))\n",
    "\n",
    "# Convert all_files to a DataFrame with a progress bar\n",
    "df = pd.DataFrame(tqdm(all_files, desc='Creating DataFrame'), columns=[\"path\"])\n",
    "display(df)"
   ]
  },
  {
   "cell_type": "code",
   "execution_count": 68,
   "metadata": {},
   "outputs": [],
   "source": [
    "import os\n",
    "\n",
    "# Assuming df is your DataFrame and 'path' is the column containing file paths\n",
    "df_2['path_components'] = df_2['xml_path'].apply(lambda x: os.path.dirname(x))\n",
    "\n",
    "# if df_2.path_components is nil add \"data1/anolin/out_ECG_latest/xml\"\n",
    "df_2.loc[df_2.path_components == \"\", 'path_components'] = \"/media/data1/anolin/out_ECG_latest/xml\"\n",
    "## Append the path_components to the xml_path if path_components is equal to /media/data1/anolin/out_ECG_latest/xml\n",
    "df_2.loc[df_2.path_components == \"/media/data1/anolin/out_ECG_latest/xml\", 'xml_path'] = df_2['path_components'] + \"/\" + df_2['xml_path']\n",
    "\n",
    "## Create new dataframe called df3 if df_2.path_components is equal to /media/data1/anolin/out_ECG_latest/xml\n",
    "df3 = df_2.loc[df_2.path_components == \"/media/data1/anolin/out_ECG_latest/xml\"]"
   ]
  },
  {
   "attachments": {},
   "cell_type": "markdown",
   "metadata": {},
   "source": [
    "### Convert the 2 million ECGs including the 200k ECGs into a signle dataframe"
   ]
  },
  {
   "cell_type": "code",
   "execution_count": 22,
   "metadata": {},
   "outputs": [
    {
     "name": "stderr",
     "output_type": "stream",
     "text": [
      "/tmp/ipykernel_186705/1772988862.py:1: DtypeWarning: Columns (2,20,36,64,65,66,114,115,116,118,122,126,222,223,230,231,232,249,250,251,259,260,261,262,263,274,275,279,280) have mixed types. Specify dtype option on import or set low_memory=False.\n",
      "  df_2 = pd.read_csv('/media/data1/anolin/added_label_box_2M.csv')\n"
     ]
    }
   ],
   "source": [
    "df_2 = pd.read_csv('/media/data1/anolin/added_label_box_2M.csv')"
   ]
  },
  {
   "cell_type": "code",
   "execution_count": 51,
   "metadata": {},
   "outputs": [],
   "source": [
    "## Drop df_2['RestingECG_PatientDemographics_PatientID'] that are not integers\n",
    "df_2 = df_2[df_2['RestingECG_PatientDemographics_PatientID'].astype(str).str.isnumeric()]\n",
    "### This line converts the 'RestingECG_PatientDemographics_PatientID' column to string type, then uses the str.isnumeric() function to filter out any rows where 'RestingECG_PatientDemographics_PatientID' is not numeric."
   ]
  },
  {
   "cell_type": "code",
   "execution_count": 62,
   "metadata": {},
   "outputs": [],
   "source": [
    "df_2_grouped = df_2.groupby(['RestingECG_PatientDemographics_PatientID','RestingECG_TestDemographics_AcquisitionDate','RestingECG_TestDemographics_AcquisitionTime']).first().reset_index()"
   ]
  },
  {
   "cell_type": "code",
   "execution_count": 64,
   "metadata": {},
   "outputs": [
    {
     "data": {
      "text/plain": [
       "/media/data1/muse_ge/ecg_retrospective    1572280\n",
       "Name: path_components, dtype: int64"
      ]
     },
     "metadata": {},
     "output_type": "display_data"
    },
    {
     "data": {
      "text/plain": [
       "/media/data1/ravram/DeepECG/ekg_waveforms_output/ecg_npy    1572280\n",
       "Name: npy_path_components, dtype: int64"
      ]
     },
     "metadata": {},
     "output_type": "display_data"
    }
   ],
   "source": [
    "import os \n",
    "# Assuming df is your DataFrame and 'path' is the column containing file paths\n",
    "df_2_grouped['path_components'] = df_2_grouped['xml_path'].apply(lambda x: os.path.dirname(x))\n",
    "\n",
    "# if df_2_grouped.path_components is nil add \"data1/anolin/out_ECG_latest/xml\"\n",
    "df_2_grouped.loc[df_2_grouped.path_components == \"\", 'path_components'] = \"/media/data1/muse_ge/ecg_retrospective\"\n",
    "\n",
    "## Get npy_path filename for df_2\n",
    "df_2_grouped['xml_filename'] = df_2_grouped['xml_path'].apply(lambda x: os.path.basename(x))\n",
    "df_2_grouped['xml_path'] = df_2_grouped['path_components'] + \"/\" + df_2_grouped['xml_filename']\n",
    "\n",
    "## Create new dataframe called df3 if df_2_grouped.path_components is equal to /media/data1/anolin/out_ECG_latest/xml\n",
    "df_2_grouped['path_components'] = df_2_grouped['xml_path'].apply(lambda x: os.path.dirname(x))\n",
    "display(df_2_grouped['path_components'].value_counts())\n",
    "################\n",
    "### NPY ########\n",
    "###############\n",
    "\n",
    "## Get npy_path filename for df_2\n",
    "df_2_grouped['npy_filename'] = df_2_grouped['npy_path'].apply(lambda x: os.path.basename(x))\n",
    "\n",
    "## Create new dataframe called df3 if df_2_grouped.path_components is equal to /media/data1/anolin/out_ECG_latest/xml\n",
    "df_2_grouped['new_npy_path'] = '/media/data1/ravram/DeepECG/ekg_waveforms_output/ecg_npy/' + df_2_grouped['npy_filename']\n",
    "df_2_grouped['npy_path'] = df_2_grouped['new_npy_path']\n",
    "## drop new_npy_path\n",
    "df_2_grouped = df_2_grouped.drop(['new_npy_path'], axis=1)\n",
    "\n",
    "## Create new dataframe called df3 if df_2_grouped.path_components is equal to /media/data1/anolin/out_ECG_latest/xml\n",
    "df_2_grouped['npy_path_components'] = df_2_grouped['npy_path'].apply(lambda x: os.path.dirname(x))\n",
    "display(df_2_grouped['npy_path_components'].value_counts())"
   ]
  },
  {
   "cell_type": "code",
   "execution_count": 66,
   "metadata": {},
   "outputs": [],
   "source": [
    "## drop npy_path_components and path_components\n",
    "df_2_grouped = df_2_grouped.drop(['npy_path_components','path_components'], axis=1)"
   ]
  },
  {
   "cell_type": "code",
   "execution_count": 70,
   "metadata": {},
   "outputs": [],
   "source": [
    "df_2_grouped['RestingECG_PatientDemographics_PatientID_int'] = df_2_grouped['RestingECG_PatientDemographics_PatientID'].astype(int)"
   ]
  },
  {
   "cell_type": "code",
   "execution_count": null,
   "metadata": {},
   "outputs": [
    {
     "name": "stderr",
     "output_type": "stream",
     "text": [
      "100%|██████████| 1572539/1572539 [08:56<00:00, 2929.06it/s]\n"
     ]
    },
    {
     "ename": "KeyboardInterrupt",
     "evalue": "",
     "output_type": "error",
     "traceback": [
      "\u001b[0;31m---------------------------------------------------------------------------\u001b[0m\n",
      "\u001b[0;31mKeyboardInterrupt\u001b[0m                         Traceback (most recent call last)\n",
      "Cell \u001b[0;32mIn[11], line 13\u001b[0m\n",
      "\u001b[1;32m     11\u001b[0m         \u001b[39mprint\u001b[39m(\u001b[39mf\u001b[39m\u001b[39m\"\u001b[39m\u001b[39mThe file \u001b[39m\u001b[39m{\u001b[39;00mfile_path\u001b[39m}\u001b[39;00m\u001b[39m does not exist.\u001b[39m\u001b[39m\"\u001b[39m)\n",
      "\u001b[1;32m     12\u001b[0m         \u001b[39mbreak\u001b[39;00m\n",
      "\u001b[0;32m---> 13\u001b[0m df_2_grouped[\u001b[39m'\u001b[39m\u001b[39mfile_exists\u001b[39m\u001b[39m'\u001b[39m] \u001b[39m=\u001b[39m df_2_grouped[\u001b[39m'\u001b[39;49m\u001b[39mxml_path\u001b[39;49m\u001b[39m'\u001b[39;49m]\u001b[39m.\u001b[39;49mapply(os\u001b[39m.\u001b[39;49mpath\u001b[39m.\u001b[39;49mexists)\n",
      "\n",
      "File \u001b[0;32m~/miniconda3/lib/python3.8/site-packages/pandas/core/series.py:4771\u001b[0m, in \u001b[0;36mSeries.apply\u001b[0;34m(self, func, convert_dtype, args, **kwargs)\u001b[0m\n",
      "\u001b[1;32m   4661\u001b[0m \u001b[39mdef\u001b[39;00m \u001b[39mapply\u001b[39m(\n",
      "\u001b[1;32m   4662\u001b[0m     \u001b[39mself\u001b[39m,\n",
      "\u001b[1;32m   4663\u001b[0m     func: AggFuncType,\n",
      "\u001b[0;32m   (...)\u001b[0m\n",
      "\u001b[1;32m   4666\u001b[0m     \u001b[39m*\u001b[39m\u001b[39m*\u001b[39mkwargs,\n",
      "\u001b[1;32m   4667\u001b[0m ) \u001b[39m-\u001b[39m\u001b[39m>\u001b[39m DataFrame \u001b[39m|\u001b[39m Series:\n",
      "\u001b[1;32m   4668\u001b[0m     \u001b[39m\"\"\"\u001b[39;00m\n",
      "\u001b[1;32m   4669\u001b[0m \u001b[39m    Invoke function on values of Series.\u001b[39;00m\n",
      "\u001b[1;32m   4670\u001b[0m \n",
      "\u001b[0;32m   (...)\u001b[0m\n",
      "\u001b[1;32m   4769\u001b[0m \u001b[39m    dtype: float64\u001b[39;00m\n",
      "\u001b[1;32m   4770\u001b[0m \u001b[39m    \"\"\"\u001b[39;00m\n",
      "\u001b[0;32m-> 4771\u001b[0m     \u001b[39mreturn\u001b[39;00m SeriesApply(\u001b[39mself\u001b[39;49m, func, convert_dtype, args, kwargs)\u001b[39m.\u001b[39;49mapply()\n",
      "\n",
      "File \u001b[0;32m~/miniconda3/lib/python3.8/site-packages/pandas/core/apply.py:1105\u001b[0m, in \u001b[0;36mSeriesApply.apply\u001b[0;34m(self)\u001b[0m\n",
      "\u001b[1;32m   1102\u001b[0m     \u001b[39mreturn\u001b[39;00m \u001b[39mself\u001b[39m\u001b[39m.\u001b[39mapply_str()\n",
      "\u001b[1;32m   1104\u001b[0m \u001b[39m# self.f is Callable\u001b[39;00m\n",
      "\u001b[0;32m-> 1105\u001b[0m \u001b[39mreturn\u001b[39;00m \u001b[39mself\u001b[39;49m\u001b[39m.\u001b[39;49mapply_standard()\n",
      "\n",
      "File \u001b[0;32m~/miniconda3/lib/python3.8/site-packages/pandas/core/apply.py:1156\u001b[0m, in \u001b[0;36mSeriesApply.apply_standard\u001b[0;34m(self)\u001b[0m\n",
      "\u001b[1;32m   1154\u001b[0m     \u001b[39melse\u001b[39;00m:\n",
      "\u001b[1;32m   1155\u001b[0m         values \u001b[39m=\u001b[39m obj\u001b[39m.\u001b[39mastype(\u001b[39mobject\u001b[39m)\u001b[39m.\u001b[39m_values\n",
      "\u001b[0;32m-> 1156\u001b[0m         mapped \u001b[39m=\u001b[39m lib\u001b[39m.\u001b[39;49mmap_infer(\n",
      "\u001b[1;32m   1157\u001b[0m             values,\n",
      "\u001b[1;32m   1158\u001b[0m             f,\n",
      "\u001b[1;32m   1159\u001b[0m             convert\u001b[39m=\u001b[39;49m\u001b[39mself\u001b[39;49m\u001b[39m.\u001b[39;49mconvert_dtype,\n",
      "\u001b[1;32m   1160\u001b[0m         )\n",
      "\u001b[1;32m   1162\u001b[0m \u001b[39mif\u001b[39;00m \u001b[39mlen\u001b[39m(mapped) \u001b[39mand\u001b[39;00m \u001b[39misinstance\u001b[39m(mapped[\u001b[39m0\u001b[39m], ABCSeries):\n",
      "\u001b[1;32m   1163\u001b[0m     \u001b[39m# GH#43986 Need to do list(mapped) in order to get treated as nested\u001b[39;00m\n",
      "\u001b[1;32m   1164\u001b[0m     \u001b[39m#  See also GH#25959 regarding EA support\u001b[39;00m\n",
      "\u001b[1;32m   1165\u001b[0m     \u001b[39mreturn\u001b[39;00m obj\u001b[39m.\u001b[39m_constructor_expanddim(\u001b[39mlist\u001b[39m(mapped), index\u001b[39m=\u001b[39mobj\u001b[39m.\u001b[39mindex)\n",
      "\n",
      "File \u001b[0;32m~/miniconda3/lib/python3.8/site-packages/pandas/_libs/lib.pyx:2918\u001b[0m, in \u001b[0;36mpandas._libs.lib.map_infer\u001b[0;34m()\u001b[0m\n",
      "\n",
      "File \u001b[0;32m~/miniconda3/lib/python3.8/genericpath.py:19\u001b[0m, in \u001b[0;36mexists\u001b[0;34m(path)\u001b[0m\n",
      "\u001b[1;32m     17\u001b[0m \u001b[39m\"\"\"Test whether a path exists.  Returns False for broken symbolic links\"\"\"\u001b[39;00m\n",
      "\u001b[1;32m     18\u001b[0m \u001b[39mtry\u001b[39;00m:\n",
      "\u001b[0;32m---> 19\u001b[0m     os\u001b[39m.\u001b[39;49mstat(path)\n",
      "\u001b[1;32m     20\u001b[0m \u001b[39mexcept\u001b[39;00m (\u001b[39mOSError\u001b[39;00m, \u001b[39mValueError\u001b[39;00m):\n",
      "\u001b[1;32m     21\u001b[0m     \u001b[39mreturn\u001b[39;00m \u001b[39mFalse\u001b[39;00m\n",
      "\n",
      "\u001b[0;31mKeyboardInterrupt\u001b[0m: "
     ]
    }
   ],
   "source": [
    "import os\n",
    "import pandas as pd\n",
    "from tqdm import tqdm\n",
    "\n",
    "# Assuming df_2_grouped is your DataFrame and 'new_xml_path' is the column containing file paths\n",
    "\n",
    "for file_path in tqdm(df_2_grouped['xml_path']):\n",
    "    if os.path.exists(file_path):\n",
    "        continue\n",
    "    else:\n",
    "        print(f\"The file {file_path} does not exist.\")\n",
    "        break\n",
    "df_2_grouped['file_exists'] = df_2_grouped['xml_path'].apply(os.path.exists)"
   ]
  },
  {
   "cell_type": "code",
   "execution_count": 100,
   "metadata": {},
   "outputs": [
    {
     "data": {
      "text/plain": [
       "1572280"
      ]
     },
     "metadata": {},
     "output_type": "display_data"
    }
   ],
   "source": [
    "display(df_2_grouped.RestingECG_PatientDemographics_PatientID.count())"
   ]
  },
  {
   "cell_type": "code",
   "execution_count": null,
   "metadata": {},
   "outputs": [],
   "source": [
    "## Clean the data\n",
    "\n",
    "\n",
    "df_2_grouped['Normalized_Diagnosis_LABELBOX'] = df_2_grouped['Normalized_Diagnosis_LABELBOX'].astype(str)\n",
    "#df_2_grouped = df_2_grouped.drop(['RestingECG_PatientDemographics_PatientFirstName'], axis=1)\n",
    "#df_2_grouped = df_2_grouped.drop(['RestingECG_PatientDemographics_PatientLastName'], axis=1)\n",
    "\n",
    "df_2_grouped['RestingECG_PatientDemographics_PatientID'] = df_2_grouped['RestingECG_PatientDemographics_PatientID'].astype(str)\n",
    "df_2_grouped['RestingECG_TestDemographics_AnalysisSoftwareVersion'] = df_2_grouped['RestingECG_TestDemographics_AnalysisSoftwareVersion'].astype(str)"
   ]
  },
  {
   "cell_type": "code",
   "execution_count": 99,
   "metadata": {},
   "outputs": [
    {
     "data": {
      "text/plain": [
       "239     1044795\n",
       "231      259733\n",
       "237      123843\n",
       "241       64974\n",
       "243       63826\n",
       "22        14286\n",
       "235         768\n",
       "1221         23\n",
       "Name: RestingECG_TestDemographics_AnalysisSoftwareVersion, dtype: Int64"
      ]
     },
     "metadata": {},
     "output_type": "display_data"
    }
   ],
   "source": [
    "# Convert the column to string type\n",
    "df_2_grouped['RestingECG_TestDemographics_AnalysisSoftwareVersion'] = df_2_grouped['RestingECG_TestDemographics_AnalysisSoftwareVersion'].astype(str)\n",
    "\n",
    "# Replace all non-digit characters with an empty string\n",
    "df_2_grouped['RestingECG_TestDemographics_AnalysisSoftwareVersion'] = df_2_grouped['RestingECG_TestDemographics_AnalysisSoftwareVersion'].str.replace(r'\\D', '', regex=True)\n",
    "# Convert empty strings to NaN\n",
    "df_2_grouped.loc[df_2_grouped['RestingECG_TestDemographics_AnalysisSoftwareVersion'] == '', 'RestingECG_TestDemographics_AnalysisSoftwareVersion'] = np.nan\n",
    "\n",
    "df_2_grouped['RestingECG_TestDemographics_AnalysisSoftwareVersion'] = df_2_grouped['RestingECG_TestDemographics_AnalysisSoftwareVersion'].astype(float).astype('Int64')\n",
    "display(df_2_grouped['RestingECG_TestDemographics_AnalysisSoftwareVersion'].value_counts())"
   ]
  },
  {
   "cell_type": "code",
   "execution_count": 113,
   "metadata": {},
   "outputs": [],
   "source": [
    "df_2_grouped['RestingECG_Order_ExtraADTData1'] = df_2_grouped['RestingECG_Order_ExtraADTData1'].astype(str)\n",
    "# Iterate over the columns in the DataFrame\n",
    "for col in df_2_grouped.columns:\n",
    "    # If the column name contains \"RestingECG_ExtraQuestions\"\n",
    "    if \"RestingECG_ExtraQuestions\" in col:\n",
    "        # Convert the column to string type\n",
    "        df_2_grouped[col] = df_2_grouped[col].astype(str)\n",
    "    elif \"RestingECG_Order\" in col:\n",
    "        df_2_grouped[col] = df_2_grouped[col].astype(str)"
   ]
  },
  {
   "cell_type": "code",
   "execution_count": 114,
   "metadata": {},
   "outputs": [],
   "source": [
    "df_2_grouped.to_parquet(\n",
    "    \"/media/data1/ravram/DeepECG/ekg_waveforms_output/df_xml_2023_05_09_2004-to-june-2022_n_1572280_with_labelbox_no_duplicates.parquet\"\n",
    ")"
   ]
  },
  {
   "cell_type": "markdown",
   "metadata": {},
   "source": [
    "### Plot dataset distribution"
   ]
  },
  {
   "cell_type": "code",
   "execution_count": 115,
   "metadata": {},
   "outputs": [],
   "source": [
    "df_2_grouped = pd.read_parquet('/media/data1/ravram/DeepECG/ekg_waveforms_output/df_xml_2023_05_09_2004-to-june-2022_n_1572280_with_labelbox_no_duplicates.parquet')"
   ]
  },
  {
   "cell_type": "code",
   "execution_count": 116,
   "metadata": {},
   "outputs": [
    {
     "data": {
      "image/png": "[encoded data removed]",
      "text/plain": [
       "<Figure size 1200x600 with 1 Axes>"
      ]
     },
     "metadata": {},
     "output_type": "display_data"
    }
   ],
   "source": [
    "import pandas as pd\n",
    "import matplotlib.pyplot as plt\n",
    "\n",
    "# Convert the 'RestingECG_TestDemographics_AcquisitionDate' column to datetime\n",
    "df_2_grouped['RestingECG_TestDemographics_AcquisitionDate'] = pd.to_datetime(df_2_grouped['RestingECG_TestDemographics_AcquisitionDate'])\n",
    "\n",
    "# Extract the year and count the number of entries per year\n",
    "entries_per_year = df_2_grouped['RestingECG_TestDemographics_AcquisitionDate'].dt.year.value_counts()\n",
    "\n",
    "# Sort the years\n",
    "entries_per_year = entries_per_year.sort_index()\n",
    "\n",
    "# Plot the number of entries per year\n",
    "entries_per_year.plot(kind='bar', figsize=(12,6))\n",
    "\n",
    "plt.xlabel('Year')\n",
    "plt.ylabel('Number of Entries')\n",
    "plt.title('Number of Entries per Year')\n",
    "plt.show()"
   ]
  },
  {
   "cell_type": "code",
   "execution_count": 117,
   "metadata": {},
   "outputs": [
    {
     "data": {
      "image/png": "[encoded data removed]",
      "text/plain": [
       "<Figure size 1200x600 with 1 Axes>"
      ]
     },
     "metadata": {},
     "output_type": "display_data"
    }
   ],
   "source": [
    "import pandas as pd\n",
    "import matplotlib.pyplot as plt\n",
    "\n",
    "# Convert the 'RestingECG_TestDemographics_AcquisitionDate' column to datetime\n",
    "df_2['RestingECG_TestDemographics_AcquisitionDate'] = pd.to_datetime(df_2['RestingECG_TestDemographics_AcquisitionDate'])\n",
    "\n",
    "# Filter the dataframe for entries since 2018\n",
    "df_2 = df_2[df_2['RestingECG_TestDemographics_AcquisitionDate'].dt.year >= 2018]\n",
    "\n",
    "# Create new columns for year and month\n",
    "df_2['Year'] = df_2['RestingECG_TestDemographics_AcquisitionDate'].dt.year\n",
    "df_2['Month'] = df_2['RestingECG_TestDemographics_AcquisitionDate'].dt.month\n",
    "\n",
    "# Group by year and month, and count the number of entries\n",
    "entries_per_month = df_2.groupby(['Year', 'Month']).size()\n",
    "\n",
    "# Plot the number of entries per month for each year\n",
    "entries_per_month.plot(kind='bar', figsize=(12,6))\n",
    "\n",
    "plt.xlabel('Year, Month')\n",
    "plt.ylabel('Number of Entries')\n",
    "plt.title('Number of Entries per Month (Since 2018)')\n",
    "plt.show()"
   ]
  },
  {
   "cell_type": "code",
   "execution_count": 6,
   "metadata": {
    "hidden": true
   },
   "outputs": [],
   "source": [
    "# df_output['ecg_abnormal'] = np.where(df_output['Diagnosis'].str.contains('ECG anormal'), 1, np.where(df_output['Diagnosis'].str.contains('ECG normal'), 0, -1))\n",
    "# Remove ECG anormal and ECG normal from diagnosis\n",
    "# df_output['Diagnosis'] = df_output['Diagnosis'].str.replace('ECG anormal', '')\n",
    "# df_output['Original_Diagnosis'] = df_output['Original_Diagnosis'].str.replace('ECG normal', '')\n",
    "# df_output['Original_Diagnosis'] = df_output['Diagnosis'].str.replace('ECG anormal', '')\n",
    "# df_output['Diagnosis'] = df_output['Original_Diagnosis'].str.replace('ECG normal', '')\n",
    "# df_output.to_csv('data/20221002_ECG_mod_diagnosis.csv')"
   ]
  },
  {
   "cell_type": "code",
   "execution_count": null,
   "metadata": {
    "hidden": true
   },
   "outputs": [],
   "source": [
    "df_m = (\n",
    "    df_output.groupby([\"patientid\", \"AcquisitionDate\", \"AcquisitionTime\"])\n",
    "    .first()\n",
    "    .reset_index()\n",
    ")\n",
    "display(df_stats(df_output))\n",
    "display(df_stats(df_m))\n",
    "## The ECGs can be grouped by patient id, date and time to have a 1 unique row per ECG - this means the filename to save the ECG also needs to have the date and time in it."
   ]
  },
  {
   "cell_type": "code",
   "execution_count": null,
   "metadata": {
    "hidden": true
   },
   "outputs": [],
   "source": [
    "# output_dir = os.getcwd() + '/ekg_waveforms_output/'\n",
    "# ekg_batch_run(df['path'][0:1])"
   ]
  },
  {
   "attachments": {},
   "cell_type": "markdown",
   "metadata": {
    "heading_collapsed": true
   },
   "source": [
    "###  Run CLI_xml2df by Alexis to generate NUMPY ARRAYS and SAVE dataset as PARQUET"
   ]
  },
  {
   "cell_type": "code",
   "execution_count": 1,
   "metadata": {
    "hidden": true
   },
   "outputs": [
    {
     "name": "stderr",
     "output_type": "stream",
     "text": [
      "/tmp/ipykernel_140797/1622204394.py:9: DeprecationWarning: Importing display from IPython.core.display is deprecated since IPython 7.14, please import from IPython display\n",
      "  from IPython.core.display import HTML, display\n"
     ]
    },
    {
     "data": {
      "text/html": [
       "<style>.container { width:100% !important; }</style>"
      ],
      "text/plain": [
       "<IPython.core.display.HTML object>"
      ]
     },
     "metadata": {},
     "output_type": "display_data"
    }
   ],
   "source": [
    "import numpy as np\n",
    "import pandas as pd\n",
    "\n",
    "# pd.set_option('display.height', 1000)\n",
    "pd.set_option(\"display.max_rows\", 500)\n",
    "pd.set_option(\"display.max_columns\", 500)\n",
    "pd.set_option(\"display.width\", 1000)\n",
    "pd.set_option(\"max_colwidth\", 200)\n",
    "from IPython.core.display import HTML, display\n",
    "\n",
    "display(HTML(\"<style>.container { width:100% !important; }</style>\"))\n",
    "\n",
    "\n",
    "import os\n",
    "\n",
    "os.environ[\"R_HOME\"] = \"/root/miniconda3/envs/R/lib/R\"\n",
    "\n",
    "import rpy2.robjects as objects\n",
    "from rpy2.robjects.packages import importr\n",
    "\n",
    "base = importr(\"base\")\n",
    "r_pROC = importr(\"pROC\")\n",
    "base._libPaths()[0]\n",
    "\n",
    "\n",
    "def df_stats(df):\n",
    "    from tabulate import tabulate\n",
    "\n",
    "    print(\"\\n***** Shape: \", df.shape, \" *****\\n\")\n",
    "\n",
    "    columns_list = df.columns.values.tolist()\n",
    "    isnull_list = df.isnull().sum().values.tolist()\n",
    "    isunique_list = df.nunique().values.tolist()\n",
    "    dtypes_list = df.dtypes.tolist()\n",
    "\n",
    "    list_stat_val = list(zip(columns_list, isnull_list, isunique_list, dtypes_list))\n",
    "    df_stat_val = pd.DataFrame(\n",
    "        list_stat_val, columns=[\"Name\", \"Null\", \"Unique\", \"Dtypes\"]\n",
    "    )\n",
    "    print(tabulate(df_stat_val, headers=\"keys\", tablefmt=\"psql\"))\n",
    "    return df.head()"
   ]
  },
  {
   "cell_type": "code",
   "execution_count": 14,
   "metadata": {
    "hidden": true
   },
   "outputs": [],
   "source": [
    "df = pd.read_csv(\"data/20230313_ECG_path.csv\")"
   ]
  },
  {
   "cell_type": "code",
   "execution_count": null,
   "metadata": {
    "hidden": true
   },
   "outputs": [
    {
     "name": "stderr",
     "output_type": "stream",
     "text": [
      "Transforming xml files into dict:   0%|                                                                                                                                                                      | 46/1633856 [00:06<31:43:21, 14.31it/s]"
     ]
    },
    {
     "name": "stdout",
     "output_type": "stream",
     "text": [
      "error {'RestingECG': {'MuseInfo': {'MuseVersion': '9.0.10.18530'}, 'PatientDemographics': {'PatientID': '0799999', 'PatientAge': '81', 'AgeUnits': 'YEARS', 'DateofBirth': '06-21-1940', 'Gender': 'MALE', 'PatientLastName': 'MEDISOL', 'PatientFirstName': 'TEST'}, 'TestDemographics': {'DataType': 'RESTING', 'Site': '1', 'SiteName': 'INSTITUT DE CARDIOLOGIE DE MTL', 'Status': 'CONFIRMED', 'EditListStatus': 'Confirmed', 'Priority': 'NORMAL', 'Location': '1', 'LocationName': '1_CARDIOLOGIE GENERALE', 'AcquisitionTime': '14:30:57', 'AcquisitionDate': '11-01-2021', 'EditTime': '10:57:44', 'EditDate': '11-02-2021', 'OverreaderID': '20001', 'EditorID': '4846', 'OrderingMDLastName': 'Md I.C.M.', 'OrderingMDFirstName': 'A Confirmer', 'ReferringMDLastName': 'Md I.C.M.', 'ReferringMDFirstName': 'A Confirmer', 'OverreaderLastName': 'MuseAdmin', 'OverreaderFirstName': 'MuseAdmin', 'EditorLastName': 'PELLERIN', 'EditorFirstName': 'SANDRA', 'HISStatus': '2'}, 'Order': {'RequisitionNumber': '21109084', 'HISOrderNumber': '21109084', 'HISAccountNumber': 'EL2021109084', 'HISTestType': '0405R', 'OrderingMDHISID': '1', 'HISOrderingMDLastName': 'Md I.C.M.', 'HISOrderingMDFirstName': 'A Confirmer', 'OrderTime': '14:26:00', 'HISLocation': 'CARD', 'ExtraADTData1': '799999', 'ExtraOrderData1': 'EL202110908401', 'ExtraOrderData2': 'EL2021109084', 'HISDisposition': 'OUTPAT', 'ReferringMDHISID': '1', 'AdmissionType': '1', 'PlacersHISID': '5458', 'PlacersLastName': 'BOURGEAULT VINCENT', 'OrderPlacementDate': '2021-11-01', 'OrderPlacementTime': '14:29:51'}, 'RestingECGMeasurements': {'ECGSampleBase': '250', 'ECGSampleExponent': '0'}, 'OriginalRestingECGMeasurements': {'ECGSampleBase': '250', 'ECGSampleExponent': '0'}, 'Diagnosis': {'Modality': 'RESTING', 'DiagnosisStatement': {'StmtFlag': 'USERINSERT', 'StmtText': 'Testing'}}}}\n"
     ]
    },
    {
     "name": "stderr",
     "output_type": "stream",
     "text": [
      "Transforming xml files into dict:   0%|                                                                                                                                                                     | 1086/1633856 [00:36<8:55:36, 50.81it/s]"
     ]
    }
   ],
   "source": [
    "import CLI_xml2df as xml2df\n",
    "\n",
    "df_output = xml2df.tinyxml2df(\n",
    "    df[\"path\"], out_path=\"data/ekg_waveforms_output/\"\n",
    ").read2flatten()"
   ]
  },
  {
   "cell_type": "code",
   "execution_count": null,
   "metadata": {
    "hidden": true
   },
   "outputs": [],
   "source": [
    "#df_output.to_csv('data/20230328_ECG_path_diagnosis_fixed_with_NPY.csv')"
   ]
  },
  {
   "cell_type": "code",
   "execution_count": 62,
   "metadata": {
    "hidden": true
   },
   "outputs": [],
   "source": [
    "df_output.to_parquet(\n",
    "    \"/media/data1/ravram/DeepECG/ekg_waveforms_output/df_xml_2023_03_30_n_1633856.parquet\"\n",
    ")"
   ]
  },
  {
   "cell_type": "code",
   "execution_count": null,
   "metadata": {
    "hidden": true
   },
   "outputs": [],
   "source": [
    "npy_array = np.load(df_output[\"npy_path\"][0])\n",
    "# Transpose the array to shape=[12, 2500]\n",
    "ecg_transposed = np.transpose(npy_array, (1, 0, 2))\n",
    "ecg_transposed = ecg_transposed.reshape(12, 2500)\n",
    "\n",
    "import ecg_plot\n",
    "\n",
    "ecg_plot.plot(ecg_transposed, sample_rate=250, title=\"ECG 12\")\n",
    "ecg_plot.show()"
   ]
  },
  {
   "cell_type": "code",
   "execution_count": null,
   "metadata": {
    "hidden": true
   },
   "outputs": [],
   "source": [
    "## Plot line of ecg_transposed[0] and ecg_transposed[1]\n",
    "import matplotlib.pyplot as plt\n",
    "\n",
    "plt.plot(ecg_transposed[0])\n",
    "plt.plot(ecg_transposed[1])\n",
    "plt.show()"
   ]
  },
  {
   "cell_type": "markdown",
   "metadata": {},
   "source": [
    "### Propagate diagnoses labels"
   ]
  },
  {
   "cell_type": "code",
   "execution_count": 4,
   "metadata": {},
   "outputs": [
    {
     "name": "stderr",
     "output_type": "stream",
     "text": [
      "/tmp/ipykernel_199451/2575175134.py:9: DeprecationWarning: Importing display from IPython.core.display is deprecated since IPython 7.14, please import from IPython display\n",
      "  from IPython.core.display import HTML, display\n"
     ]
    },
    {
     "data": {
      "text/html": [
       "<style>.container { width:100% !important; }</style>"
      ],
      "text/plain": [
       "<IPython.core.display.HTML object>"
      ]
     },
     "metadata": {},
     "output_type": "display_data"
    }
   ],
   "source": [
    "import numpy as np\n",
    "import pandas as pd\n",
    "\n",
    "# pd.set_option('display.height', 1000)\n",
    "pd.set_option(\"display.max_rows\", 500)\n",
    "pd.set_option(\"display.max_columns\", 500)\n",
    "pd.set_option(\"display.width\", 1000)\n",
    "pd.set_option(\"max_colwidth\", 200)\n",
    "from IPython.core.display import HTML, display\n",
    "\n",
    "display(HTML(\"<style>.container { width:100% !important; }</style>\"))"
   ]
  },
  {
   "cell_type": "code",
   "execution_count": 5,
   "metadata": {},
   "outputs": [],
   "source": [
    "import re\n",
    "\n",
    "import pandas as pd\n",
    "from unidecode import unidecode\n",
    "\n",
    "\n",
    "def normalize_string(s):\n",
    "    s = unidecode(s)\n",
    "    s = s.strip()\n",
    "    s = re.sub(r\"\\W+\", \" \", s)\n",
    "    return s\n",
    "\n",
    "\n",
    "def contains_eligible_diagnosis(normalized_diag, eligible_diagnoses):\n",
    "    # Initialize a variable to store the longest diagnosis and its length\n",
    "    longest_diagnosis = None\n",
    "    longest_length = 0\n",
    "\n",
    "    # Iterate over eligible_diagnoses\n",
    "    for diagnosis in eligible_diagnoses:\n",
    "        # Check if diagnosis is in normalized_diag\n",
    "        if diagnosis in normalized_diag:\n",
    "            # Check if the length of the current diagnosis is greater than the current longest_length\n",
    "            if len(diagnosis) > longest_length:\n",
    "                # Update the longest_diagnosis and longest_length\n",
    "                longest_diagnosis = diagnosis\n",
    "                longest_length = len(diagnosis)\n",
    "                \n",
    "    if (longest_diagnosis != None):\n",
    "        # Return the longest_diagnosis\n",
    "        return longest_diagnosis\n",
    "    else:\n",
    "        return False\n",
    "\n",
    "\n",
    "def filter_ecg_by_diagnosis(df_ecg, df_ecg_sampled):\n",
    "    df_ecg[\"Normalized_Diagnosis_MUSE\"] = df_ecg[\"diagnosis\"].apply(normalize_string)\n",
    "    df_ecg_sampled[\"Normalized_Diagnosis_LABELBOX\"] = df_ecg_sampled[\"Original_Diagnosis\"].apply(\n",
    "        normalize_string\n",
    "    )\n",
    "\n",
    "    eligible_diagnoses = set(df_ecg_sampled[\"Normalized_Diagnosis_LABELBOX\"])\n",
    "\n",
    "    df_ecg[\"Normalized_Diagnosis_LABELBOX\"] = df_ecg[\"Normalized_Diagnosis_MUSE\"].apply(\n",
    "        lambda x: contains_eligible_diagnosis(x, eligible_diagnoses)\n",
    "    )\n",
    "\n",
    "    return df_ecg"
   ]
  },
  {
   "cell_type": "code",
   "execution_count": 6,
   "metadata": {},
   "outputs": [],
   "source": [
    "df_ecg = pd.read_parquet(\n",
    "    \"/media/data1/ravram/DeepECG/ekg_waveforms_output/df_xml_2023_03_30_n_1633856.parquet\"\n",
    ")"
   ]
  },
  {
   "cell_type": "code",
   "execution_count": 7,
   "metadata": {},
   "outputs": [],
   "source": [
    "# Replace the folder path in the npy_path column\n",
    "#df_ecg['npy_path'] = df_ecg['npy_path'].replace(\n",
    "#    r'data/ekg_waveforms_output/ecg_npy/', \n",
    "#    '/media/data1/ravram/DeepECG/ekg_waveforms_output/ecg_npy/', \n",
    "#    regex=True\n",
    "#)"
   ]
  },
  {
   "cell_type": "code",
   "execution_count": 8,
   "metadata": {},
   "outputs": [
    {
     "data": {
      "text/plain": [
       "0          /media/data1/ravram/DeepECG/ekg_waveforms_output/ecg_npy/0526715_02-27-2023_10-09-16.npy\n",
       "1          /media/data1/ravram/DeepECG/ekg_waveforms_output/ecg_npy/0621370_02-23-2023_11-13-00.npy\n",
       "2          /media/data1/ravram/DeepECG/ekg_waveforms_output/ecg_npy/0337660_02-24-2023_09-36-41.npy\n",
       "3          /media/data1/ravram/DeepECG/ekg_waveforms_output/ecg_npy/0799999_08-19-2021_14-15-00.npy\n",
       "4          /media/data1/ravram/DeepECG/ekg_waveforms_output/ecg_npy/0609083_06-22-2022_22-51-54.npy\n",
       "                                                     ...                                           \n",
       "1633851    /media/data1/ravram/DeepECG/ekg_waveforms_output/ecg_npy/0267493_02-24-2023_08-20-41.npy\n",
       "1633852    /media/data1/ravram/DeepECG/ekg_waveforms_output/ecg_npy/0057447_02-24-2023_13-04-00.npy\n",
       "1633853    /media/data1/ravram/DeepECG/ekg_waveforms_output/ecg_npy/0370321_02-26-2023_07-34-35.npy\n",
       "1633854    /media/data1/ravram/DeepECG/ekg_waveforms_output/ecg_npy/0621452_02-25-2023_10-08-51.npy\n",
       "1633855    /media/data1/ravram/DeepECG/ekg_waveforms_output/ecg_npy/0205991_02-25-2023_00-58-39.npy\n",
       "Name: npy_path, Length: 1633856, dtype: object"
      ]
     },
     "metadata": {},
     "output_type": "display_data"
    },
    {
     "data": {
      "text/plain": [
       "True     9999\n",
       "False       1\n",
       "Name: npy_path, dtype: int64"
      ]
     },
     "execution_count": 8,
     "metadata": {},
     "output_type": "execute_result"
    }
   ],
   "source": [
    "import os\n",
    "# Check if df_ecg['npy_path'] exists\n",
    "display(df_ecg.npy_path)#\n",
    "df_ecg[0:10000]['npy_path'].apply(lambda x: os.path.exists(x)).value_counts()"
   ]
  },
  {
   "cell_type": "code",
   "execution_count": 12,
   "metadata": {},
   "outputs": [
    {
     "data": {
      "text/html": [
       "<div>\n",
       "<style scoped>\n",
       "    .dataframe tbody tr th:only-of-type {\n",
       "        vertical-align: middle;\n",
       "    }\n",
       "\n",
       "    .dataframe tbody tr th {\n",
       "        vertical-align: top;\n",
       "    }\n",
       "\n",
       "    .dataframe thead th {\n",
       "        text-align: right;\n",
       "    }\n",
       "</style>\n",
       "<table border=\"1\" class=\"dataframe\">\n",
       "  <thead>\n",
       "    <tr style=\"text-align: right;\">\n",
       "      <th></th>\n",
       "      <th>Unnamed: 0.2</th>\n",
       "      <th>Unnamed: 0</th>\n",
       "      <th>Unnamed: 0.1</th>\n",
       "      <th>patientid</th>\n",
       "      <th>age</th>\n",
       "      <th>VentricularRate</th>\n",
       "      <th>AtrialRate</th>\n",
       "      <th>PRInterval</th>\n",
       "      <th>QRSDuration</th>\n",
       "      <th>QTInterval</th>\n",
       "      <th>QTCorrected</th>\n",
       "      <th>PAxis</th>\n",
       "      <th>RAXis</th>\n",
       "      <th>TAxis</th>\n",
       "      <th>QRSCount</th>\n",
       "      <th>QOnset</th>\n",
       "      <th>QOffset</th>\n",
       "      <th>POnset</th>\n",
       "      <th>POffset</th>\n",
       "      <th>TOffset</th>\n",
       "      <th>ECGSampleBase</th>\n",
       "      <th>ECGSampleExponent</th>\n",
       "      <th>QTcFrederica</th>\n",
       "      <th>Location</th>\n",
       "      <th>ecg_abnormal</th>\n",
       "    </tr>\n",
       "  </thead>\n",
       "  <tbody>\n",
       "    <tr>\n",
       "      <th>count</th>\n",
       "      <td>1680.000000</td>\n",
       "      <td>1680.000000</td>\n",
       "      <td>1680.000000</td>\n",
       "      <td>1.680000e+03</td>\n",
       "      <td>1680.000000</td>\n",
       "      <td>1680.000000</td>\n",
       "      <td>1628.000000</td>\n",
       "      <td>1305.000000</td>\n",
       "      <td>1680.000000</td>\n",
       "      <td>1680.000000</td>\n",
       "      <td>1680.000000</td>\n",
       "      <td>1331.000000</td>\n",
       "      <td>1680.000000</td>\n",
       "      <td>1680.000000</td>\n",
       "      <td>1679.000000</td>\n",
       "      <td>1679.000000</td>\n",
       "      <td>1679.000000</td>\n",
       "      <td>1325.000000</td>\n",
       "      <td>1325.000000</td>\n",
       "      <td>1679.000000</td>\n",
       "      <td>1680.0</td>\n",
       "      <td>1680.0</td>\n",
       "      <td>1680.000000</td>\n",
       "      <td>1680.000000</td>\n",
       "      <td>1680.000000</td>\n",
       "    </tr>\n",
       "    <tr>\n",
       "      <th>mean</th>\n",
       "      <td>1679.000000</td>\n",
       "      <td>98686.894048</td>\n",
       "      <td>98686.894048</td>\n",
       "      <td>4.036973e+05</td>\n",
       "      <td>68.342857</td>\n",
       "      <td>74.857738</td>\n",
       "      <td>91.729730</td>\n",
       "      <td>178.607663</td>\n",
       "      <td>107.202381</td>\n",
       "      <td>411.392262</td>\n",
       "      <td>449.937500</td>\n",
       "      <td>49.087904</td>\n",
       "      <td>10.293452</td>\n",
       "      <td>57.289286</td>\n",
       "      <td>12.306730</td>\n",
       "      <td>215.051817</td>\n",
       "      <td>268.653365</td>\n",
       "      <td>126.917736</td>\n",
       "      <td>179.017358</td>\n",
       "      <td>420.769506</td>\n",
       "      <td>500.0</td>\n",
       "      <td>0.0</td>\n",
       "      <td>436.216071</td>\n",
       "      <td>28.875000</td>\n",
       "      <td>-0.957738</td>\n",
       "    </tr>\n",
       "    <tr>\n",
       "      <th>std</th>\n",
       "      <td>970.237084</td>\n",
       "      <td>64830.463391</td>\n",
       "      <td>64830.463391</td>\n",
       "      <td>2.271023e+05</td>\n",
       "      <td>14.812598</td>\n",
       "      <td>20.066432</td>\n",
       "      <td>67.326581</td>\n",
       "      <td>44.666239</td>\n",
       "      <td>28.660914</td>\n",
       "      <td>50.489495</td>\n",
       "      <td>42.375547</td>\n",
       "      <td>32.418257</td>\n",
       "      <td>54.139939</td>\n",
       "      <td>65.198316</td>\n",
       "      <td>3.315639</td>\n",
       "      <td>9.380847</td>\n",
       "      <td>11.613775</td>\n",
       "      <td>22.998326</td>\n",
       "      <td>23.191483</td>\n",
       "      <td>24.167766</td>\n",
       "      <td>0.0</td>\n",
       "      <td>0.0</td>\n",
       "      <td>38.529527</td>\n",
       "      <td>15.757161</td>\n",
       "      <td>0.201246</td>\n",
       "    </tr>\n",
       "    <tr>\n",
       "      <th>min</th>\n",
       "      <td>0.000000</td>\n",
       "      <td>31.000000</td>\n",
       "      <td>31.000000</td>\n",
       "      <td>2.636000e+03</td>\n",
       "      <td>15.000000</td>\n",
       "      <td>38.000000</td>\n",
       "      <td>23.000000</td>\n",
       "      <td>32.000000</td>\n",
       "      <td>56.000000</td>\n",
       "      <td>162.000000</td>\n",
       "      <td>241.000000</td>\n",
       "      <td>-89.000000</td>\n",
       "      <td>-89.000000</td>\n",
       "      <td>-89.000000</td>\n",
       "      <td>6.000000</td>\n",
       "      <td>159.000000</td>\n",
       "      <td>249.000000</td>\n",
       "      <td>8.000000</td>\n",
       "      <td>58.000000</td>\n",
       "      <td>301.000000</td>\n",
       "      <td>500.0</td>\n",
       "      <td>0.0</td>\n",
       "      <td>211.000000</td>\n",
       "      <td>0.000000</td>\n",
       "      <td>-1.000000</td>\n",
       "    </tr>\n",
       "    <tr>\n",
       "      <th>25%</th>\n",
       "      <td>839.500000</td>\n",
       "      <td>42013.250000</td>\n",
       "      <td>42013.250000</td>\n",
       "      <td>2.547490e+05</td>\n",
       "      <td>60.000000</td>\n",
       "      <td>61.000000</td>\n",
       "      <td>61.000000</td>\n",
       "      <td>152.000000</td>\n",
       "      <td>88.000000</td>\n",
       "      <td>380.000000</td>\n",
       "      <td>422.000000</td>\n",
       "      <td>33.000000</td>\n",
       "      <td>-27.000000</td>\n",
       "      <td>15.000000</td>\n",
       "      <td>10.000000</td>\n",
       "      <td>212.000000</td>\n",
       "      <td>261.000000</td>\n",
       "      <td>116.000000</td>\n",
       "      <td>168.000000</td>\n",
       "      <td>406.000000</td>\n",
       "      <td>500.0</td>\n",
       "      <td>0.0</td>\n",
       "      <td>412.000000</td>\n",
       "      <td>21.000000</td>\n",
       "      <td>-1.000000</td>\n",
       "    </tr>\n",
       "    <tr>\n",
       "      <th>50%</th>\n",
       "      <td>1679.000000</td>\n",
       "      <td>92174.000000</td>\n",
       "      <td>92174.000000</td>\n",
       "      <td>4.332045e+05</td>\n",
       "      <td>70.000000</td>\n",
       "      <td>71.000000</td>\n",
       "      <td>72.000000</td>\n",
       "      <td>170.000000</td>\n",
       "      <td>98.000000</td>\n",
       "      <td>410.000000</td>\n",
       "      <td>445.000000</td>\n",
       "      <td>50.000000</td>\n",
       "      <td>5.000000</td>\n",
       "      <td>48.000000</td>\n",
       "      <td>12.000000</td>\n",
       "      <td>217.000000</td>\n",
       "      <td>265.000000</td>\n",
       "      <td>131.000000</td>\n",
       "      <td>184.000000</td>\n",
       "      <td>420.000000</td>\n",
       "      <td>500.0</td>\n",
       "      <td>0.0</td>\n",
       "      <td>431.000000</td>\n",
       "      <td>25.000000</td>\n",
       "      <td>-1.000000</td>\n",
       "    </tr>\n",
       "    <tr>\n",
       "      <th>75%</th>\n",
       "      <td>2518.500000</td>\n",
       "      <td>147548.500000</td>\n",
       "      <td>147548.500000</td>\n",
       "      <td>5.773622e+05</td>\n",
       "      <td>79.000000</td>\n",
       "      <td>84.000000</td>\n",
       "      <td>88.000000</td>\n",
       "      <td>196.000000</td>\n",
       "      <td>122.000000</td>\n",
       "      <td>442.000000</td>\n",
       "      <td>473.000000</td>\n",
       "      <td>64.000000</td>\n",
       "      <td>40.000000</td>\n",
       "      <td>91.000000</td>\n",
       "      <td>14.000000</td>\n",
       "      <td>221.000000</td>\n",
       "      <td>273.000000</td>\n",
       "      <td>142.000000</td>\n",
       "      <td>194.000000</td>\n",
       "      <td>436.000000</td>\n",
       "      <td>500.0</td>\n",
       "      <td>0.0</td>\n",
       "      <td>457.000000</td>\n",
       "      <td>42.000000</td>\n",
       "      <td>-1.000000</td>\n",
       "    </tr>\n",
       "    <tr>\n",
       "      <th>max</th>\n",
       "      <td>3358.000000</td>\n",
       "      <td>233701.000000</td>\n",
       "      <td>233701.000000</td>\n",
       "      <td>5.995598e+06</td>\n",
       "      <td>98.000000</td>\n",
       "      <td>211.000000</td>\n",
       "      <td>625.000000</td>\n",
       "      <td>480.000000</td>\n",
       "      <td>248.000000</td>\n",
       "      <td>648.000000</td>\n",
       "      <td>723.000000</td>\n",
       "      <td>268.000000</td>\n",
       "      <td>270.000000</td>\n",
       "      <td>270.000000</td>\n",
       "      <td>35.000000</td>\n",
       "      <td>243.000000</td>\n",
       "      <td>339.000000</td>\n",
       "      <td>173.000000</td>\n",
       "      <td>223.000000</td>\n",
       "      <td>533.000000</td>\n",
       "      <td>500.0</td>\n",
       "      <td>0.0</td>\n",
       "      <td>662.000000</td>\n",
       "      <td>53.000000</td>\n",
       "      <td>0.000000</td>\n",
       "    </tr>\n",
       "  </tbody>\n",
       "</table>\n",
       "</div>"
      ],
      "text/plain": [
       "       Unnamed: 0.2     Unnamed: 0   Unnamed: 0.1     patientid          age  VentricularRate   AtrialRate   PRInterval  QRSDuration   QTInterval  QTCorrected        PAxis        RAXis        TAxis     QRSCount       QOnset      QOffset       POnset      POffset      TOffset  ECGSampleBase  ECGSampleExponent  QTcFrederica     Location  ecg_abnormal\n",
       "count   1680.000000    1680.000000    1680.000000  1.680000e+03  1680.000000      1680.000000  1628.000000  1305.000000  1680.000000  1680.000000  1680.000000  1331.000000  1680.000000  1680.000000  1679.000000  1679.000000  1679.000000  1325.000000  1325.000000  1679.000000         1680.0             1680.0   1680.000000  1680.000000   1680.000000\n",
       "mean    1679.000000   98686.894048   98686.894048  4.036973e+05    68.342857        74.857738    91.729730   178.607663   107.202381   411.392262   449.937500    49.087904    10.293452    57.289286    12.306730   215.051817   268.653365   126.917736   179.017358   420.769506          500.0                0.0    436.216071    28.875000     -0.957738\n",
       "std      970.237084   64830.463391   64830.463391  2.271023e+05    14.812598        20.066432    67.326581    44.666239    28.660914    50.489495    42.375547    32.418257    54.139939    65.198316     3.315639     9.380847    11.613775    22.998326    23.191483    24.167766            0.0                0.0     38.529527    15.757161      0.201246\n",
       "min        0.000000      31.000000      31.000000  2.636000e+03    15.000000        38.000000    23.000000    32.000000    56.000000   162.000000   241.000000   -89.000000   -89.000000   -89.000000     6.000000   159.000000   249.000000     8.000000    58.000000   301.000000          500.0                0.0    211.000000     0.000000     -1.000000\n",
       "25%      839.500000   42013.250000   42013.250000  2.547490e+05    60.000000        61.000000    61.000000   152.000000    88.000000   380.000000   422.000000    33.000000   -27.000000    15.000000    10.000000   212.000000   261.000000   116.000000   168.000000   406.000000          500.0                0.0    412.000000    21.000000     -1.000000\n",
       "50%     1679.000000   92174.000000   92174.000000  4.332045e+05    70.000000        71.000000    72.000000   170.000000    98.000000   410.000000   445.000000    50.000000     5.000000    48.000000    12.000000   217.000000   265.000000   131.000000   184.000000   420.000000          500.0                0.0    431.000000    25.000000     -1.000000\n",
       "75%     2518.500000  147548.500000  147548.500000  5.773622e+05    79.000000        84.000000    88.000000   196.000000   122.000000   442.000000   473.000000    64.000000    40.000000    91.000000    14.000000   221.000000   273.000000   142.000000   194.000000   436.000000          500.0                0.0    457.000000    42.000000     -1.000000\n",
       "max     3358.000000  233701.000000  233701.000000  5.995598e+06    98.000000       211.000000   625.000000   480.000000   248.000000   648.000000   723.000000   268.000000   270.000000   270.000000    35.000000   243.000000   339.000000   173.000000   223.000000   533.000000          500.0                0.0    662.000000    53.000000      0.000000"
      ]
     },
     "metadata": {},
     "output_type": "display_data"
    }
   ],
   "source": [
    "df_ecg_sampled = pd.read_csv(\"data/20221002_ECG_mod_diagnosis_sampled_3600.csv\")\n",
    "df_ecg_sampled = df_ecg_sampled.groupby(['Diagnosis']).first()\n",
    "display(df_ecg_sampled.describe())"
   ]
  },
  {
   "cell_type": "code",
   "execution_count": 13,
   "metadata": {},
   "outputs": [],
   "source": [
    "import os\n",
    "import numpy as np\n",
    "import matplotlib.pyplot as plt\n",
    "from tqdm import tqdm\n",
    "\n",
    "\n",
    "def save_ecg_plots(df_output_sampled, output_dir, diagonsis_column='diagnosis', figsize=(16, 9), dpi=300, lead_order=None):\n",
    "    if lead_order is None:\n",
    "        lead_order = [\n",
    "            \"I\",\n",
    "            \"II\",\n",
    "            \"III\",\n",
    "            \"aVR\",\n",
    "            \"aVL\",\n",
    "            \"aVF\",\n",
    "            \"V1\",\n",
    "            \"V2\",\n",
    "            \"V3\",\n",
    "            \"V4\",\n",
    "            \"V5\",\n",
    "            \"V6\",\n",
    "        ]\n",
    "\n",
    "    path_to_output = os.path.join(os.getcwd(), output_dir)\n",
    "    \n",
    "    if not os.path.exists(path_to_output):\n",
    "        os.mkdir(path_to_output)\n",
    "\n",
    "    for index, row in tqdm(df_output_sampled.iterrows()):\n",
    "        path = os.path.join(row[\"npy_path\"])\n",
    "        file = np.load(path)\n",
    "        file = np.reshape(file, (1, 2500, 12))\n",
    "\n",
    "        plt.rcParams[\"figure.figsize\"] = figsize\n",
    "        plt.ioff()\n",
    "        fig, axs = plt.subplots(len(lead_order))\n",
    "        \n",
    "        for i in range(12):\n",
    "            if i == 0:\n",
    "                axs[i].set_title(row[diagonsis_column])\n",
    "            axs[i].plot(file[0][:, i])\n",
    "            axs[i].set(ylabel=str(lead_order[i]))\n",
    "\n",
    "        AcquisitionDateTime = row[\"RestingECG_TestDemographics_AcquisitionDate\"] + \"_\" + row[\"RestingECG_TestDemographics_AcquisitionTime\"].replace(\":\", \"-\")\n",
    "        filename = f\"{row['RestingECG_PatientDemographics_PatientID']}_{AcquisitionDateTime}.png\"\n",
    "        \n",
    "        file_output = os.path.join(path_to_output, filename)\n",
    "        print(file_output)\n",
    "        \n",
    "        plt.savefig(file_output, dpi=dpi, bbox_inches=\"tight\")\n",
    "        plt.close(fig)"
   ]
  },
  {
   "cell_type": "code",
   "execution_count": 14,
   "metadata": {},
   "outputs": [],
   "source": [
    "#save_ecg_plots(df_f[6511:6513], output_dir=\"sanity_check/\")"
   ]
  },
  {
   "cell_type": "code",
   "execution_count": 15,
   "metadata": {},
   "outputs": [],
   "source": [
    "pd.options.display.max_colwidth = 1000"
   ]
  },
  {
   "cell_type": "code",
   "execution_count": 21,
   "metadata": {},
   "outputs": [],
   "source": [
    "df_f = filter_ecg_by_diagnosis(df_ecg, df_ecg_sampled)"
   ]
  },
  {
   "cell_type": "code",
   "execution_count": 22,
   "metadata": {},
   "outputs": [],
   "source": [
    "## Apply this if the \"Contains_Eligible_Diagnosis\" is not FALSE; if it is false, return 0\n",
    "df_f['percentage_labelbox_string_present_in_original_string'] = df_f.apply(lambda x: len(x['Normalized_Diagnosis_LABELBOX'])/len(x['diagnosis']) if x['Normalized_Diagnosis_LABELBOX'] != False else 0, axis=1)"
   ]
  },
  {
   "cell_type": "code",
   "execution_count": 23,
   "metadata": {
    "scrolled": false
   },
   "outputs": [
    {
     "data": {
      "text/plain": [
       "count    1.633856e+06\n",
       "mean     7.451362e-01\n",
       "std      3.086749e-01\n",
       "min      0.000000e+00\n",
       "25%      5.930736e-01\n",
       "50%      8.636364e-01\n",
       "75%      1.000000e+00\n",
       "max      1.000000e+00\n",
       "Name: percentage_labelbox_string_present_in_original_string, dtype: float64"
      ]
     },
     "metadata": {},
     "output_type": "display_data"
    }
   ],
   "source": [
    "display(df_f.percentage_labelbox_string_present_in_original_string.describe())"
   ]
  },
  {
   "cell_type": "code",
   "execution_count": null,
   "metadata": {},
   "outputs": [],
   "source": []
  },
  {
   "cell_type": "code",
   "execution_count": 33,
   "metadata": {},
   "outputs": [],
   "source": [
    "df_f['Normalized_Diagnosis_LABELBOX'] = df_f['Normalized_Diagnosis_LABELBOX'].astype(str)\n",
    "df_f = df_f.drop(['RestingECG_PatientDemographics_PatientFirstName'], axis=1)\n",
    "df_f = df_f.drop(['RestingECG_PatientDemographics_PatientLastName'], axis=1)"
   ]
  },
  {
   "cell_type": "code",
   "execution_count": 35,
   "metadata": {},
   "outputs": [],
   "source": [
    "df_f.to_parquet(\n",
    "    \"/media/data1/ravram/DeepECG/ekg_waveforms_output/df_xml_2023_03_30_n_1633856_with_labelbox.parquet\"\n",
    ")"
   ]
  },
  {
   "cell_type": "code",
   "execution_count": null,
   "metadata": {},
   "outputs": [],
   "source": [
    "### 1) Voir quelles données labelbox sont discordantes et me les envoyer pour annotation (et enlever ces ECG de la base de données)\n",
    "### 2) Faire propagation des données labelbox concordantes sur df_ecg (db. parquet)\n",
    "### 3) Dictionnaire pour df_ecg['Contains_Eligible_Diagnosis']==False\n",
    "### 4) Standardiser le dataloader"
   ]
  }
 ],
 "metadata": {
  "kernelspec": {
   "display_name": "base",
   "language": "python",
   "name": "python3"
  },
  "language_info": {
   "codemirror_mode": {
    "name": "ipython",
    "version": 3
   },
   "file_extension": ".py",
   "mimetype": "text/x-python",
   "name": "python",
   "nbconvert_exporter": "python",
   "pygments_lexer": "ipython3",
   "version": "3.8.15"
  }
 },
 "nbformat": 4,
 "nbformat_minor": 2
}
