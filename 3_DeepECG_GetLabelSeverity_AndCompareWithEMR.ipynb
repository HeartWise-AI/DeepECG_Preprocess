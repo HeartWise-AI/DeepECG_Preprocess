{
 "cells": [
  {
   "cell_type": "code",
   "execution_count": null,
   "metadata": {},
   "outputs": [],
   "source": [
    "import math\n",
    "import matplotlib.pyplot as plt\n",
    "import heartpy as hp\n",
    "from tqdm import tqdm\n",
    "from concurrent.futures import ThreadPoolExecutor, as_completed\n",
    "from random import shuffle\n",
    "from scipy.interpolate import CubicSpline\n",
    "from numba import jit\n",
    "\n",
    "import numpy as np\n",
    "import pandas as pd\n",
    "\n",
    "# pd.set_option('display.height', 1000)\n",
    "pd.set_option(\"display.max_rows\", 500)\n",
    "pd.set_option(\"display.max_columns\", 500)\n",
    "pd.set_option(\"display.width\", 1000) \n",
    "pd.set_option(\"max_colwidth\", 200)\n",
    "from IPython.core.display import HTML, display\n",
    "\n",
    "display(HTML(\"<style>.container { width:100% !important; }</style>\"))\n",
    "\n",
    "def df_stats(df):\n",
    "    from tabulate import tabulate\n",
    "\n",
    "    print(\"\\n***** Shape: \", df.shape, \" *****\\n\")\n",
    "\n",
    "    columns_list = df.columns.values.tolist()\n",
    "    isnull_list = df.isnull().sum().values.tolist()\n",
    "    isunique_list = df.nunique().values.tolist()\n",
    "    dtypes_list = df.dtypes.tolist()\n",
    "\n",
    "    list_stat_val = list(zip(columns_list, isnull_list, isunique_list, dtypes_list))\n",
    "    df_stat_val = pd.DataFrame(\n",
    "        list_stat_val, columns=[\"Name\", \"Null\", \"Unique\", \"Dtypes\"]\n",
    "    )\n",
    "    print(tabulate(df_stat_val, headers=\"keys\", tablefmt=\"psql\"))\n",
    "    return df.head()\n"
   ]
  },
  {
   "cell_type": "code",
   "execution_count": null,
   "metadata": {},
   "outputs": [],
   "source": [
    "#df_validated_by_cardiologist = pd.read_csv('data/core_model_performance/df_validated_by_cardiologist.csv')"
   ]
  },
  {
   "cell_type": "code",
   "execution_count": null,
   "metadata": {},
   "outputs": [],
   "source": [
    "import json\n",
    "def classify_severity(df, json_path):\n",
    "    # Load the JSON file\n",
    "    with open(json_path, 'r') as f:\n",
    "        severity_dict = json.load(f)\n",
    "\n",
    "    # Create new columns\n",
    "    df['diagnosis_category'] = 'NORMAL'\n",
    "    df['diagnosis_category_cardiologist'] = 'NORMAL'\n",
    "    df['diagnosis_category_muse'] = 'NORMAL'\n",
    "    df['ai_diagnosis_string'] = ''  # New column for AI diagnosis string\n",
    "\n",
    "    # Define the severity order\n",
    "    severity_order = ['NORMAL', 'BORDERLINE', 'PATHOLOGICAL']\n",
    "\n",
    "    # Iterate over each row\n",
    "    for index, row in df.iterrows():\n",
    "        severities = []\n",
    "        severities_cardiologist = []\n",
    "        severities_muse = []\n",
    "        ai_diagnosis = []  # List to store AI diagnosis\n",
    "\n",
    "        # Iterate over each column\n",
    "        for col in df.columns:\n",
    "            if col in severity_dict:\n",
    "                if row[col] == 1:\n",
    "                    severity = severity_dict[col]\n",
    "                    severities.append(severity)\n",
    "                    ai_diagnosis.append(col)  # Append column name to AI diagnosis\n",
    "            elif col.endswith('_CARDIOLOGIST'):\n",
    "                base_col = col[:-len('_CARDIOLOGIST')]\n",
    "                if base_col in severity_dict:\n",
    "                    if row[col] == 1:\n",
    "                        severity = severity_dict[base_col]\n",
    "                        severities_cardiologist.append(severity)\n",
    "            elif col.endswith('_MUSE'):\n",
    "                base_col = col[:-len('_MUSE')]\n",
    "                if base_col in severity_dict:\n",
    "                    if row[col] == 1:\n",
    "                        severity = severity_dict[base_col]\n",
    "                        severities_muse.append(severity)\n",
    "\n",
    "        # Assign the highest severity to the row\n",
    "        if severities:\n",
    "            max_severity = max(severities, key=lambda x: severity_order.index(x))\n",
    "            df.at[index, 'diagnosis_category'] = max_severity\n",
    "        if severities_cardiologist:\n",
    "            max_severity_cardiologist = max(severities_cardiologist, key=lambda x: severity_order.index(x))\n",
    "            df.at[index, 'diagnosis_category_cardiologist'] = max_severity_cardiologist\n",
    "        if severities_muse:\n",
    "            max_severity_muse = max(severities_muse, key=lambda x: severity_order.index(x))\n",
    "            df.at[index, 'diagnosis_category_muse'] = max_severity_muse\n",
    "\n",
    "        # Assign the AI diagnosis string to the row\n",
    "        df.at[index, 'ai_diagnosis_string'] = ', '.join(ai_diagnosis)\n",
    "\n",
    "    return df"
   ]
  },
  {
   "cell_type": "code",
   "execution_count": null,
   "metadata": {},
   "outputs": [],
   "source": [
    "df_validated_by_cardiologist = classify_severity(df_validated_by_cardiologist, 'utils/severity_classification.json')"
   ]
  },
  {
   "cell_type": "code",
   "execution_count": null,
   "metadata": {},
   "outputs": [],
   "source": [
    "# Sample 10 examples where diagnosis_category != diagnosis_category_cardiologist\n",
    "sample_df = df_validated_by_cardiologist[df_validated_by_cardiologist.diagnosis_category != df_validated_by_cardiologist.diagnosis_category_cardiologist].sample(10)\n",
    "\n",
    "# Print the diagnosis field and each adjudication for the sampled examples\n",
    "for _, row in sample_df.iterrows():\n",
    "    print(f\"Diagnosis: {row['diagnosis']}\")\n",
    "    print(f\"DeepECG Severity: {row['diagnosis_category']}\")\n",
    "    print(f\"Cardiologist Severity: {row['diagnosis_category_cardiologist']}\")\n",
    "    print(f\"Muse Severity: {row['diagnosis_category_muse']}\")\n",
    "    print(\"---\")\n"
   ]
  },
  {
   "cell_type": "code",
   "execution_count": null,
   "metadata": {},
   "outputs": [],
   "source": [
    "import seaborn as sns\n",
    "# Compute the confusion matrices separately\n",
    "cm_deepecg_cardiologist = pd.crosstab(df_validated_by_cardiologist['diagnosis_category'], \n",
    "                                      df_validated_by_cardiologist['diagnosis_category_cardiologist'],\n",
    "                                      rownames=['DeepECG'], colnames=['Cardiologist'])\n",
    "\n",
    "cm_deepecg_muse = pd.crosstab(df_validated_by_cardiologist['diagnosis_category'], \n",
    "                              df_validated_by_cardiologist['diagnosis_category_muse'],\n",
    "                              rownames=['DeepECG'], colnames=['Muse'])\n",
    "\n",
    "cm_cardiologist_muse = pd.crosstab(df_validated_by_cardiologist['diagnosis_category_cardiologist'], \n",
    "                                   df_validated_by_cardiologist['diagnosis_category_muse'],\n",
    "                                   rownames=['Cardiologist'], colnames=['Muse'])\n",
    "\n",
    "# Create a 3x3 subplot\n",
    "fig, ax = plt.subplots(1, 3, figsize=(15, 5))\n",
    "\n",
    "# Plot the confusion matrices\n",
    "sns.heatmap(cm_deepecg_cardiologist, annot=True, fmt='d', cmap='Blues', ax=ax[0], \n",
    "            cbar=False, square=True, linewidths=.5)\n",
    "ax[0].set_title('DeepECG vs Cardiologist')\n",
    "\n",
    "sns.heatmap(cm_deepecg_muse, annot=True, fmt='d', cmap='Blues', ax=ax[1],\n",
    "            cbar=False, square=True, linewidths=.5)  \n",
    "ax[1].set_title('DeepECG vs Muse')\n",
    "\n",
    "sns.heatmap(cm_cardiologist_muse, annot=True, fmt='d', cmap='Blues', ax=ax[2],\n",
    "            cbar=False, square=True, linewidths=.5)\n",
    "ax[2].set_title('Cardiologist vs Muse')  \n",
    "\n",
    "plt.tight_layout()\n",
    "plt.show()"
   ]
  },
  {
   "cell_type": "code",
   "execution_count": null,
   "metadata": {},
   "outputs": [],
   "source": [
    "# Combine df_validated_by_cardiologist.diagnosis_category and ai_diagnosis_string \n",
    "df_validated_by_cardiologist['diagnosis_category_ai'] = \"AI DIAGNOSIS: \" +  df_validated_by_cardiologist['diagnosis_category'] + ' - ' + df_validated_by_cardiologist['ai_diagnosis_string']\n",
    "\n",
    "# Combine diagnosis_category_cardiologist with 'diagnosis' string\n",
    "df_validated_by_cardiologist['diagnosis_category_cardiologist_full'] = \"CARDIO DIAGNOSIS: \" +  df_validated_by_cardiologist['diagnosis_category_cardiologist'] + ' - ' + df_validated_by_cardiologist['diagnosis'] \n"
   ]
  },
  {
   "cell_type": "code",
   "execution_count": null,
   "metadata": {},
   "outputs": [],
   "source": [
    "#df_validated_by_cardiologist.to_csv('/volume/DeepECG/data/core_model_performance/df_validated_by_cardiologist_with_diagnosis_category.csv')"
   ]
  },
  {
   "cell_type": "code",
   "execution_count": null,
   "metadata": {},
   "outputs": [],
   "source": [
    "df_ecg = pd.read_parquet('/media/data1/muse_ge/ECG_ad202207_1453937_cat_labels_v1.1_with_additional_columns.parquet')"
   ]
  },
  {
   "cell_type": "code",
   "execution_count": null,
   "metadata": {},
   "outputs": [],
   "source": [
    "display(df_ecg.loc[df_ecg['new_PatientID']=='0241579'][['RestingECG_TestDemographics_AcquisitionDate','RestingECG_TestDemographics_AcquisitionTime','Afib','Q wave (inferior - II, III, aVF)']])"
   ]
  },
  {
   "cell_type": "code",
   "execution_count": null,
   "metadata": {},
   "outputs": [],
   "source": [
    "# Keep only columns with 'RestingECG_' or 'npy_path' in df_ecg\n",
    "df_ecg = df_ecg.filter(regex='RestingECG_|npy_path')\n",
    "# Extract patient ID from npy_path column\n",
    "df_validated_by_cardiologist['patient_id'] = df_validated_by_cardiologist['npy_path'].str.split('/').str[-1].str.split('_').str[0]"
   ]
  },
  {
   "cell_type": "code",
   "execution_count": null,
   "metadata": {},
   "outputs": [],
   "source": [
    "# Merge df_validated_by_cardiologist and df_ecg on npy_path\n",
    "df_merged = pd.merge(df_validated_by_cardiologist, df_ecg, on='npy_path', how='inner')\n"
   ]
  },
  {
   "cell_type": "code",
   "execution_count": null,
   "metadata": {},
   "outputs": [],
   "source": [
    "display(df_merged.head(n=5))"
   ]
  },
  {
   "cell_type": "code",
   "execution_count": null,
   "metadata": {},
   "outputs": [],
   "source": [
    "display(df_merged.loc[df_merged['RestingECG_PatientDemographics_PatientID']=='0248327'])"
   ]
  },
  {
   "cell_type": "code",
   "execution_count": null,
   "metadata": {},
   "outputs": [],
   "source": [
    "from utils import plot_from_parquet\n",
    "# Set the plot style to default to reset the background color to white\n",
    "plt.style.use('default') \n",
    "\n",
    "\n",
    "# Plot cases where cardiologist says normal but DeepECG says pathological\n",
    "discrepancies_df = df_merged[(df_merged.diagnosis_category_cardiologist == 'PATHOLOGICAL') & \n",
    "                                                (df_merged.diagnosis_category == 'NORMAL')].reset_index(drop=True)\n",
    "discrepancies_df = discrepancies_df.sample(1)\n",
    "# Plot all cases\n",
    "for idx in range(len(discrepancies_df)):\n",
    "    image = plot_from_parquet.plot_from_parquet(\n",
    "        discrepancies_df, \n",
    "        patient_id_column=\"patient_id\",\n",
    "        index=idx,\n",
    "        diagnosis_column=\"diagnosis_category_ai\",\n",
    "        subtitle_column=\"diagnosis_category_cardiologist_full\",\n",
    "        save=True,\n",
    "        out_dir=\"ekg_JPEG\",\n",
    "        anonymize=False\n",
    "    )\n"
   ]
  },
  {
   "cell_type": "code",
   "execution_count": null,
   "metadata": {},
   "outputs": [],
   "source": [
    "import json\n",
    "\n",
    "# Load the severity classification JSON\n",
    "with open('utils/severity_classification.json', 'r') as f:\n",
    "    severity_dict = json.load(f)\n",
    "\n",
    "# Get unique diagnoses from the JSON\n",
    "diagnoses = list(severity_dict.keys())\n",
    "\n",
    "# Create an empty dataframe to store the sampled examples\n",
    "sampled_df = pd.DataFrame(columns=df_merged.columns)\n",
    "\n",
    "# Iterate over each diagnosis\n",
    "for diagnosis in diagnoses:\n",
    "    # Sample one example with agreement\n",
    "    try:\n",
    "        agreement_df = df_merged[(df_merged[diagnosis] == 1) & \n",
    "                                (df_merged.diagnosis_category_cardiologist == df_merged.diagnosis_category)]\n",
    "        if not agreement_df.empty:\n",
    "            sampled_df = pd.concat([sampled_df, agreement_df.sample(1)], ignore_index=True)\n",
    "        \n",
    "        # Sample one example with disagreement\n",
    "        disagreement_df = df_merged[(df_merged[diagnosis] == 1) & \n",
    "                                    (df_merged.diagnosis_category_cardiologist != df_merged.diagnosis_category)]\n",
    "        if not disagreement_df.empty:\n",
    "            sampled_df = pd.concat([sampled_df, disagreement_df.sample(1)], ignore_index=True)\n",
    "    except:\n",
    "        print(\"Column not found\", diagnosis)\n",
    "\n",
    "# Reset the index of the sampled dataframe\n",
    "#sampled_df = sampled_df.reset_index(drop=True)\n",
    "#sampled_df.to_csv('data/sampled_discrepancy_and_concordance_DeepECG_Cardiologist_20240413.csv')"
   ]
  },
  {
   "cell_type": "code",
   "execution_count": null,
   "metadata": {},
   "outputs": [],
   "source": [
    "# Plot all cases\n",
    "for idx in range(len(sampled_df)):\n",
    "    image = plot_from_parquet.plot_from_parquet(\n",
    "        sampled_df, \n",
    "        patient_id_column=\"patient_id\",\n",
    "        index=idx,\n",
    "        diagnosis_column=\"diagnosis_category_ai\",\n",
    "        subtitle_column=\"diagnosis_category_cardiologist_full\",\n",
    "        save=True,\n",
    "        out_dir=\"ekg_JPEG\",\n",
    "        anonymize=False\n",
    "    )\n"
   ]
  },
  {
   "cell_type": "code",
   "execution_count": null,
   "metadata": {},
   "outputs": [],
   "source": [
    "import os\n",
    "import boto3\n",
    "\n",
    "# Set up the S3 client with the specified region\n",
    "s3 = boto3.client('s3', region_name='ca-central-1')\n",
    "\n",
    "# Specify the directory containing the PNG files\n",
    "png_directory = 'ekg_JPEG'\n",
    "\n",
    "# Specify the S3 bucket name\n",
    "bucket_name = 'sampled-deepecg-cardiologist-performance'\n",
    "\n",
    "# Iterate through all PNG files in the directory\n",
    "for filename in os.listdir(png_directory):\n",
    "    if filename.endswith('.png'):\n",
    "        # Construct the full file path\n",
    "        file_path = os.path.join(png_directory, filename)\n",
    "        \n",
    "        # Upload the file to S3\n",
    "        s3.upload_file(file_path, bucket_name, filename)\n",
    "        \n",
    "        print(f'Uploaded {filename} to S3 bucket {bucket_name}')"
   ]
  },
  {
   "cell_type": "code",
   "execution_count": null,
   "metadata": {},
   "outputs": [],
   "source": []
  }
 ],
 "metadata": {
  "kernelspec": {
   "display_name": "pytorch",
   "language": "python",
   "name": "python3"
  },
  "language_info": {
   "codemirror_mode": {
    "name": "ipython",
    "version": 3
   },
   "file_extension": ".py",
   "mimetype": "text/x-python",
   "name": "python",
   "nbconvert_exporter": "python",
   "pygments_lexer": "ipython3"
  }
 },
 "nbformat": 4,
 "nbformat_minor": 2
}
