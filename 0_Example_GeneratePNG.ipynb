{
 "cells": [
  {
   "cell_type": "code",
   "execution_count": null,
   "metadata": {},
   "outputs": [],
   "source": [
    "import numpy as np\n",
    "import pandas as pd\n",
    "\n",
    "# pd.set_option('display.height', 1000)\n",
    "pd.set_option(\"display.max_rows\", 500)\n",
    "pd.set_option(\"display.max_columns\", 1000)\n",
    "pd.set_option(\"display.width\", 1000)\n",
    "pd.set_option(\"max_colwidth\", 1000)\n",
    "from IPython.core.display import HTML, display\n",
    "\n",
    "display(HTML(\"<style>.container { width:100% !important; }</style>\"))\n",
    "\n",
    "\n",
    "def df_stats(df):\n",
    "    from tabulate import tabulate\n",
    "\n",
    "    print(\"\\n***** Shape: \", df.shape, \" *****\\n\")\n",
    "\n",
    "    columns_list = df.columns.values.tolist()\n",
    "    isnull_list = df.isnull().sum().values.tolist()\n",
    "    isunique_list = df.nunique().values.tolist()\n",
    "    dtypes_list = df.dtypes.tolist()\n",
    "\n",
    "    list_stat_val = list(zip(columns_list, isnull_list, isunique_list, dtypes_list))\n",
    "    df_stat_val = pd.DataFrame(\n",
    "        list_stat_val, columns=[\"Name\", \"Null\", \"Unique\", \"Dtypes\"]\n",
    "    )\n",
    "    print(tabulate(df_stat_val, headers=\"keys\", tablefmt=\"psql\"))\n",
    "    return df.head()"
   ]
  },
  {
   "cell_type": "code",
   "execution_count": null,
   "metadata": {},
   "outputs": [],
   "source": [
    "df_parquet = pd.read_parquet('/media/data1/muse_ge/ECG_ad202207_1453937_cat_labels_MUSE_vs_CARDIOLOGIST_v1.2.parquet')"
   ]
  },
  {
   "cell_type": "code",
   "execution_count": null,
   "metadata": {},
   "outputs": [],
   "source": [
    "filtered_df = df_parquet[df_parquet['xml_path'].str.contains('MUSE_20221212_155611_05000.xml')]\n",
    "display(filtered_df.head(n=5))\n"
   ]
  },
  {
   "cell_type": "code",
   "execution_count": null,
   "metadata": {},
   "outputs": [],
   "source": [
    "import os\n",
    "import sys\n",
    "\n",
    "# Add necessary directories to sys.path\n",
    "dir2 = os.path.abspath(\"/volume/DeepECG_Preprocess\")\n",
    "dir1 = os.path.dirname(dir2)\n",
    "if dir1 not in sys.path:\n",
    "    sys.path.append(dir1)\n",
    "\n",
    "cli_xml2df_dir = os.path.abspath(\"/volume/DeepECG_Preprocess/utils\")\n",
    "if cli_xml2df_dir not in sys.path:\n",
    "    sys.path.append(cli_xml2df_dir)\n",
    "\n",
    "from DeepECG_Preprocess.utils.ecg_plotter import DataFrameECGPlotter\n",
    "\n",
    "# Set matplotlib background to white\n",
    "import matplotlib as mpl\n",
    "mpl.rcParams['figure.facecolor'] = 'white'\n",
    "mpl.rcParams['axes.facecolor'] = 'white'\n",
    "\n",
    "# Create a DataFrameECGPlotter instance\n",
    "plotter = DataFrameECGPlotter(\n",
    "    parquet_df=df_parquet,\n",
    "    index=2,  # Using index 100 as specified\n",
    "    npy_path_column=\"npy_path\",\n",
    "    patient_id_column=\"new_PatientID\",\n",
    "    diagnosis_column=\"diagnosis\",\n",
    "    dataset=\"MHI\",\n",
    "    out_dir=\"images\",\n",
    "    width=1000\n",
    ")\n",
    "\n",
    "# Plot the ECG\n",
    "img, save_path = plotter.plot_ecg(save=False, anonymize=False, show_diagnosis=True)\n",
    "\n",
    "# Display the image\n",
    "display(img)"
   ]
  },
  {
   "cell_type": "markdown",
   "metadata": {},
   "source": [
    "### MIMIC IV"
   ]
  },
  {
   "cell_type": "code",
   "execution_count": null,
   "metadata": {},
   "outputs": [],
   "source": [
    "import pandas as pd \n",
    "mimic = pd.read_csv('/media/data1/ravram/MIMIC-IV/joined_annotation_file.csv')\n",
    "\n",
    "# Identify rows containing 'hypertrophy' in the 'report' column\n",
    "hypertrophy_rows = mimic[mimic['report'].str.contains('left ventricular hypertrophy', case=False, na=False)]"
   ]
  },
  {
   "cell_type": "code",
   "execution_count": null,
   "metadata": {},
   "outputs": [],
   "source": [
    "import os\n",
    "import sys\n",
    "\n",
    "# Add necessary directories to sys.path\n",
    "dir2 = os.path.abspath(\"/volume/DeepECG_Preprocess\")\n",
    "dir1 = os.path.dirname(dir2)\n",
    "if dir1 not in sys.path:\n",
    "    sys.path.append(dir1)\n",
    "\n",
    "cli_xml2df_dir = os.path.abspath(\"/volume/DeepECG_Preprocess/utils\")\n",
    "if cli_xml2df_dir not in sys.path:\n",
    "    sys.path.append(cli_xml2df_dir)\n",
    "\n",
    "from DeepECG_Preprocess.utils.ecg_plotter import DataFrameECGPlotter\n",
    "\n",
    "# Set matplotlib background to white\n",
    "import matplotlib as mpl\n",
    "mpl.rcParams['figure.facecolor'] = 'white'\n",
    "mpl.rcParams['axes.facecolor'] = 'white'\n",
    "\n",
    "# Create a DataFrameECGPlotter instance\n",
    "plotter = DataFrameECGPlotter(\n",
    "    parquet_df=mimic,\n",
    "    index=2736,\n",
    "    npy_path_column=\"waveform_path\",\n",
    "    patient_id_column=\"new_PatientID\",\n",
    "    diagnosis_column=\"report\",\n",
    "    dataset=\"MIMICIV\",\n",
    "    out_dir=\".\",\n",
    "    width=1000\n",
    ")\n",
    "\n",
    "# Plot the ECG\n",
    "img, save_path = plotter.plot_ecg(save=False, anonymize=True, show_diagnosis=False)\n",
    "\n",
    "# Display the image\n",
    "display(img)"
   ]
  },
  {
   "cell_type": "code",
   "execution_count": null,
   "metadata": {},
   "outputs": [],
   "source": [
    "## Example to plot using a path to NUMPY\n",
    "\n",
    "from utils.multiprocessing_utils import process_multiple_ecgs\n",
    "from utils.ecg_plotter import create_ecg_plotter\n",
    "\n",
    "\n",
    "plotter = create_ecg_plotter(\"npy\", mimic['waveform_path'].iloc[2736], dataset=\"MIMICIV\")\n",
    "img, save_path = plotter.plot_ecg(save=False, anonymize=True, title=mimic['report'].iloc[2736])\n",
    "\n",
    "# Display the image\n",
    "display(img) "
   ]
  },
  {
   "cell_type": "code",
   "execution_count": null,
   "metadata": {},
   "outputs": [],
   "source": []
  }
 ],
 "metadata": {
  "kernelspec": {
   "display_name": "pytorch",
   "language": "python",
   "name": "python3"
  },
  "language_info": {
   "codemirror_mode": {
    "name": "ipython",
    "version": 3
   },
   "file_extension": ".py",
   "mimetype": "text/x-python",
   "name": "python",
   "nbconvert_exporter": "python",
   "pygments_lexer": "ipython3"
  }
 },
 "nbformat": 4,
 "nbformat_minor": 4
}
