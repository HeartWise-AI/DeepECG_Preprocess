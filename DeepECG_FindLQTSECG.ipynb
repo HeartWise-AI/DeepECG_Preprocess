{
 "cells": [
  {
   "cell_type": "code",
   "execution_count": null,
   "metadata": {},
   "outputs": [],
   "source": [
    "import numpy as np\n",
    "import pandas as pd\n",
    "\n",
    "# pd.set_option('display.height', 1000)\n",
    "pd.set_option(\"display.max_rows\", 500)\n",
    "pd.set_option(\"display.max_columns\", 500)\n",
    "pd.set_option(\"display.width\", 1000)\n",
    "pd.set_option(\"max_colwidth\", 200)\n",
    "from IPython.core.display import HTML, display\n",
    "\n",
    "display(HTML(\"<style>.container { width:100% !important; }</style>\"))\n",
    "\n",
    "\n",
    "import os\n",
    "\n",
    "os.environ[\"R_HOME\"] = \"/root/miniconda3/envs/R/lib/R\"\n",
    "\n",
    "import rpy2.robjects as objects\n",
    "from rpy2.robjects.packages import importr\n",
    "\n",
    "base = importr(\"base\")\n",
    "r_pROC = importr(\"pROC\")\n",
    "base._libPaths()[0]\n",
    "\n",
    "\n",
    "def df_stats(df):\n",
    "    from tabulate import tabulate\n",
    "\n",
    "    print(\"\\n***** Shape: \", df.shape, \" *****\\n\")\n",
    "\n",
    "    columns_list = df.columns.values.tolist()\n",
    "    isnull_list = df.isnull().sum().values.tolist()\n",
    "    isunique_list = df.nunique().values.tolist()\n",
    "    dtypes_list = df.dtypes.tolist()\n",
    "\n",
    "    list_stat_val = list(zip(columns_list, isnull_list, isunique_list, dtypes_list))\n",
    "    df_stat_val = pd.DataFrame(\n",
    "        list_stat_val, columns=[\"Name\", \"Null\", \"Unique\", \"Dtypes\"]\n",
    "    )\n",
    "    print(tabulate(df_stat_val, headers=\"keys\", tablefmt=\"psql\"))\n",
    "    return df.head()"
   ]
  },
  {
   "cell_type": "markdown",
   "metadata": {},
   "source": [
    "### Convert ECG to PARQUET"
   ]
  },
  {
   "cell_type": "code",
   "execution_count": null,
   "metadata": {},
   "outputs": [],
   "source": [
    "df_ecg = pd.read_csv(\n",
    "    \"/media/data1/ravram/DeepECG/ekg_waveforms_output/df_xml_2023_03_14_n_1633856.csv\"\n",
    ")\n",
    "df_ecg = df_ecg.drop(columns=[\"Unnamed: 0\"])"
   ]
  },
  {
   "cell_type": "code",
   "execution_count": null,
   "metadata": {},
   "outputs": [],
   "source": [
    "df_ecg[\"RestingECG_PatientDemographics_PatientID\"] = df_ecg[\n",
    "    \"RestingECG_PatientDemographics_PatientID\"\n",
    "].astype(str)\n",
    "df_ecg[\"RestingECG_TestDemographics_AnalysisSoftwareVersion\"] = df_ecg[\n",
    "    \"RestingECG_PatientDemographics_PatientID\"\n",
    "].astype(str)\n",
    "df_ecg[\"RestingECG_Order_ExtraADTData1\"] = df_ecg[\n",
    "    \"RestingECG_Order_ExtraADTData1\"\n",
    "].astype(str)\n",
    "df_ecg[\"RestingECG_ExtraQuestions_ExtraQuestion_0_Answer\"] = df_ecg[\n",
    "    \"RestingECG_ExtraQuestions_ExtraQuestion_0_Answer\"\n",
    "].astype(str)"
   ]
  },
  {
   "cell_type": "code",
   "execution_count": null,
   "metadata": {},
   "outputs": [],
   "source": [
    "### If column name contains RestingECG_Order  then convert column values to string:\n",
    "for col in df_ecg.columns:\n",
    "    if \"RestingECG_Order\" in col:\n",
    "        print(col)\n",
    "        df_ecg[col] = df_ecg[col].astype(str)"
   ]
  },
  {
   "cell_type": "code",
   "execution_count": null,
   "metadata": {},
   "outputs": [],
   "source": [
    "### If column name contains RestingECG_Order  then convert column values to string:\n",
    "for col in df_ecg.columns:\n",
    "    if \"RestingECG_ExtraQuestions_\" in col:\n",
    "        print(col)\n",
    "        df_ecg[col] = df_ecg[col].astype(str)"
   ]
  },
  {
   "cell_type": "code",
   "execution_count": null,
   "metadata": {},
   "outputs": [],
   "source": [
    "# df_ecg.to_parquet(\n",
    "#    \"/media/data1/ravram/DeepECG/ekg_waveforms_output/df_xml_2023_03_14_n_1633856.parquet\"\n",
    "# )"
   ]
  },
  {
   "cell_type": "markdown",
   "metadata": {},
   "source": [
    "## CHECK ECGs from df_LQTS"
   ]
  },
  {
   "cell_type": "code",
   "execution_count": null,
   "metadata": {},
   "outputs": [],
   "source": [
    "df_LQTS = pd.read_csv(\"data/LQTS/DeepECG-LQT-20230210.csv\", delim_whitespace=True)\n",
    "display(df_LQTS.head())"
   ]
  },
  {
   "cell_type": "code",
   "execution_count": null,
   "metadata": {},
   "outputs": [],
   "source": [
    "df_ecg = pd.read_parquet(\n",
    "    \"/media/data1/ravram/DeepECG/ekg_waveforms_output/df_xml_2023_03_14_n_1633856.parquet\"\n",
    ")"
   ]
  },
  {
   "cell_type": "code",
   "execution_count": null,
   "metadata": {},
   "outputs": [],
   "source": [
    "# Drop rows where RestingECG_PatientDemographics_PatientID is not an int\n",
    "df_ecg = df_ecg[df_ecg[\"RestingECG_PatientDemographics_PatientID\"].str.isdigit()]\n",
    "df_ecg[\"RestingECG_PatientDemographics_PatientID\"] = pd.to_numeric(\n",
    "    df_ecg[\"RestingECG_PatientDemographics_PatientID\"], errors=\"coerce\"\n",
    ")\n",
    "df_ecg[\"RestingECG_PatientDemographics_PatientID\"] = (\n",
    "    df_ecg[\"RestingECG_PatientDemographics_PatientID\"].fillna(0).astype(int)\n",
    ")\n",
    "\n",
    "##df_ecg = df_ecg['RestingECG_PatientDemographics_PatientID'].astype(int, errors='coerce')"
   ]
  },
  {
   "cell_type": "code",
   "execution_count": null,
   "metadata": {},
   "outputs": [],
   "source": [
    "## Check with of df_LQTS['Dossier'] is in df_ecg['RestingECG_PatientDemographics_PatientID']\n",
    "df_LQTS[\"Dossier\"] = df_LQTS[\"Dossier\"].astype(int)\n",
    "## Check if df_LQTS['Dossier'] is in df_ecg['RestingECG_PatientDemographics_PatientID']\n",
    "df_LQTS[\"Dossier\"] = df_LQTS[\"Dossier\"].astype(int)\n",
    "df_ecg[\"RestingECG_PatientDemographics_PatientID\"] = df_ecg[\n",
    "    \"RestingECG_PatientDemographics_PatientID\"\n",
    "].astype(int)"
   ]
  },
  {
   "cell_type": "code",
   "execution_count": null,
   "metadata": {},
   "outputs": [],
   "source": [
    "df_LQTS[\"Dossier_exists_in_ecg\"] = df_LQTS[\"Dossier\"].isin(\n",
    "    df_ecg[\"RestingECG_PatientDemographics_PatientID\"]\n",
    ")\n",
    "display(df_LQTS[\"Dossier_exists_in_ecg\"].value_counts())"
   ]
  },
  {
   "cell_type": "code",
   "execution_count": null,
   "metadata": {},
   "outputs": [],
   "source": [
    "df_ecg[\"Dossier_exists_in_ecg\"] = df_ecg[\n",
    "    \"RestingECG_PatientDemographics_PatientID\"\n",
    "].isin(df_LQTS[\"Dossier\"])"
   ]
  },
  {
   "cell_type": "code",
   "execution_count": null,
   "metadata": {},
   "outputs": [],
   "source": [
    "## Check if file at df_ecg['xml_path'] exists if df_ecg['Dossier_exists_in_ecg'] == True\n",
    "# df_ecg = df_ecg.loc[df_ecg['Dossier_exists_in_ecg']==True]\n",
    "# df_ecg['xml_path_exists'] = df_ecg['xml_path'].apply(lambda x: os.path.exists(x))\n",
    "# df_ecg['xml_path_exists'] = df_ecg['xml_path_exists'].astype(int)"
   ]
  },
  {
   "cell_type": "code",
   "execution_count": null,
   "metadata": {},
   "outputs": [],
   "source": [
    "#\n",
    "# df_ecg.loc[df_ecg['Dossier_exists_in_ecg']==True].to_csv('../lqts/data/ecg_lqts_rafik.csv')\n",
    "# display(df_ecg['xml_path_exists'].value_counts())\n",
    "\n",
    "df_ecg = pd.read_csv(\"../lqts/data/df_lqts_merged.csv\")\n",
    "display(df_ecg.head(n=2))"
   ]
  },
  {
   "cell_type": "code",
   "execution_count": null,
   "metadata": {},
   "outputs": [],
   "source": [
    "## Write a function to copy ECGs from df_ecg['xml_path'] to local folder and make 'folder' if it doesn't exist\n",
    "\n",
    "\n",
    "def copy_ecg_to_local_folder(df_ecg, output_folder=\"lqts_ecg/\"):\n",
    "    import shutil\n",
    "\n",
    "    from tqdm import tqdm\n",
    "\n",
    "    # If output_folder doesn't exist, create it\n",
    "    if not os.path.exists(output_folder):\n",
    "        os.makedirs(output_folder)\n",
    "\n",
    "    for index, row in tqdm(df_ecg.iterrows()):\n",
    "        if row[\"Dossier_exists_in_ecg\"] == True:\n",
    "            print(row[\"xml_path\"])\n",
    "            print(row[\"lqts_type\"])\n",
    "            ## Copy row['xml_path'] to output_folder\n",
    "            shutil.copy(row[\"xml_path\"], output_folder)"
   ]
  },
  {
   "cell_type": "code",
   "execution_count": null,
   "metadata": {},
   "outputs": [],
   "source": [
    "copy_ecg_to_local_folder(df_ecg[0:10])"
   ]
  },
  {
   "cell_type": "code",
   "execution_count": null,
   "metadata": {},
   "outputs": [],
   "source": [
    "import os\n",
    "import shutil\n",
    "\n",
    "import matplotlib.pyplot as plt\n",
    "## Load the first df_ecg['npy_path'] and detemrine the shape\n",
    "import numpy as np\n",
    "import pandas as pd\n",
    "from tqdm import tqdm\n",
    "\n",
    "ecg_array = np.load(df_ecg[\"npy_path\"].iloc[0])"
   ]
  },
  {
   "cell_type": "code",
   "execution_count": null,
   "metadata": {},
   "outputs": [],
   "source": [
    "display(ecg_array.shape)"
   ]
  }
 ],
 "metadata": {
  "kernelspec": {
   "display_name": "base",
   "language": "python",
   "name": "base"
  },
  "language_info": {
   "codemirror_mode": {
    "name": "ipython",
    "version": 3
   },
   "file_extension": ".py",
   "mimetype": "text/x-python",
   "name": "python",
   "nbconvert_exporter": "python",
   "pygments_lexer": "ipython3",
   "version": "3.8.15"
  },
  "orig_nbformat": 4
 },
 "nbformat": 4,
 "nbformat_minor": 2
}
