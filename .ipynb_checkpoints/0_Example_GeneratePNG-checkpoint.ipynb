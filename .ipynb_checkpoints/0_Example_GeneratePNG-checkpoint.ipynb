{
 "cells": [
  {
   "cell_type": "code",
   "execution_count": null,
   "metadata": {},
   "outputs": [],
   "source": [
    "import numpy as np\n",
    "import pandas as pd\n",
    "\n",
    "# pd.set_option('display.height', 1000)\n",
    "pd.set_option(\"display.max_rows\", 500)\n",
    "pd.set_option(\"display.max_columns\", 1000)\n",
    "pd.set_option(\"display.width\", 1000)\n",
    "pd.set_option(\"max_colwidth\", 1000)\n",
    "from IPython.core.display import HTML, display\n",
    "\n",
    "display(HTML(\"<style>.container { width:100% !important; }</style>\"))\n",
    "\n",
    "\n",
    "def df_stats(df):\n",
    "    from tabulate import tabulate\n",
    "\n",
    "    print(\"\\n***** Shape: \", df.shape, \" *****\\n\")\n",
    "\n",
    "    columns_list = df.columns.values.tolist()\n",
    "    isnull_list = df.isnull().sum().values.tolist()\n",
    "    isunique_list = df.nunique().values.tolist()\n",
    "    dtypes_list = df.dtypes.tolist()\n",
    "\n",
    "    list_stat_val = list(zip(columns_list, isnull_list, isunique_list, dtypes_list))\n",
    "    df_stat_val = pd.DataFrame(\n",
    "        list_stat_val, columns=[\"Name\", \"Null\", \"Unique\", \"Dtypes\"]\n",
    "    )\n",
    "    print(tabulate(df_stat_val, headers=\"keys\", tablefmt=\"psql\"))\n",
    "    return df.head()"
   ]
  },
  {
   "cell_type": "code",
   "execution_count": null,
   "metadata": {},
   "outputs": [],
   "source": [
    "df_output = pd.read_csv(\"data/20221002_ECG_mod_diagnosis.csv\")\n",
    "#Rename ecg_output_path to npy_path\n",
    "df_output = df_output.rename(columns={\"ecg_output_path\": \"npy_path\"})\n",
    "df_output = df_output.rename(columns={\"Original_Diagnosis\": \"original_diagnosis\"})\n",
    "df_output = df_output.rename(columns={\"patientid\": \"RestingECG_PatientDemographics_PatientID\"})\n",
    "df_output = df_output.rename(columns={\"AcquisitionDate\": \"RestingECG_TestDemographics_AcquisitionDate\"})\n",
    "df_output = df_output.rename(columns={\"AcquisitionTime\": \"RestingECG_TestDemographics_AcquisitionTime\"})\n",
    "display(df_output.head(n=5))"
   ]
  },
  {
   "cell_type": "code",
   "execution_count": null,
   "metadata": {},
   "outputs": [],
   "source": [
    "df_parquet = pd.read_parquet('/media/data1/muse_ge/ECG_ad202207_1453937_cat_labels_MUSE_vs_CARDIOLOGIST_v1.2.parquet')"
   ]
  },
  {
   "cell_type": "code",
   "execution_count": null,
   "metadata": {},
   "outputs": [],
   "source": [
    "from utils import plot_from_parquet\n",
    "plot_from_parquet.plot_from_parquet(\n",
    "    df_parquet_filtered,\n",
    "    index=100,\n",
    "    diagnosis_column=\"diagnosis\",\n",
    "    save=False,\n",
    "    out_dir=\".\",\n",
    ")"
   ]
  },
  {
   "cell_type": "code",
   "execution_count": null,
   "metadata": {},
   "outputs": [],
   "source": [
    "## Restrict df_output to 1000 most frequent diagnoses\n",
    "df_output_m = df_output.groupby(\"Diagnosis\").filter(lambda x: len(x) > 10)\n",
    "display(len(df_output_m.Diagnosis.value_counts()))\n",
    "## Randomly sample 2 of df_output['Diagnosis]\n",
    "df_output_sampled = (\n",
    "    df_output_m.groupby(\"Diagnosis\")\n",
    "    .apply(lambda x: x.sample(2, random_state=1))\n",
    "    .reset_index(drop=True)\n",
    ")\n",
    "display(df_output_sampled.Diagnosis.value_counts())\n",
    "#df_output_sampled.to_csv(\"data/20221002_ECG_mod_diagnosis_sampled_3600.csv\")"
   ]
  },
  {
   "cell_type": "code",
   "execution_count": null,
   "metadata": {},
   "outputs": [],
   "source": [
    "import pandas as pd\n",
    "from utils import plot_ecg_from_xml\n",
    "from multiprocessing import Pool\n",
    "\n",
    "\n",
    "df_parquet = pd.read_parquet('/media/data1/muse_ge/ECG_ad202207_1453937_cat_labels_MUSE_vs_CARDIOLOGIST_v1.2.parquet')\n",
    "def process_xml_path(xml_path):\n",
    "    result = plot_ecg_from_xml.plot_ecg_from_xml(xml_path, out_dir=\"ecg_jpeg/\", title=\"\", save=True, anonymize=False, width=1250)\n",
    "\n",
    "# Use multiprocessing Pool to parallelize the processing with 8 processes\n",
    "with Pool(processes=8) as pool:\n",
    "    results = pool.map(process_xml_path, df_parquet.xml_path)\n",
    "\n",
    "# Create a DataFrame with png_path and xml_path\n",
    "df_result = pd.DataFrame(results)\n",
    "\n",
    "display(df_result)\n"
   ]
  },
  {
   "cell_type": "code",
   "execution_count": null,
   "metadata": {},
   "outputs": [],
   "source": [
    "display(df_result.describe())"
   ]
  },
  {
   "cell_type": "code",
   "execution_count": null,
   "metadata": {},
   "outputs": [],
   "source": []
  }
 ],
 "metadata": {
  "kernelspec": {
   "display_name": "Python 3 (ipykernel)",
   "language": "python",
   "name": "python3"
  },
  "language_info": {
   "codemirror_mode": {
    "name": "ipython",
    "version": 3
   },
   "file_extension": ".py",
   "mimetype": "text/x-python",
   "name": "python",
   "nbconvert_exporter": "python",
   "pygments_lexer": "ipython3"
  }
 },
 "nbformat": 4,
 "nbformat_minor": 4
}
