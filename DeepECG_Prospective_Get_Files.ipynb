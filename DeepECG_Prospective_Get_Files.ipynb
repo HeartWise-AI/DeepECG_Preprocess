{
 "cells": [
  {
   "cell_type": "code",
   "execution_count": null,
   "metadata": {},
   "outputs": [],
   "source": [
    "import numpy as np\n",
    "import pandas as pd\n",
    "\n",
    "# pd.set_option('display.height', 1000)\n",
    "pd.set_option(\"display.max_rows\", 500)\n",
    "pd.set_option(\"display.max_columns\", 500)\n",
    "pd.set_option(\"display.width\", 1000)\n",
    "pd.set_option(\"max_colwidth\", 200)\n",
    "from IPython.core.display import HTML, display\n",
    "\n",
    "display(HTML(\"<style>.container { width:100% !important; }</style>\"))\n",
    "\n",
    "def df_stats(df):\n",
    "    from tabulate import tabulate\n",
    "\n",
    "    print(\"\\n***** Shape: \", df.shape, \" *****\\n\")\n",
    "\n",
    "    columns_list = df.columns.values.tolist()\n",
    "    isnull_list = df.isnull().sum().values.tolist()\n",
    "    isunique_list = df.nunique().values.tolist()\n",
    "    dtypes_list = df.dtypes.tolist()\n",
    "\n",
    "    list_stat_val = list(zip(columns_list, isnull_list, isunique_list, dtypes_list))\n",
    "    df_stat_val = pd.DataFrame(\n",
    "        list_stat_val, columns=[\"Name\", \"Null\", \"Unique\", \"Dtypes\"]\n",
    "    )\n",
    "    print(tabulate(df_stat_val, headers=\"keys\", tablefmt=\"psql\"))\n",
    "    return df.head()"
   ]
  },
  {
   "cell_type": "code",
   "execution_count": null,
   "metadata": {},
   "outputs": [],
   "source": [
    "import glob\n",
    "import os\n",
    "import pandas as pd\n",
    "from tqdm import tqdm\n",
    "\n",
    "path = \"/media/data1/muse_ge/deepecg_phase2\"\n",
    "all_files = glob.glob(os.path.join(path, \"*.xml\"))\n",
    "\n",
    "# Convert all_files to a DataFrame with a progress bar\n",
    "df = pd.DataFrame(tqdm(all_files, desc='Creating DataFrame'), columns=[\"path\"])\n",
    "display(df)"
   ]
  },
  {
   "cell_type": "code",
   "execution_count": null,
   "metadata": {},
   "outputs": [],
   "source": [
    "import CLI_xml2df as xml2df\n",
    "\n",
    "df_output = xml2df.tinyxml2df(\n",
    "    df, out_path=\"data/ekg_waveforms_output_phase_2/\"\n",
    ").read2flatten()\n",
    "\n",
    "df"
   ]
  },
  {
   "cell_type": "code",
   "execution_count": null,
   "metadata": {},
   "outputs": [],
   "source": [
    "import pandas as pd\n",
    "#df_output.to_csv('data/20231221_ekg_waveforms_output_phase_2_202311_20231221.csv')\n",
    "# Convert the 'AcquisitionDate' column to datetime\n",
    "df_output['RestingECG_TestDemographics_AcquisitionDate'] = pd.to_datetime(df_output['RestingECG_TestDemographics_AcquisitionDate'])\n",
    "\n",
    "# Extract the year and month from the 'AcquisitionDate' column\n",
    "df_output['Year'] = df_output['RestingECG_TestDemographics_AcquisitionDate'].dt.year\n",
    "df_output['Month'] = df_output['RestingECG_TestDemographics_AcquisitionDate'].dt.month\n",
    "\n",
    "# Group by year and month and count the number of entries\n",
    "entries_per_year_month = df_output.groupby(['Year', 'Month']).size()\n",
    "\n",
    "# Plot the number of entries per year and per month\n",
    "entries_per_year_month.plot(kind='bar', figsize=(12, 6))\n",
    "\n",
    "plt.xlabel('Year-Month')\n",
    "plt.ylabel('Number of Entries')\n",
    "plt.title('Number of Entries per Year-Month')\n",
    "plt.show()"
   ]
  },
  {
   "cell_type": "code",
   "execution_count": null,
   "metadata": {},
   "outputs": [],
   "source": [
    "import pandas as pd\n",
    "\n",
    "updated_df_old = pd.read_parquet('/media/data1/muse_ge/ECG_ad202207_1453937_cat_labels_v1.1.parquet')\n",
    "# Convert the 'AcquisitionDate' column to datetime\n",
    "updated_df_old['RestingECG_TestDemographics_AcquisitionDate'] = pd.to_datetime(updated_df_old['RestingECG_TestDemographics_AcquisitionDate'])\n",
    "\n",
    "# Extract the year and month from the 'AcquisitionDate' column\n",
    "updated_df_old['Year'] = updated_df_old['RestingECG_TestDemographics_AcquisitionDate'].dt.year\n",
    "updated_df_old['Month'] = updated_df_old['RestingECG_TestDemographics_AcquisitionDate'].dt.month\n",
    "\n",
    "# Group by year and month and count the number of entries\n",
    "entries_per_year_month = updated_df_old.groupby(['Year', 'Month']).size()\n",
    "december_entries = entries_per_year_month[entries_per_year_month.index.get_level_values('Month') == 12]\n",
    "print(december_entries)\n",
    "\n",
    "# Plot the number of entries per year and per month\n",
    "december_entries.plot(kind='bar', figsize=(12, 6))\n",
    "\n",
    "plt.xlabel('Year-Month')\n",
    "plt.ylabel('Number of Entries')\n",
    "plt.title('Number of Entries per Year-Month')\n",
    "plt.show()"
   ]
  },
  {
   "cell_type": "code",
   "execution_count": null,
   "metadata": {},
   "outputs": [],
   "source": []
  }
 ],
 "metadata": {
  "kernelspec": {
   "display_name": "torch",
   "language": "python",
   "name": "python3"
  },
  "language_info": {
   "codemirror_mode": {
    "name": "ipython",
    "version": 3
   },
   "file_extension": ".py",
   "mimetype": "text/x-python",
   "name": "python",
   "nbconvert_exporter": "python",
   "pygments_lexer": "ipython3"
  }
 },
 "nbformat": 4,
 "nbformat_minor": 2
}
